{
  "nbformat": 4,
  "nbformat_minor": 0,
  "metadata": {
    "colab": {
      "name": "Timing_v2_modified - CPU.ipynb",
      "provenance": [],
      "collapsed_sections": [],
      "include_colab_link": true
    },
    "kernelspec": {
      "name": "python3",
      "display_name": "Python 3"
    }
  },
  "cells": [
    {
      "cell_type": "markdown",
      "metadata": {
        "id": "view-in-github",
        "colab_type": "text"
      },
      "source": [
        "<a href=\"https://colab.research.google.com/github/ktam069/Google_Colab_Audiovisual/blob/master/Timing_v2_modified_CPU.ipynb\" target=\"_parent\"><img src=\"https://colab.research.google.com/assets/colab-badge.svg\" alt=\"Open In Colab\"/></a>"
      ]
    },
    {
      "cell_type": "markdown",
      "metadata": {
        "id": "uH9AshiaQU6o",
        "colab_type": "text"
      },
      "source": [
        "Timing speed of bill v2 on CPU"
      ]
    },
    {
      "cell_type": "code",
      "metadata": {
        "id": "n60gJIp1t1_8",
        "colab_type": "code",
        "outputId": "05dee443-76fd-440d-d845-a3c46f4cbffd",
        "colab": {
          "base_uri": "https://localhost:8080/",
          "height": 121
        }
      },
      "source": [
        "from google.colab import drive\n",
        "drive.mount('/content/gdrive')"
      ],
      "execution_count": 1,
      "outputs": [
        {
          "output_type": "stream",
          "text": [
            "Go to this URL in a browser: https://accounts.google.com/o/oauth2/auth?client_id=947318989803-6bn6qk8qdgf4n4g3pfee6491hc0brc4i.apps.googleusercontent.com&redirect_uri=urn%3Aietf%3Awg%3Aoauth%3A2.0%3Aoob&scope=email%20https%3A%2F%2Fwww.googleapis.com%2Fauth%2Fdocs.test%20https%3A%2F%2Fwww.googleapis.com%2Fauth%2Fdrive%20https%3A%2F%2Fwww.googleapis.com%2Fauth%2Fdrive.photos.readonly%20https%3A%2F%2Fwww.googleapis.com%2Fauth%2Fpeopleapi.readonly&response_type=code\n",
            "\n",
            "Enter your authorization code:\n",
            "··········\n",
            "Mounted at /content/gdrive\n"
          ],
          "name": "stdout"
        }
      ]
    },
    {
      "cell_type": "code",
      "metadata": {
        "id": "6NEPrT0VuNyd",
        "colab_type": "code",
        "outputId": "d6756347-08ef-4590-9b23-f731edf7d5a1",
        "colab": {
          "base_uri": "https://localhost:8080/",
          "height": 605
        }
      },
      "source": [
        "!ls '/content/gdrive/My Drive/Part IV Project/Colab Modified/test_inputs/'"
      ],
      "execution_count": 2,
      "outputs": [
        {
          "output_type": "stream",
          "text": [
            "cRMs_output_00000-00011-.npy  mix_00001-00005-.npy  mix_00005-00009-.npy\n",
            "face_embs_00000-00011-.npy    mix_00001-00006-.npy  mix_00005-00010-.npy\n",
            "face_embs_00000-00019-.npy    mix_00001-00007-.npy  mix_00005-00011-.npy\n",
            "face_embs_00001-00015-.npy    mix_00001-00008-.npy  mix_00005-00014-.npy\n",
            "face_embs_00001-00019-.npy    mix_00001-00009-.npy  mix_00005-00015-.npy\n",
            "face_embs_00003-00015-.npy    mix_00001-00010-.npy  mix_00005-00016-.npy\n",
            "face_embs_00004-00009-.npy    mix_00001-00011-.npy  mix_00005-00018-.npy\n",
            "face_embs_00007-00010-.npy    mix_00001-00014-.npy  mix_00005-00019-.npy\n",
            "face_embs_00007-00015-.npy    mix_00001-00015-.npy  mix_00006-00009-.npy\n",
            "face_embs_00007-00016-.npy    mix_00001-00016-.npy  mix_00006-00010-.npy\n",
            "face_embs_00008-00014-.npy    mix_00001-00018-.npy  mix_00006-00011-.npy\n",
            "face_embs_00008-00016-.npy    mix_00001-00019-.npy  mix_00006-00014-.npy\n",
            "max_expand_00000-00011-.npy   mix_00003-00005-.npy  mix_00006-00015-.npy\n",
            "max_expand_00000-00019-.npy   mix_00003-00006-.npy  mix_00006-00016-.npy\n",
            "max_expand_00001-00015-.npy   mix_00003-00007-.npy  mix_00006-00018-.npy\n",
            "max_expand_00001-00019-.npy   mix_00003-00008-.npy  mix_00006-00019-.npy\n",
            "max_expand_00003-00015-.npy   mix_00003-00009-.npy  mix_00007-00009-.npy\n",
            "max_expand_00004-00009-.npy   mix_00003-00010-.npy  mix_00007-00010-.npy\n",
            "max_expand_00007-00010-.npy   mix_00003-00011-.npy  mix_00007-00011-.npy\n",
            "max_expand_00007-00015-.npy   mix_00003-00014-.npy  mix_00007-00014-.npy\n",
            "max_expand_00007-00016-.npy   mix_00003-00015-.npy  mix_00007-00015-.npy\n",
            "max_expand_00008-00014-.npy   mix_00003-00016-.npy  mix_00007-00016-.npy\n",
            "max_expand_00008-00016-.npy   mix_00003-00018-.npy  mix_00007-00018-.npy\n",
            "mix_00000-00005-.npy\t      mix_00003-00019-.npy  mix_00007-00019-.npy\n",
            "mix_00000-00006-.npy\t      mix_00004-00005-.npy  mix_00008-00009-.npy\n",
            "mix_00000-00007-.npy\t      mix_00004-00006-.npy  mix_00008-00010-.npy\n",
            "mix_00000-00008-.npy\t      mix_00004-00007-.npy  mix_00008-00011-.npy\n",
            "mix_00000-00009-.npy\t      mix_00004-00009-.npy  mix_00008-00014-.npy\n",
            "mix_00000-00010-.npy\t      mix_00004-00010-.npy  mix_00008-00015-.npy\n",
            "mix_00000-00011-.npy\t      mix_00004-00011-.npy  mix_00008-00016-.npy\n",
            "mix_00000-00014-.npy\t      mix_00004-00014-.npy  mix_00008-00018-.npy\n",
            "mix_00000-00015-.npy\t      mix_00004-00015-.npy  mix_00008-00019-.npy\n",
            "mix_00000-00016-.npy\t      mix_00004-00016-.npy  test_inputs_saved.PNG\n",
            "mix_00000-00018-.npy\t      mix_00004-00018-.npy\n",
            "mix_00000-00019-.npy\t      mix_00004-00019-.npy\n"
          ],
          "name": "stdout"
        }
      ]
    },
    {
      "cell_type": "code",
      "metadata": {
        "id": "iNMs_T4cwABx",
        "colab_type": "code",
        "colab": {}
      },
      "source": [
        "!cp -r '/content/gdrive/My Drive/Part IV Project/Colab Modified/test_inputs/' \"test_inputs/\""
      ],
      "execution_count": 0,
      "outputs": []
    },
    {
      "cell_type": "code",
      "metadata": {
        "id": "9v9pJQF4uNrK",
        "colab_type": "code",
        "outputId": "1f9a0e03-c3a0-432c-f017-da2ffdbe4c30",
        "colab": {
          "base_uri": "https://localhost:8080/",
          "height": 34
        }
      },
      "source": [
        "!ls"
      ],
      "execution_count": 4,
      "outputs": [
        {
          "output_type": "stream",
          "text": [
            "gdrive\tsample_data  test_inputs\n"
          ],
          "name": "stdout"
        }
      ]
    },
    {
      "cell_type": "code",
      "metadata": {
        "id": "6ay9WthtGN4Q",
        "colab_type": "code",
        "outputId": "ed9be036-eae8-4dfa-e650-a3c1b10dd81a",
        "colab": {
          "base_uri": "https://localhost:8080/",
          "height": 605
        }
      },
      "source": [
        "!ls \"test_inputs/\""
      ],
      "execution_count": 5,
      "outputs": [
        {
          "output_type": "stream",
          "text": [
            "cRMs_output_00000-00011-.npy  mix_00001-00005-.npy  mix_00005-00009-.npy\n",
            "face_embs_00000-00011-.npy    mix_00001-00006-.npy  mix_00005-00010-.npy\n",
            "face_embs_00000-00019-.npy    mix_00001-00007-.npy  mix_00005-00011-.npy\n",
            "face_embs_00001-00015-.npy    mix_00001-00008-.npy  mix_00005-00014-.npy\n",
            "face_embs_00001-00019-.npy    mix_00001-00009-.npy  mix_00005-00015-.npy\n",
            "face_embs_00003-00015-.npy    mix_00001-00010-.npy  mix_00005-00016-.npy\n",
            "face_embs_00004-00009-.npy    mix_00001-00011-.npy  mix_00005-00018-.npy\n",
            "face_embs_00007-00010-.npy    mix_00001-00014-.npy  mix_00005-00019-.npy\n",
            "face_embs_00007-00015-.npy    mix_00001-00015-.npy  mix_00006-00009-.npy\n",
            "face_embs_00007-00016-.npy    mix_00001-00016-.npy  mix_00006-00010-.npy\n",
            "face_embs_00008-00014-.npy    mix_00001-00018-.npy  mix_00006-00011-.npy\n",
            "face_embs_00008-00016-.npy    mix_00001-00019-.npy  mix_00006-00014-.npy\n",
            "max_expand_00000-00011-.npy   mix_00003-00005-.npy  mix_00006-00015-.npy\n",
            "max_expand_00000-00019-.npy   mix_00003-00006-.npy  mix_00006-00016-.npy\n",
            "max_expand_00001-00015-.npy   mix_00003-00007-.npy  mix_00006-00018-.npy\n",
            "max_expand_00001-00019-.npy   mix_00003-00008-.npy  mix_00006-00019-.npy\n",
            "max_expand_00003-00015-.npy   mix_00003-00009-.npy  mix_00007-00009-.npy\n",
            "max_expand_00004-00009-.npy   mix_00003-00010-.npy  mix_00007-00010-.npy\n",
            "max_expand_00007-00010-.npy   mix_00003-00011-.npy  mix_00007-00011-.npy\n",
            "max_expand_00007-00015-.npy   mix_00003-00014-.npy  mix_00007-00014-.npy\n",
            "max_expand_00007-00016-.npy   mix_00003-00015-.npy  mix_00007-00015-.npy\n",
            "max_expand_00008-00014-.npy   mix_00003-00016-.npy  mix_00007-00016-.npy\n",
            "max_expand_00008-00016-.npy   mix_00003-00018-.npy  mix_00007-00018-.npy\n",
            "mix_00000-00005-.npy\t      mix_00003-00019-.npy  mix_00007-00019-.npy\n",
            "mix_00000-00006-.npy\t      mix_00004-00005-.npy  mix_00008-00009-.npy\n",
            "mix_00000-00007-.npy\t      mix_00004-00006-.npy  mix_00008-00010-.npy\n",
            "mix_00000-00008-.npy\t      mix_00004-00007-.npy  mix_00008-00011-.npy\n",
            "mix_00000-00009-.npy\t      mix_00004-00009-.npy  mix_00008-00014-.npy\n",
            "mix_00000-00010-.npy\t      mix_00004-00010-.npy  mix_00008-00015-.npy\n",
            "mix_00000-00011-.npy\t      mix_00004-00011-.npy  mix_00008-00016-.npy\n",
            "mix_00000-00014-.npy\t      mix_00004-00014-.npy  mix_00008-00018-.npy\n",
            "mix_00000-00015-.npy\t      mix_00004-00015-.npy  mix_00008-00019-.npy\n",
            "mix_00000-00016-.npy\t      mix_00004-00016-.npy  test_inputs_saved.PNG\n",
            "mix_00000-00018-.npy\t      mix_00004-00018-.npy\n",
            "mix_00000-00019-.npy\t      mix_00004-00019-.npy\n"
          ],
          "name": "stdout"
        }
      ]
    },
    {
      "cell_type": "code",
      "metadata": {
        "id": "hWefC4ngp035",
        "colab_type": "code",
        "outputId": "9d110322-3819-46da-fa7a-8917884eecc9",
        "colab": {
          "base_uri": "https://localhost:8080/",
          "height": 34
        }
      },
      "source": [
        "# TensorFlow and tf.keras\n",
        "import tensorflow as tf\n",
        "from tensorflow import keras\n",
        "\n",
        "# Helper libraries\n",
        "import numpy as np\n",
        "import matplotlib.pyplot as plt\n",
        "import os\n",
        "import subprocess\n",
        "\n",
        "print(tf.__version__)"
      ],
      "execution_count": 6,
      "outputs": [
        {
          "output_type": "stream",
          "text": [
            "1.14.0\n"
          ],
          "name": "stdout"
        }
      ]
    },
    {
      "cell_type": "code",
      "metadata": {
        "id": "7679ufopFw3S",
        "colab_type": "code",
        "colab": {}
      },
      "source": [
        "'''Load one entry of the dataset'''\n",
        "mix_expand_path = \"test_inputs/\" + \"max_expand_00000-00011-.npy\"\n",
        "face_embs_path = \"test_inputs/\" + \"face_embs_00000-00011-.npy\"\n",
        "mix_path = \"test_inputs/\" + \"mix_00000-00011-.npy\"\n",
        "\n",
        "mix_expand = np.load(mix_expand_path)\n",
        "face_embs = np.load(face_embs_path)\n",
        "mix = np.load(mix_path)"
      ],
      "execution_count": 0,
      "outputs": []
    },
    {
      "cell_type": "code",
      "metadata": {
        "id": "4-hzh6I6usAv",
        "colab_type": "code",
        "outputId": "760c63ac-a843-46dd-e31c-e36ab0993704",
        "colab": {
          "base_uri": "https://localhost:8080/",
          "height": 67
        }
      },
      "source": [
        "print(mix_expand.shape)\n",
        "print(face_embs.shape)\n",
        "print(mix.shape)"
      ],
      "execution_count": 8,
      "outputs": [
        {
          "output_type": "stream",
          "text": [
            "(1, 298, 257, 2)\n",
            "(1, 75, 1, 1792, 2)\n",
            "(298, 257, 2)\n"
          ],
          "name": "stdout"
        }
      ]
    },
    {
      "cell_type": "code",
      "metadata": {
        "id": "nSNqSpqPGjGE",
        "colab_type": "code",
        "outputId": "b7a575cf-1667-460c-d110-dc5b4ec143d2",
        "colab": {
          "base_uri": "https://localhost:8080/",
          "height": 67
        }
      },
      "source": [
        "dataset = [mix_expand, face_embs]\n",
        "#dataset = np.array(dataset)\n",
        "#print(dataset.shape)\n",
        "print(len(dataset))\n",
        "print(len(dataset[0][0]))\n",
        "print(len(dataset[1][0]))"
      ],
      "execution_count": 9,
      "outputs": [
        {
          "output_type": "stream",
          "text": [
            "2\n",
            "298\n",
            "75\n"
          ],
          "name": "stdout"
        }
      ]
    },
    {
      "cell_type": "code",
      "metadata": {
        "id": "U15qWKmHuNvK",
        "colab_type": "code",
        "colab": {}
      },
      "source": [
        "!cp '/content/gdrive/My Drive/Part IV Project/Colab TFServing/AVmodel-2p-006-0.75753.h5' \"AVmodel-2p-006-0.75753.h5\""
      ],
      "execution_count": 0,
      "outputs": []
    },
    {
      "cell_type": "code",
      "metadata": {
        "id": "73R1XPTiFjpY",
        "colab_type": "code",
        "colab": {}
      },
      "source": [
        "def audio_discriminate_loss2(gamma=0.1,beta = 2*0.1,num_speaker=2):\n",
        "    def loss_func(S_true,S_pred,gamma=gamma,beta=beta,num_speaker=num_speaker):\n",
        "        import keras.backend as K\n",
        "        sum_mtr = K.zeros_like(S_true[:,:,:,:,0])\n",
        "        for i in range(num_speaker):\n",
        "            sum_mtr += K.square(S_true[:,:,:,:,i]-S_pred[:,:,:,:,i])\n",
        "            for j in range(num_speaker):\n",
        "                if i != j:\n",
        "                    sum_mtr -= gamma*(K.square(S_true[:,:,:,:,i]-S_pred[:,:,:,:,j]))\n",
        "\n",
        "        for i in range(num_speaker):\n",
        "            for j in range(i+1,num_speaker):\n",
        "                #sum_mtr -= beta*K.square(S_pred[:,:,:,i]-S_pred[:,:,:,j])\n",
        "                #sum_mtr += beta*K.square(S_true[:,:,:,:,i]-S_true[:,:,:,:,j])\n",
        "                pass\n",
        "        #sum = K.sum(K.maximum(K.flatten(sum_mtr),0))\n",
        "\n",
        "        loss = K.mean(K.flatten(sum_mtr))\n",
        "\n",
        "        return loss\n",
        "    return loss_func\n",
        "\n",
        "audio_loss = audio_discriminate_loss2"
      ],
      "execution_count": 0,
      "outputs": []
    },
    {
      "cell_type": "code",
      "metadata": {
        "id": "wZ9vfGGBFwXF",
        "colab_type": "code",
        "colab": {}
      },
      "source": [
        "# PATH\n",
        "# model_path = './AVmodel-2p-002-0.87080.h5'\t# 234K\n",
        "model_path = './AVmodel-2p-006-0.75753.h5'\t# 50K"
      ],
      "execution_count": 0,
      "outputs": []
    },
    {
      "cell_type": "code",
      "metadata": {
        "id": "FNgGQ_t9LIiD",
        "colab_type": "code",
        "colab": {}
      },
      "source": [
        "from tensorflow.keras.models import load_model"
      ],
      "execution_count": 0,
      "outputs": []
    },
    {
      "cell_type": "code",
      "metadata": {
        "id": "bqA1MexrKyll",
        "colab_type": "code",
        "outputId": "2e93e843-169c-488d-e7ec-018b3fbad9df",
        "colab": {
          "base_uri": "https://localhost:8080/",
          "height": 289
        }
      },
      "source": [
        "'''Load model'''\n",
        "# super parameters\n",
        "people_num = 2\n",
        "epochs = 100\n",
        "initial_epoch = 0\n",
        "batch_size = 2 # 4 to feed one 16G GPU\n",
        "gamma_loss = 0.1\n",
        "beta_loss = gamma_loss*2\n",
        "\n",
        "loss_func = audio_loss(gamma=gamma_loss,beta=beta_loss, num_speaker=people_num)\n",
        "#model = load_model(model_path)\n",
        "model = load_model(model_path,custom_objects={\"tf\": tf, 'loss_func': loss_func})"
      ],
      "execution_count": 15,
      "outputs": [
        {
          "output_type": "stream",
          "text": [
            "WARNING:tensorflow:From ../lib/model_AV_new.py:20: The name tf.image.resize_bilinear is deprecated. Please use tf.compat.v1.image.resize_bilinear instead.\n",
            "\n",
            "WARNING:tensorflow:From /usr/local/lib/python3.6/dist-packages/tensorflow/python/ops/init_ops.py:97: calling VarianceScaling.__init__ (from tensorflow.python.ops.init_ops) with dtype is deprecated and will be removed in a future version.\n",
            "Instructions for updating:\n",
            "Call initializer instance with the dtype argument instead of passing it to the constructor\n",
            "WARNING:tensorflow:From /usr/local/lib/python3.6/dist-packages/tensorflow/python/ops/init_ops.py:97: calling Orthogonal.__init__ (from tensorflow.python.ops.init_ops) with dtype is deprecated and will be removed in a future version.\n",
            "Instructions for updating:\n",
            "Call initializer instance with the dtype argument instead of passing it to the constructor\n",
            "WARNING:tensorflow:From /usr/local/lib/python3.6/dist-packages/tensorflow/python/ops/init_ops.py:97: calling Zeros.__init__ (from tensorflow.python.ops.init_ops) with dtype is deprecated and will be removed in a future version.\n",
            "Instructions for updating:\n",
            "Call initializer instance with the dtype argument instead of passing it to the constructor\n",
            "WARNING:tensorflow:From /usr/local/lib/python3.6/dist-packages/tensorflow/python/util/deprecation.py:507: calling VarianceScaling.__init__ (from tensorflow.python.ops.init_ops) with distribution=normal is deprecated and will be removed in a future version.\n",
            "Instructions for updating:\n",
            "`normal` is a deprecated alias for `truncated_normal`\n",
            "WARNING:tensorflow:No training configuration found in save file: the model was *not* compiled. Compile it manually.\n"
          ],
          "name": "stdout"
        }
      ]
    },
    {
      "cell_type": "code",
      "metadata": {
        "id": "auts4kM6X_Cs",
        "colab_type": "code",
        "colab": {}
      },
      "source": [
        "import numpy as np\n",
        "import librosa\n",
        "import os \n",
        "from tensorflow.python.framework import tensor_util\n",
        "import tensorflow as tf\n",
        "from tensorflow.python.platform import gfile\n",
        "from tensorflow.core.framework import graph_pb2\n",
        "import operator\n",
        "import itertools\n",
        "from numpy import inf\n",
        "\n",
        "#### Load Data ####\n",
        "# windowing fft/ifft function\n",
        "def stft(data, fft_size=512, step_size=160,padding=True):\n",
        "    # short time fourier transform\n",
        "    if padding == True:\n",
        "        # for 16K sample rate data, 48192-192 = 48000\n",
        "        pad = np.zeros(192,)\n",
        "        data = np.concatenate((data,pad),axis=0)\n",
        "    # padding hanning window 512-400 = 112\n",
        "    window = np.concatenate((np.zeros((56,)),np.hanning(fft_size-112),np.zeros((56,))),axis=0)\n",
        "    win_num = (len(data) - fft_size) // step_size\n",
        "    out = np.ndarray((win_num, fft_size), dtype=data.dtype)\n",
        "    for i in range(win_num):\n",
        "        left = int(i * step_size)\n",
        "        right = int(left + fft_size)\n",
        "        out[i] = data[left: right] * window\n",
        "    F = np.fft.rfft(out, axis=1)\n",
        "    return F\n",
        "\n",
        "def istft(F, fft_size=512, step_size=160,padding=True):\n",
        "    # inverse short time fourier transform\n",
        "    data = np.fft.irfft(F, axis=-1)\n",
        "    # padding hanning window 512-400 = 112\n",
        "    window = np.concatenate((np.zeros((56,)),np.hanning(fft_size-112),np.zeros((56,))),axis=0)\n",
        "    number_windows = F.shape[0]\n",
        "    T = np.zeros((number_windows * step_size + fft_size))\n",
        "    for i in range(number_windows):\n",
        "        head = int(i * step_size)\n",
        "        tail = int(head + fft_size)\n",
        "        T[head:tail] = T[head:tail] + data[i, :] * window\n",
        "    if padding == True:\n",
        "        T = T[:48000]\n",
        "    return T\n",
        "\n",
        "# combine FFT bins to mel frequency bins\n",
        "def mel2freq(mel_data,sr,fft_size,n_mel,fmax=8000):\n",
        "    matrix= librosa.filters.mel(sr, fft_size, n_mel, fmax=fmax)\n",
        "    return np.dot(mel_data,matrix)\n",
        "\n",
        "def freq2mel(f_data,sr,fft_size,n_mel,fmax=8000):\n",
        "    pre_matrix = librosa.filters.mel(sr, fft_size, n_mel, fmax=fmax)\n",
        "    matrix = pre_matrix.T / np.sum(pre_matrix.T,axis=0)\n",
        "    return np.dot(f_data,matrix)\n",
        "\n",
        "# directly time to mel domain transformation\n",
        "def time_to_mel(data,sr,fft_size,n_mel,step_size,fmax=8000):\n",
        "    F = stft(data,fft_size,step_size)\n",
        "    M = freq2mel(F,sr,fft_size,n_mel,fmax=8000)\n",
        "    return M\n",
        "\n",
        "def mel_to_time(M,sr,fft_size,n_mel,step_size,fmax=8000):\n",
        "    F = mel2freq(M,sr,fft_size,n_mel)\n",
        "    T = istft(F,fft_size,step_size)\n",
        "    return T\n",
        "\n",
        "def real_imag_expand(c_data,dim='new'):\n",
        "    # dim = 'new' or 'same'\n",
        "    # expand the complex data to 2X data with true real and image number\n",
        "    if dim == 'new':\n",
        "        D = np.zeros((c_data.shape[0],c_data.shape[1],2))\n",
        "        D[:,:,0] = np.real(c_data)\n",
        "        D[:,:,1] = np.imag(c_data)\n",
        "        return D\n",
        "    if dim =='same':\n",
        "        D = np.zeros((c_data.shape[0],c_data.shape[1]*2))\n",
        "        D[:,::2] = np.real(c_data)\n",
        "        D[:,1::2] = np.imag(c_data)\n",
        "        return D\n",
        "\n",
        "def real_imag_shrink(F,dim='new'):\n",
        "    # dim = 'new' or 'same'\n",
        "    # shrink the complex data to combine real and imag number\n",
        "    F_shrink = np.zeros((F.shape[0], F.shape[1]))\n",
        "    if dim =='new':\n",
        "        F_shrink = F[:,:,0] + F[:,:,1]*1j\n",
        "    if dim =='same':\n",
        "        F_shrink = F[:,::2] + F[:,1::2]*1j\n",
        "    return F_shrink\n",
        "\n",
        "def power_law(data,power=0.6):\n",
        "    # assume input has negative value\n",
        "    mask = np.zeros(data.shape)\n",
        "    mask[data>=0] = 1\n",
        "    mask[data<0] = -1\n",
        "    data = np.power(np.abs(data),power)\n",
        "    data = data*mask\n",
        "    return data\n",
        "\n",
        "def fast_stft(data,power=False,**kwargs):\n",
        "    # directly transform the wav to the input\n",
        "    # power law = A**0.3 , to prevent loud audio from overwhelming soft audio\n",
        "    if power:\n",
        "        data = power_law(data)\n",
        "    return real_imag_expand(stft(data))\n",
        "\n",
        "def fast_istft(F,power=False,**kwargs):\n",
        "    # directly transform the frequency domain data to time domain data\n",
        "    # apply power law\n",
        "    T = istft(real_imag_shrink(F))\n",
        "    if power:\n",
        "        T = power_law(T,(1.0/0.6))\n",
        "    return T\n",
        "\n",
        "\n",
        "def generate_cRM(Y,S):\n",
        "    '''\n",
        "\n",
        "    :param Y: mixed/noisy stft\n",
        "    :param S: clean stft\n",
        "    :return: structed cRM\n",
        "    '''\n",
        "    M = np.zeros(Y.shape)\n",
        "    epsilon = 1e-8\n",
        "    # real part\n",
        "    M_real = np.multiply(Y[:,:,0],S[:,:,0])+np.multiply(Y[:,:,1],S[:,:,1])\n",
        "    square_real = np.square(Y[:,:,0])+np.square(Y[:,:,1])\n",
        "    M_real = np.divide(M_real,square_real+epsilon)\n",
        "    M[:,:,0] = M_real\n",
        "    # imaginary part\n",
        "    M_img = np.multiply(Y[:,:,0],S[:,:,1])-np.multiply(Y[:,:,1],S[:,:,0])\n",
        "    square_img = np.square(Y[:,:,0])+np.square(Y[:,:,1])\n",
        "    M_img = np.divide(M_img,square_img+epsilon)\n",
        "    M[:,:,1] = M_img\n",
        "    return M\n",
        "\n",
        "def cRM_tanh_compress(M,K=10,C=0.1):\n",
        "    '''\n",
        "    Recall that the irm takes on vlaues in the range[0,1],compress the cRM with hyperbolic tangent\n",
        "    :param M: crm (298,257,2)\n",
        "    :param K: parameter to control the compression\n",
        "    :param C: parameter to control the compression\n",
        "    :return crm: compressed crm\n",
        "    '''\n",
        "\n",
        "    numerator = 1-np.exp(-C*M)\n",
        "    numerator[numerator == inf] = 1\n",
        "    numerator[numerator == -inf] = -1\n",
        "    denominator = 1+np.exp(-C*M)\n",
        "    denominator[denominator == inf] = 1\n",
        "    denominator[denominator == -inf] = -1\n",
        "    crm = K * np.divide(numerator,denominator)\n",
        "\n",
        "    return crm\n",
        "\n",
        "def cRM_tanh_recover(O,K=10,C=0.1):\n",
        "    '''\n",
        "\n",
        "    :param O: predicted compressed crm\n",
        "    :param K: parameter to control the compression\n",
        "    :param C: parameter to control the compression\n",
        "    :return M : uncompressed crm\n",
        "    '''\n",
        "\n",
        "    numerator = K-O\n",
        "    denominator = K+O\n",
        "    M = -np.multiply((1.0/C),np.log(np.divide(numerator,denominator)))\n",
        "\n",
        "    return M\n",
        "\n",
        "\n",
        "def fast_cRM(Fclean,Fmix,K=10,C=0.1):\n",
        "    '''\n",
        "\n",
        "    :param Fmix: mixed/noisy stft\n",
        "    :param Fclean: clean stft\n",
        "    :param K: parameter to control the compression\n",
        "    :param C: parameter to control the compression\n",
        "    :return crm: compressed crm\n",
        "    '''\n",
        "    M = generate_cRM(Fmix,Fclean)\n",
        "    crm = cRM_tanh_compress(M,K,C)\n",
        "    return crm\n",
        "\n",
        "def fast_icRM(Y,crm,K=10,C=0.1):\n",
        "    '''\n",
        "    :param Y: mixed/noised stft\n",
        "    :param crm: DNN output of compressed crm\n",
        "    :param K: parameter to control the compression\n",
        "    :param C: parameter to control the compression\n",
        "    :return S: clean stft\n",
        "    '''\n",
        "    M = cRM_tanh_recover(crm,K,C)\n",
        "    S = np.zeros(np.shape(M))\n",
        "    S[:,:,0] = np.multiply(M[:,:,0],Y[:,:,0])-np.multiply(M[:,:,1],Y[:,:,1])\n",
        "    S[:,:,1] = np.multiply(M[:,:,0],Y[:,:,1])+np.multiply(M[:,:,1],Y[:,:,0])\n",
        "    return S"
      ],
      "execution_count": 0,
      "outputs": []
    },
    {
      "cell_type": "code",
      "metadata": {
        "id": "AIE387FsXC2f",
        "colab_type": "code",
        "colab": {}
      },
      "source": [
        "prefix = \"--\"\n",
        "dir_path = './pred/'\n",
        "if not os.path.isdir(dir_path):\n",
        "\tos.mkdir(dir_path)\n",
        "\n",
        "import time"
      ],
      "execution_count": 0,
      "outputs": []
    },
    {
      "cell_type": "code",
      "metadata": {
        "id": "XKUw-LMxXUdf",
        "colab_type": "code",
        "colab": {}
      },
      "source": [
        "import scipy.io.wavfile as wavfile\n",
        "\n",
        "AV_model = model"
      ],
      "execution_count": 0,
      "outputs": []
    },
    {
      "cell_type": "code",
      "metadata": {
        "id": "mefjCx6qXCyn",
        "colab_type": "code",
        "outputId": "4419d557-7e60-4327-9645-ef1ca0af8670",
        "colab": {
          "base_uri": "https://localhost:8080/",
          "height": 1000
        }
      },
      "source": [
        "num_tests = 30\n",
        "\n",
        "times = []\n",
        "post_processing_times = []\n",
        "\n",
        "for i in range(num_tests):\n",
        "\t'''Predict data'''\n",
        "\tstart_time = time.time()\n",
        "\tcRMs = AV_model.predict([mix_expand, face_embs])\n",
        "\tend_time = time.time()\n",
        "\truntime = end_time-start_time\n",
        "\ttimes.append(runtime)\n",
        "\tprint(\"Time taken for run predict %d:\"%(i+1), runtime)\n",
        "\n",
        "\t'''Save output as wav'''\n",
        "\tstart_time = time.time()\n",
        "\tcRMs = cRMs[0]\n",
        "\tfor j in range(people_num):\n",
        "\t\tcRM = cRMs[:,:,:,j]\n",
        "\t\tassert cRM.shape == (298,257,2)\n",
        "\t\tF = fast_icRM(mix,cRM)\n",
        "\t\tT = fast_istft(F,power=False)\n",
        "\t\tfilename = dir_path+prefix+'.wav'\n",
        "\t\twavfile.write(filename,16000,T)\n",
        "\n",
        "\tend_time = time.time()\n",
        "\truntime = end_time-start_time\n",
        "\tpost_processing_times.append(runtime)\n",
        "\n",
        "\tprint(\"Time taken to post-process %d:\"%(i+1), runtime)"
      ],
      "execution_count": 19,
      "outputs": [
        {
          "output_type": "stream",
          "text": [
            "Time taken for run predict 1: 14.84204912185669\n",
            "Time taken to post-process 1: 0.021223068237304688\n",
            "Time taken for run predict 2: 13.990865707397461\n",
            "Time taken to post-process 2: 0.020837783813476562\n",
            "Time taken for run predict 3: 13.427454233169556\n",
            "Time taken to post-process 3: 0.02190089225769043\n",
            "Time taken for run predict 4: 12.513241052627563\n",
            "Time taken to post-process 4: 0.021254777908325195\n",
            "Time taken for run predict 5: 12.90308427810669\n",
            "Time taken to post-process 5: 0.019403934478759766\n",
            "Time taken for run predict 6: 13.068732976913452\n",
            "Time taken to post-process 6: 0.01705336570739746\n",
            "Time taken for run predict 7: 13.455395936965942\n",
            "Time taken to post-process 7: 0.02019667625427246\n",
            "Time taken for run predict 8: 12.575503826141357\n",
            "Time taken to post-process 8: 0.017670869827270508\n",
            "Time taken for run predict 9: 12.395727396011353\n",
            "Time taken to post-process 9: 0.020185232162475586\n",
            "Time taken for run predict 10: 12.20577359199524\n",
            "Time taken to post-process 10: 0.017850160598754883\n",
            "Time taken for run predict 11: 12.659483909606934\n",
            "Time taken to post-process 11: 0.019469261169433594\n",
            "Time taken for run predict 12: 12.099591493606567\n",
            "Time taken to post-process 12: 0.018959999084472656\n",
            "Time taken for run predict 13: 12.164552927017212\n",
            "Time taken to post-process 13: 0.01752614974975586\n",
            "Time taken for run predict 14: 12.280062675476074\n",
            "Time taken to post-process 14: 0.018616914749145508\n",
            "Time taken for run predict 15: 12.53912901878357\n",
            "Time taken to post-process 15: 0.017851829528808594\n",
            "Time taken for run predict 16: 12.193217039108276\n",
            "Time taken to post-process 16: 0.021512985229492188\n",
            "Time taken for run predict 17: 12.203923463821411\n",
            "Time taken to post-process 17: 0.01800251007080078\n",
            "Time taken for run predict 18: 12.534335613250732\n",
            "Time taken to post-process 18: 0.020791053771972656\n",
            "Time taken for run predict 19: 14.050617694854736\n",
            "Time taken to post-process 19: 0.022852659225463867\n",
            "Time taken for run predict 20: 14.22521710395813\n",
            "Time taken to post-process 20: 0.02120685577392578\n",
            "Time taken for run predict 21: 14.282251834869385\n",
            "Time taken to post-process 21: 0.021762847900390625\n",
            "Time taken for run predict 22: 14.156654119491577\n",
            "Time taken to post-process 22: 0.02064824104309082\n",
            "Time taken for run predict 23: 13.77782154083252\n",
            "Time taken to post-process 23: 0.02031874656677246\n",
            "Time taken for run predict 24: 14.196676015853882\n",
            "Time taken to post-process 24: 0.023659944534301758\n",
            "Time taken for run predict 25: 14.21888279914856\n",
            "Time taken to post-process 25: 0.02174997329711914\n",
            "Time taken for run predict 26: 14.174191236495972\n",
            "Time taken to post-process 26: 0.02256631851196289\n",
            "Time taken for run predict 27: 14.267903327941895\n",
            "Time taken to post-process 27: 0.022552013397216797\n",
            "Time taken for run predict 28: 13.771976470947266\n",
            "Time taken to post-process 28: 0.018959522247314453\n",
            "Time taken for run predict 29: 13.687594413757324\n",
            "Time taken to post-process 29: 0.02204751968383789\n",
            "Time taken for run predict 30: 12.446892261505127\n",
            "Time taken to post-process 30: 0.017835140228271484\n"
          ],
          "name": "stdout"
        }
      ]
    },
    {
      "cell_type": "code",
      "metadata": {
        "id": "N4U7DL_BXCxY",
        "colab_type": "code",
        "outputId": "89a9a3e2-c57f-45b9-cc72-753cb992b229",
        "colab": {
          "base_uri": "https://localhost:8080/",
          "height": 87
        }
      },
      "source": [
        "list_of_time = times\n",
        "\n",
        "avg = sum(list_of_time) / len(list_of_time)\n",
        "print(\"Number of test:\", len(list_of_time))\n",
        "print(\"Test times:\", list_of_time)\n",
        "print(\"Average running time:\", avg)"
      ],
      "execution_count": 20,
      "outputs": [
        {
          "output_type": "stream",
          "text": [
            "Number of test: 30\n",
            "Test times: [14.84204912185669, 13.990865707397461, 13.427454233169556, 12.513241052627563, 12.90308427810669, 13.068732976913452, 13.455395936965942, 12.575503826141357, 12.395727396011353, 12.20577359199524, 12.659483909606934, 12.099591493606567, 12.164552927017212, 12.280062675476074, 12.53912901878357, 12.193217039108276, 12.203923463821411, 12.534335613250732, 14.050617694854736, 14.22521710395813, 14.282251834869385, 14.156654119491577, 13.77782154083252, 14.196676015853882, 14.21888279914856, 14.174191236495972, 14.267903327941895, 13.771976470947266, 13.687594413757324, 12.446892261505127]\n",
            "Average running time: 13.243626769383749\n"
          ],
          "name": "stdout"
        }
      ]
    },
    {
      "cell_type": "code",
      "metadata": {
        "id": "dENQpY0LXCtO",
        "colab_type": "code",
        "outputId": "e723c40f-11c4-4ea0-cded-0015fccc83d8",
        "colab": {
          "base_uri": "https://localhost:8080/",
          "height": 87
        }
      },
      "source": [
        "list_of_time = post_processing_times\n",
        "\n",
        "avg = sum(list_of_time) / len(list_of_time)\n",
        "print(\"Number of test:\", len(list_of_time))\n",
        "print(\"Test times:\", list_of_time)\n",
        "print(\"Average running time:\", avg)"
      ],
      "execution_count": 21,
      "outputs": [
        {
          "output_type": "stream",
          "text": [
            "Number of test: 30\n",
            "Test times: [0.021223068237304688, 0.020837783813476562, 0.02190089225769043, 0.021254777908325195, 0.019403934478759766, 0.01705336570739746, 0.02019667625427246, 0.017670869827270508, 0.020185232162475586, 0.017850160598754883, 0.019469261169433594, 0.018959999084472656, 0.01752614974975586, 0.018616914749145508, 0.017851829528808594, 0.021512985229492188, 0.01800251007080078, 0.020791053771972656, 0.022852659225463867, 0.02120685577392578, 0.021762847900390625, 0.02064824104309082, 0.02031874656677246, 0.023659944534301758, 0.02174997329711914, 0.02256631851196289, 0.022552013397216797, 0.018959522247314453, 0.02204751968383789, 0.017835140228271484]\n",
            "Average running time: 0.020215574900309244\n"
          ],
          "name": "stdout"
        }
      ]
    },
    {
      "cell_type": "code",
      "metadata": {
        "id": "vXDiMcrWXCsL",
        "colab_type": "code",
        "colab": {}
      },
      "source": [
        "np.savetxt(\"Cloud_modifiedv2_times_CPU.csv\", times, delimiter=\",\")"
      ],
      "execution_count": 0,
      "outputs": []
    },
    {
      "cell_type": "code",
      "metadata": {
        "id": "La1xDL3OXCn4",
        "colab_type": "code",
        "colab": {}
      },
      "source": [
        "np.savetxt(\"Cloud_modifiedv2_postpro_times_CPU.csv\", post_processing_times, delimiter=\",\")"
      ],
      "execution_count": 0,
      "outputs": []
    },
    {
      "cell_type": "code",
      "metadata": {
        "id": "as3lsUapXCmz",
        "colab_type": "code",
        "colab": {}
      },
      "source": [
        "new_dir = \"/content/gdrive/My Drive/Part IV Project/Colab TFServing/AV_speech_output/\"\n",
        "if not os.path.isdir(new_dir):\n",
        "  os.mkdir(new_dir)"
      ],
      "execution_count": 0,
      "outputs": []
    },
    {
      "cell_type": "code",
      "metadata": {
        "id": "6FcEMKnmXCix",
        "colab_type": "code",
        "colab": {}
      },
      "source": [
        "!cp \"Cloud_modifiedv2_times_CPU.csv\" \"/content/gdrive/My Drive/Part IV Project/Colab TFServing/AV_speech_output/Cloud_modifiedv2_times_CPU.csv\""
      ],
      "execution_count": 0,
      "outputs": []
    },
    {
      "cell_type": "code",
      "metadata": {
        "id": "acD36FMgXChg",
        "colab_type": "code",
        "colab": {}
      },
      "source": [
        "!cp \"Cloud_modifiedv2_postpro_times_CPU.csv\" \"/content/gdrive/My Drive/Part IV Project/Colab TFServing/AV_speech_output/Cloud_modifiedv2_postpro_times_CPU.csv\""
      ],
      "execution_count": 0,
      "outputs": []
    },
    {
      "cell_type": "code",
      "metadata": {
        "id": "zk9FtwiMXCdx",
        "colab_type": "code",
        "colab": {}
      },
      "source": [
        ""
      ],
      "execution_count": 0,
      "outputs": []
    },
    {
      "cell_type": "code",
      "metadata": {
        "id": "5qnyDtTzXCcV",
        "colab_type": "code",
        "outputId": "a767c997-bd9e-4873-dadb-4882fbf6eebc",
        "colab": {
          "base_uri": "https://localhost:8080/",
          "height": 1000
        }
      },
      "source": [
        "AV_model.summary()"
      ],
      "execution_count": 27,
      "outputs": [
        {
          "output_type": "stream",
          "text": [
            "Model: \"model_1\"\n",
            "__________________________________________________________________________________________________\n",
            "Layer (type)                    Output Shape         Param #     Connected to                     \n",
            "==================================================================================================\n",
            "input_1 (InputLayer)            [(None, 298, 257, 2) 0                                            \n",
            "__________________________________________________________________________________________________\n",
            "as_conv1 (Conv2D)               (None, 298, 257, 96) 1440        input_1[0][0]                    \n",
            "__________________________________________________________________________________________________\n",
            "batch_normalization_1 (BatchNor (None, 298, 257, 96) 384         as_conv1[0][0]                   \n",
            "__________________________________________________________________________________________________\n",
            "re_lu_1 (ReLU)                  (None, 298, 257, 96) 0           batch_normalization_1[0][0]      \n",
            "__________________________________________________________________________________________________\n",
            "as_conv2 (Conv2D)               (None, 298, 257, 96) 64608       re_lu_1[0][0]                    \n",
            "__________________________________________________________________________________________________\n",
            "batch_normalization_2 (BatchNor (None, 298, 257, 96) 384         as_conv2[0][0]                   \n",
            "__________________________________________________________________________________________________\n",
            "re_lu_2 (ReLU)                  (None, 298, 257, 96) 0           batch_normalization_2[0][0]      \n",
            "__________________________________________________________________________________________________\n",
            "as_conv3 (Conv2D)               (None, 298, 257, 96) 230496      re_lu_2[0][0]                    \n",
            "__________________________________________________________________________________________________\n",
            "batch_normalization_3 (BatchNor (None, 298, 257, 96) 384         as_conv3[0][0]                   \n",
            "__________________________________________________________________________________________________\n",
            "re_lu_3 (ReLU)                  (None, 298, 257, 96) 0           batch_normalization_3[0][0]      \n",
            "__________________________________________________________________________________________________\n",
            "as_conv4 (Conv2D)               (None, 298, 257, 96) 230496      re_lu_3[0][0]                    \n",
            "__________________________________________________________________________________________________\n",
            "batch_normalization_4 (BatchNor (None, 298, 257, 96) 384         as_conv4[0][0]                   \n",
            "__________________________________________________________________________________________________\n",
            "re_lu_4 (ReLU)                  (None, 298, 257, 96) 0           batch_normalization_4[0][0]      \n",
            "__________________________________________________________________________________________________\n",
            "as_conv5 (Conv2D)               (None, 298, 257, 96) 230496      re_lu_4[0][0]                    \n",
            "__________________________________________________________________________________________________\n",
            "batch_normalization_5 (BatchNor (None, 298, 257, 96) 384         as_conv5[0][0]                   \n",
            "__________________________________________________________________________________________________\n",
            "re_lu_5 (ReLU)                  (None, 298, 257, 96) 0           batch_normalization_5[0][0]      \n",
            "__________________________________________________________________________________________________\n",
            "as_conv6 (Conv2D)               (None, 298, 257, 96) 230496      re_lu_5[0][0]                    \n",
            "__________________________________________________________________________________________________\n",
            "batch_normalization_6 (BatchNor (None, 298, 257, 96) 384         as_conv6[0][0]                   \n",
            "__________________________________________________________________________________________________\n",
            "re_lu_6 (ReLU)                  (None, 298, 257, 96) 0           batch_normalization_6[0][0]      \n",
            "__________________________________________________________________________________________________\n",
            "as_conv7 (Conv2D)               (None, 298, 257, 96) 230496      re_lu_6[0][0]                    \n",
            "__________________________________________________________________________________________________\n",
            "batch_normalization_7 (BatchNor (None, 298, 257, 96) 384         as_conv7[0][0]                   \n",
            "__________________________________________________________________________________________________\n",
            "re_lu_7 (ReLU)                  (None, 298, 257, 96) 0           batch_normalization_7[0][0]      \n",
            "__________________________________________________________________________________________________\n",
            "as_conv8 (Conv2D)               (None, 298, 257, 96) 230496      re_lu_7[0][0]                    \n",
            "__________________________________________________________________________________________________\n",
            "batch_normalization_8 (BatchNor (None, 298, 257, 96) 384         as_conv8[0][0]                   \n",
            "__________________________________________________________________________________________________\n",
            "re_lu_8 (ReLU)                  (None, 298, 257, 96) 0           batch_normalization_8[0][0]      \n",
            "__________________________________________________________________________________________________\n",
            "as_conv9 (Conv2D)               (None, 298, 257, 96) 230496      re_lu_8[0][0]                    \n",
            "__________________________________________________________________________________________________\n",
            "batch_normalization_9 (BatchNor (None, 298, 257, 96) 384         as_conv9[0][0]                   \n",
            "__________________________________________________________________________________________________\n",
            "re_lu_9 (ReLU)                  (None, 298, 257, 96) 0           batch_normalization_9[0][0]      \n",
            "__________________________________________________________________________________________________\n",
            "as_conv10 (Conv2D)              (None, 298, 257, 96) 230496      re_lu_9[0][0]                    \n",
            "__________________________________________________________________________________________________\n",
            "batch_normalization_10 (BatchNo (None, 298, 257, 96) 384         as_conv10[0][0]                  \n",
            "__________________________________________________________________________________________________\n",
            "re_lu_10 (ReLU)                 (None, 298, 257, 96) 0           batch_normalization_10[0][0]     \n",
            "__________________________________________________________________________________________________\n",
            "as_conv11 (Conv2D)              (None, 298, 257, 96) 230496      re_lu_10[0][0]                   \n",
            "__________________________________________________________________________________________________\n",
            "batch_normalization_11 (BatchNo (None, 298, 257, 96) 384         as_conv11[0][0]                  \n",
            "__________________________________________________________________________________________________\n",
            "re_lu_11 (ReLU)                 (None, 298, 257, 96) 0           batch_normalization_11[0][0]     \n",
            "__________________________________________________________________________________________________\n",
            "as_conv12 (Conv2D)              (None, 298, 257, 96) 230496      re_lu_11[0][0]                   \n",
            "__________________________________________________________________________________________________\n",
            "batch_normalization_12 (BatchNo (None, 298, 257, 96) 384         as_conv12[0][0]                  \n",
            "__________________________________________________________________________________________________\n",
            "re_lu_12 (ReLU)                 (None, 298, 257, 96) 0           batch_normalization_12[0][0]     \n",
            "__________________________________________________________________________________________________\n",
            "as_conv13 (Conv2D)              (None, 298, 257, 96) 230496      re_lu_12[0][0]                   \n",
            "__________________________________________________________________________________________________\n",
            "batch_normalization_13 (BatchNo (None, 298, 257, 96) 384         as_conv13[0][0]                  \n",
            "__________________________________________________________________________________________________\n",
            "re_lu_13 (ReLU)                 (None, 298, 257, 96) 0           batch_normalization_13[0][0]     \n",
            "__________________________________________________________________________________________________\n",
            "as_conv14 (Conv2D)              (None, 298, 257, 96) 230496      re_lu_13[0][0]                   \n",
            "__________________________________________________________________________________________________\n",
            "batch_normalization_14 (BatchNo (None, 298, 257, 96) 384         as_conv14[0][0]                  \n",
            "__________________________________________________________________________________________________\n",
            "re_lu_14 (ReLU)                 (None, 298, 257, 96) 0           batch_normalization_14[0][0]     \n",
            "__________________________________________________________________________________________________\n",
            "as_conv15 (Conv2D)              (None, 298, 257, 8)  776         re_lu_14[0][0]                   \n",
            "__________________________________________________________________________________________________\n",
            "batch_normalization_15 (BatchNo (None, 298, 257, 8)  32          as_conv15[0][0]                  \n",
            "__________________________________________________________________________________________________\n",
            "input_2 (InputLayer)            [(None, 75, 1, 1792, 0                                            \n",
            "__________________________________________________________________________________________________\n",
            "re_lu_15 (ReLU)                 (None, 298, 257, 8)  0           batch_normalization_15[0][0]     \n",
            "__________________________________________________________________________________________________\n",
            "lambda_2 (Lambda)               (None, 75, 1, 2)     0           input_2[0][0]                    \n",
            "__________________________________________________________________________________________________\n",
            "lambda_3 (Lambda)               (None, 75, 1, 2)     0           input_2[0][0]                    \n",
            "__________________________________________________________________________________________________\n",
            "reshape_1 (Reshape)             (None, 298, 2056)    0           re_lu_15[0][0]                   \n",
            "__________________________________________________________________________________________________\n",
            "sequential_1 (Sequential)       (None, 298, 256)     1649664     lambda_2[0][0]                   \n",
            "                                                                 lambda_3[0][0]                   \n",
            "__________________________________________________________________________________________________\n",
            "concatenate_1 (Concatenate)     (None, 298, 2568)    0           reshape_1[0][0]                  \n",
            "                                                                 sequential_1[1][0]               \n",
            "                                                                 sequential_1[2][0]               \n",
            "__________________________________________________________________________________________________\n",
            "time_distributed_1 (TimeDistrib (None, 298, 2568)    0           concatenate_1[0][0]              \n",
            "__________________________________________________________________________________________________\n",
            "bidirectional_1 (Bidirectional) (None, 298, 400)     9500800     time_distributed_1[0][0]         \n",
            "__________________________________________________________________________________________________\n",
            "fc1 (Dense)                     (None, 298, 600)     240600      bidirectional_1[0][0]            \n",
            "__________________________________________________________________________________________________\n",
            "fc2 (Dense)                     (None, 298, 600)     360600      fc1[0][0]                        \n",
            "__________________________________________________________________________________________________\n",
            "fc3 (Dense)                     (None, 298, 600)     360600      fc2[0][0]                        \n",
            "__________________________________________________________________________________________________\n",
            "complex_mask (Dense)            (None, 298, 1028)    617828      fc3[0][0]                        \n",
            "__________________________________________________________________________________________________\n",
            "reshape_4 (Reshape)             (None, 298, 257, 2,  0           complex_mask[0][0]               \n",
            "==================================================================================================\n",
            "Total params: 15,568,276\n",
            "Trainable params: 15,562,500\n",
            "Non-trainable params: 5,776\n",
            "__________________________________________________________________________________________________\n"
          ],
          "name": "stdout"
        }
      ]
    },
    {
      "cell_type": "markdown",
      "metadata": {
        "id": "YU8oVvAGDwE2",
        "colab_type": "text"
      },
      "source": [
        "Most of the following code in this notebook was adapted from https://www.tensorflow.org/tfx/serving/tutorials/Serving_REST_simple"
      ]
    },
    {
      "cell_type": "code",
      "metadata": {
        "id": "AM0bEP5l2rht",
        "colab_type": "code",
        "colab": {
          "base_uri": "https://localhost:8080/",
          "height": 525
        },
        "outputId": "37359684-48c2-4da2-a20e-a4a55ce0ab93"
      },
      "source": [
        "# Fetch the Keras session and save the model\n",
        "# The signature definition is defined by the input and output tensors,\n",
        "# and stored with the default serving key\n",
        "import tempfile\n",
        "\n",
        "MODEL_DIR = tempfile.gettempdir()\n",
        "version = 1\n",
        "export_path = os.path.join(MODEL_DIR, str(version))\n",
        "print('export_path = {}\\n'.format(export_path))\n",
        "if os.path.isdir(export_path):\n",
        "  print('\\nAlready saved a model, cleaning up\\n')\n",
        "  !rm -r {export_path}\n",
        "\n",
        "tf.saved_model.simple_save(\n",
        "    keras.backend.get_session(),\n",
        "    export_path,\n",
        "    inputs={'input_image': model.input},\n",
        "    outputs={t.name:t for t in model.outputs})\n",
        "\n",
        "print('\\nSaved model:')\n",
        "!ls -l {export_path}"
      ],
      "execution_count": 28,
      "outputs": [
        {
          "output_type": "stream",
          "text": [
            "export_path = /tmp/1\n",
            "\n",
            "WARNING:tensorflow:From <ipython-input-28-a5d505b5478d>:15: simple_save (from tensorflow.python.saved_model.simple_save) is deprecated and will be removed in a future version.\n",
            "Instructions for updating:\n",
            "This function will only be available through the v1 compatibility library as tf.compat.v1.saved_model.simple_save.\n",
            "WARNING:tensorflow:From /usr/local/lib/python3.6/dist-packages/tensorflow/python/saved_model/signature_def_utils_impl.py:201: build_tensor_info (from tensorflow.python.saved_model.utils_impl) is deprecated and will be removed in a future version.\n",
            "Instructions for updating:\n",
            "This function will only be available through the v1 compatibility library as tf.compat.v1.saved_model.utils.build_tensor_info or tf.compat.v1.saved_model.build_tensor_info.\n"
          ],
          "name": "stdout"
        },
        {
          "output_type": "error",
          "ename": "AttributeError",
          "evalue": "ignored",
          "traceback": [
            "\u001b[0;31m---------------------------------------------------------------------------\u001b[0m",
            "\u001b[0;31mAttributeError\u001b[0m                            Traceback (most recent call last)",
            "\u001b[0;32m<ipython-input-28-a5d505b5478d>\u001b[0m in \u001b[0;36m<module>\u001b[0;34m()\u001b[0m\n\u001b[1;32m     13\u001b[0m     \u001b[0mexport_path\u001b[0m\u001b[0;34m,\u001b[0m\u001b[0;34m\u001b[0m\u001b[0;34m\u001b[0m\u001b[0m\n\u001b[1;32m     14\u001b[0m     \u001b[0minputs\u001b[0m\u001b[0;34m=\u001b[0m\u001b[0;34m{\u001b[0m\u001b[0;34m'input_image'\u001b[0m\u001b[0;34m:\u001b[0m \u001b[0mmodel\u001b[0m\u001b[0;34m.\u001b[0m\u001b[0minput\u001b[0m\u001b[0;34m}\u001b[0m\u001b[0;34m,\u001b[0m\u001b[0;34m\u001b[0m\u001b[0;34m\u001b[0m\u001b[0m\n\u001b[0;32m---> 15\u001b[0;31m     outputs={t.name:t for t in model.outputs})\n\u001b[0m\u001b[1;32m     16\u001b[0m \u001b[0;34m\u001b[0m\u001b[0m\n\u001b[1;32m     17\u001b[0m \u001b[0mprint\u001b[0m\u001b[0;34m(\u001b[0m\u001b[0;34m'\\nSaved model:'\u001b[0m\u001b[0;34m)\u001b[0m\u001b[0;34m\u001b[0m\u001b[0;34m\u001b[0m\u001b[0m\n",
            "\u001b[0;32m/usr/local/lib/python3.6/dist-packages/tensorflow/python/util/deprecation.py\u001b[0m in \u001b[0;36mnew_func\u001b[0;34m(*args, **kwargs)\u001b[0m\n\u001b[1;32m    322\u001b[0m               \u001b[0;34m'in a future version'\u001b[0m \u001b[0;32mif\u001b[0m \u001b[0mdate\u001b[0m \u001b[0;32mis\u001b[0m \u001b[0;32mNone\u001b[0m \u001b[0;32melse\u001b[0m \u001b[0;34m(\u001b[0m\u001b[0;34m'after %s'\u001b[0m \u001b[0;34m%\u001b[0m \u001b[0mdate\u001b[0m\u001b[0;34m)\u001b[0m\u001b[0;34m,\u001b[0m\u001b[0;34m\u001b[0m\u001b[0;34m\u001b[0m\u001b[0m\n\u001b[1;32m    323\u001b[0m               instructions)\n\u001b[0;32m--> 324\u001b[0;31m       \u001b[0;32mreturn\u001b[0m \u001b[0mfunc\u001b[0m\u001b[0;34m(\u001b[0m\u001b[0;34m*\u001b[0m\u001b[0margs\u001b[0m\u001b[0;34m,\u001b[0m \u001b[0;34m**\u001b[0m\u001b[0mkwargs\u001b[0m\u001b[0;34m)\u001b[0m\u001b[0;34m\u001b[0m\u001b[0;34m\u001b[0m\u001b[0m\n\u001b[0m\u001b[1;32m    325\u001b[0m     return tf_decorator.make_decorator(\n\u001b[1;32m    326\u001b[0m         \u001b[0mfunc\u001b[0m\u001b[0;34m,\u001b[0m \u001b[0mnew_func\u001b[0m\u001b[0;34m,\u001b[0m \u001b[0;34m'deprecated'\u001b[0m\u001b[0;34m,\u001b[0m\u001b[0;34m\u001b[0m\u001b[0;34m\u001b[0m\u001b[0m\n",
            "\u001b[0;32m/usr/local/lib/python3.6/dist-packages/tensorflow/python/saved_model/simple_save.py\u001b[0m in \u001b[0;36msimple_save\u001b[0;34m(session, export_dir, inputs, outputs, legacy_init_op)\u001b[0m\n\u001b[1;32m     79\u001b[0m   signature_def_map = {\n\u001b[1;32m     80\u001b[0m       \u001b[0msignature_constants\u001b[0m\u001b[0;34m.\u001b[0m\u001b[0mDEFAULT_SERVING_SIGNATURE_DEF_KEY\u001b[0m\u001b[0;34m:\u001b[0m\u001b[0;34m\u001b[0m\u001b[0;34m\u001b[0m\u001b[0m\n\u001b[0;32m---> 81\u001b[0;31m           \u001b[0msignature_def_utils\u001b[0m\u001b[0;34m.\u001b[0m\u001b[0mpredict_signature_def\u001b[0m\u001b[0;34m(\u001b[0m\u001b[0minputs\u001b[0m\u001b[0;34m,\u001b[0m \u001b[0moutputs\u001b[0m\u001b[0;34m)\u001b[0m\u001b[0;34m\u001b[0m\u001b[0;34m\u001b[0m\u001b[0m\n\u001b[0m\u001b[1;32m     82\u001b[0m   }\n\u001b[1;32m     83\u001b[0m   \u001b[0mb\u001b[0m \u001b[0;34m=\u001b[0m \u001b[0mbuilder\u001b[0m\u001b[0;34m.\u001b[0m\u001b[0mSavedModelBuilder\u001b[0m\u001b[0;34m(\u001b[0m\u001b[0mexport_dir\u001b[0m\u001b[0;34m)\u001b[0m\u001b[0;34m\u001b[0m\u001b[0;34m\u001b[0m\u001b[0m\n",
            "\u001b[0;32m/usr/local/lib/python3.6/dist-packages/tensorflow/python/saved_model/signature_def_utils_impl.py\u001b[0m in \u001b[0;36mpredict_signature_def\u001b[0;34m(inputs, outputs)\u001b[0m\n\u001b[1;32m    199\u001b[0m \u001b[0;34m\u001b[0m\u001b[0m\n\u001b[1;32m    200\u001b[0m   signature_inputs = {key: utils.build_tensor_info(tensor)\n\u001b[0;32m--> 201\u001b[0;31m                       for key, tensor in inputs.items()}\n\u001b[0m\u001b[1;32m    202\u001b[0m   signature_outputs = {key: utils.build_tensor_info(tensor)\n\u001b[1;32m    203\u001b[0m                        for key, tensor in outputs.items()}\n",
            "\u001b[0;32m/usr/local/lib/python3.6/dist-packages/tensorflow/python/saved_model/signature_def_utils_impl.py\u001b[0m in \u001b[0;36m<dictcomp>\u001b[0;34m(.0)\u001b[0m\n\u001b[1;32m    199\u001b[0m \u001b[0;34m\u001b[0m\u001b[0m\n\u001b[1;32m    200\u001b[0m   signature_inputs = {key: utils.build_tensor_info(tensor)\n\u001b[0;32m--> 201\u001b[0;31m                       for key, tensor in inputs.items()}\n\u001b[0m\u001b[1;32m    202\u001b[0m   signature_outputs = {key: utils.build_tensor_info(tensor)\n\u001b[1;32m    203\u001b[0m                        for key, tensor in outputs.items()}\n",
            "\u001b[0;32m/usr/local/lib/python3.6/dist-packages/tensorflow/python/util/deprecation.py\u001b[0m in \u001b[0;36mnew_func\u001b[0;34m(*args, **kwargs)\u001b[0m\n\u001b[1;32m    322\u001b[0m               \u001b[0;34m'in a future version'\u001b[0m \u001b[0;32mif\u001b[0m \u001b[0mdate\u001b[0m \u001b[0;32mis\u001b[0m \u001b[0;32mNone\u001b[0m \u001b[0;32melse\u001b[0m \u001b[0;34m(\u001b[0m\u001b[0;34m'after %s'\u001b[0m \u001b[0;34m%\u001b[0m \u001b[0mdate\u001b[0m\u001b[0;34m)\u001b[0m\u001b[0;34m,\u001b[0m\u001b[0;34m\u001b[0m\u001b[0;34m\u001b[0m\u001b[0m\n\u001b[1;32m    323\u001b[0m               instructions)\n\u001b[0;32m--> 324\u001b[0;31m       \u001b[0;32mreturn\u001b[0m \u001b[0mfunc\u001b[0m\u001b[0;34m(\u001b[0m\u001b[0;34m*\u001b[0m\u001b[0margs\u001b[0m\u001b[0;34m,\u001b[0m \u001b[0;34m**\u001b[0m\u001b[0mkwargs\u001b[0m\u001b[0;34m)\u001b[0m\u001b[0;34m\u001b[0m\u001b[0;34m\u001b[0m\u001b[0m\n\u001b[0m\u001b[1;32m    325\u001b[0m     return tf_decorator.make_decorator(\n\u001b[1;32m    326\u001b[0m         \u001b[0mfunc\u001b[0m\u001b[0;34m,\u001b[0m \u001b[0mnew_func\u001b[0m\u001b[0;34m,\u001b[0m \u001b[0;34m'deprecated'\u001b[0m\u001b[0;34m,\u001b[0m\u001b[0;34m\u001b[0m\u001b[0;34m\u001b[0m\u001b[0m\n",
            "\u001b[0;32m/usr/local/lib/python3.6/dist-packages/tensorflow/python/saved_model/utils_impl.py\u001b[0m in \u001b[0;36mbuild_tensor_info\u001b[0;34m(tensor)\u001b[0m\n\u001b[1;32m     61\u001b[0m   \u001b[0;32mif\u001b[0m \u001b[0mcontext\u001b[0m\u001b[0;34m.\u001b[0m\u001b[0mexecuting_eagerly\u001b[0m\u001b[0;34m(\u001b[0m\u001b[0;34m)\u001b[0m\u001b[0;34m:\u001b[0m\u001b[0;34m\u001b[0m\u001b[0;34m\u001b[0m\u001b[0m\n\u001b[1;32m     62\u001b[0m     \u001b[0;32mraise\u001b[0m \u001b[0mRuntimeError\u001b[0m\u001b[0;34m(\u001b[0m\u001b[0;34m\"build_tensor_info is not supported in Eager mode.\"\u001b[0m\u001b[0;34m)\u001b[0m\u001b[0;34m\u001b[0m\u001b[0;34m\u001b[0m\u001b[0m\n\u001b[0;32m---> 63\u001b[0;31m   \u001b[0;32mreturn\u001b[0m \u001b[0mbuild_tensor_info_internal\u001b[0m\u001b[0;34m(\u001b[0m\u001b[0mtensor\u001b[0m\u001b[0;34m)\u001b[0m\u001b[0;34m\u001b[0m\u001b[0;34m\u001b[0m\u001b[0m\n\u001b[0m\u001b[1;32m     64\u001b[0m \u001b[0;34m\u001b[0m\u001b[0m\n\u001b[1;32m     65\u001b[0m \u001b[0;34m\u001b[0m\u001b[0m\n",
            "\u001b[0;32m/usr/local/lib/python3.6/dist-packages/tensorflow/python/saved_model/utils_impl.py\u001b[0m in \u001b[0;36mbuild_tensor_info_internal\u001b[0;34m(tensor)\u001b[0m\n\u001b[1;32m     67\u001b[0m   \u001b[0;34m\"\"\"Utility function to build TensorInfo proto from a Tensor.\"\"\"\u001b[0m\u001b[0;34m\u001b[0m\u001b[0;34m\u001b[0m\u001b[0m\n\u001b[1;32m     68\u001b[0m   tensor_info = meta_graph_pb2.TensorInfo(\n\u001b[0;32m---> 69\u001b[0;31m       \u001b[0mdtype\u001b[0m\u001b[0;34m=\u001b[0m\u001b[0mdtypes\u001b[0m\u001b[0;34m.\u001b[0m\u001b[0mas_dtype\u001b[0m\u001b[0;34m(\u001b[0m\u001b[0mtensor\u001b[0m\u001b[0;34m.\u001b[0m\u001b[0mdtype\u001b[0m\u001b[0;34m)\u001b[0m\u001b[0;34m.\u001b[0m\u001b[0mas_datatype_enum\u001b[0m\u001b[0;34m,\u001b[0m\u001b[0;34m\u001b[0m\u001b[0;34m\u001b[0m\u001b[0m\n\u001b[0m\u001b[1;32m     70\u001b[0m       tensor_shape=tensor.get_shape().as_proto())\n\u001b[1;32m     71\u001b[0m   \u001b[0;32mif\u001b[0m \u001b[0misinstance\u001b[0m\u001b[0;34m(\u001b[0m\u001b[0mtensor\u001b[0m\u001b[0;34m,\u001b[0m \u001b[0msparse_tensor\u001b[0m\u001b[0;34m.\u001b[0m\u001b[0mSparseTensor\u001b[0m\u001b[0;34m)\u001b[0m\u001b[0;34m:\u001b[0m\u001b[0;34m\u001b[0m\u001b[0;34m\u001b[0m\u001b[0m\n",
            "\u001b[0;31mAttributeError\u001b[0m: 'list' object has no attribute 'dtype'"
          ]
        }
      ]
    },
    {
      "cell_type": "code",
      "metadata": {
        "id": "VZoDdKDMxZ8C",
        "colab_type": "code",
        "colab": {}
      },
      "source": [
        "print('\\nSaved model:')\n",
        "!ls -l {export_path}"
      ],
      "execution_count": 0,
      "outputs": []
    },
    {
      "cell_type": "code",
      "metadata": {
        "id": "ZRdDvRqDNDof",
        "colab_type": "code",
        "colab": {}
      },
      "source": [
        "!saved_model_cli show --dir {export_path} --all"
      ],
      "execution_count": 0,
      "outputs": []
    }
  ]
}