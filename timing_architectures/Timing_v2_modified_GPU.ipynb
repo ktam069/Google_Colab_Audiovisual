{
  "nbformat": 4,
  "nbformat_minor": 0,
  "metadata": {
    "colab": {
      "name": "Timing_v2_modified - GPU.ipynb",
      "provenance": [],
      "collapsed_sections": [],
      "include_colab_link": true
    },
    "kernelspec": {
      "name": "python3",
      "display_name": "Python 3"
    },
    "accelerator": "GPU"
  },
  "cells": [
    {
      "cell_type": "markdown",
      "metadata": {
        "id": "view-in-github",
        "colab_type": "text"
      },
      "source": [
        "<a href=\"https://colab.research.google.com/github/ktam069/Google_Colab_Audiovisual/blob/master/Timing_v2_modified_GPU.ipynb\" target=\"_parent\"><img src=\"https://colab.research.google.com/assets/colab-badge.svg\" alt=\"Open In Colab\"/></a>"
      ]
    },
    {
      "cell_type": "markdown",
      "metadata": {
        "id": "uH9AshiaQU6o",
        "colab_type": "text"
      },
      "source": [
        "Timing speed of bill v2 on GPU"
      ]
    },
    {
      "cell_type": "code",
      "metadata": {
        "id": "n60gJIp1t1_8",
        "colab_type": "code",
        "outputId": "ade02df5-2caf-48d5-ef64-d0da89f47190",
        "colab": {
          "base_uri": "https://localhost:8080/",
          "height": 121
        }
      },
      "source": [
        "from google.colab import drive\n",
        "drive.mount('/content/gdrive')"
      ],
      "execution_count": 0,
      "outputs": [
        {
          "output_type": "stream",
          "text": [
            "Go to this URL in a browser: https://accounts.google.com/o/oauth2/auth?client_id=947318989803-6bn6qk8qdgf4n4g3pfee6491hc0brc4i.apps.googleusercontent.com&redirect_uri=urn%3Aietf%3Awg%3Aoauth%3A2.0%3Aoob&scope=email%20https%3A%2F%2Fwww.googleapis.com%2Fauth%2Fdocs.test%20https%3A%2F%2Fwww.googleapis.com%2Fauth%2Fdrive%20https%3A%2F%2Fwww.googleapis.com%2Fauth%2Fdrive.photos.readonly%20https%3A%2F%2Fwww.googleapis.com%2Fauth%2Fpeopleapi.readonly&response_type=code\n",
            "\n",
            "Enter your authorization code:\n",
            "··········\n",
            "Mounted at /content/gdrive\n"
          ],
          "name": "stdout"
        }
      ]
    },
    {
      "cell_type": "code",
      "metadata": {
        "id": "6NEPrT0VuNyd",
        "colab_type": "code",
        "outputId": "639d7538-e3a9-4c66-9992-6d51fdc40943",
        "colab": {
          "base_uri": "https://localhost:8080/",
          "height": 605
        }
      },
      "source": [
        "!ls '/content/gdrive/My Drive/Part IV Project/Colab Modified/test_inputs/'"
      ],
      "execution_count": 0,
      "outputs": [
        {
          "output_type": "stream",
          "text": [
            "cRMs_output_00000-00011-.npy  mix_00001-00005-.npy  mix_00005-00009-.npy\n",
            "face_embs_00000-00011-.npy    mix_00001-00006-.npy  mix_00005-00010-.npy\n",
            "face_embs_00000-00019-.npy    mix_00001-00007-.npy  mix_00005-00011-.npy\n",
            "face_embs_00001-00015-.npy    mix_00001-00008-.npy  mix_00005-00014-.npy\n",
            "face_embs_00001-00019-.npy    mix_00001-00009-.npy  mix_00005-00015-.npy\n",
            "face_embs_00003-00015-.npy    mix_00001-00010-.npy  mix_00005-00016-.npy\n",
            "face_embs_00004-00009-.npy    mix_00001-00011-.npy  mix_00005-00018-.npy\n",
            "face_embs_00007-00010-.npy    mix_00001-00014-.npy  mix_00005-00019-.npy\n",
            "face_embs_00007-00015-.npy    mix_00001-00015-.npy  mix_00006-00009-.npy\n",
            "face_embs_00007-00016-.npy    mix_00001-00016-.npy  mix_00006-00010-.npy\n",
            "face_embs_00008-00014-.npy    mix_00001-00018-.npy  mix_00006-00011-.npy\n",
            "face_embs_00008-00016-.npy    mix_00001-00019-.npy  mix_00006-00014-.npy\n",
            "max_expand_00000-00011-.npy   mix_00003-00005-.npy  mix_00006-00015-.npy\n",
            "max_expand_00000-00019-.npy   mix_00003-00006-.npy  mix_00006-00016-.npy\n",
            "max_expand_00001-00015-.npy   mix_00003-00007-.npy  mix_00006-00018-.npy\n",
            "max_expand_00001-00019-.npy   mix_00003-00008-.npy  mix_00006-00019-.npy\n",
            "max_expand_00003-00015-.npy   mix_00003-00009-.npy  mix_00007-00009-.npy\n",
            "max_expand_00004-00009-.npy   mix_00003-00010-.npy  mix_00007-00010-.npy\n",
            "max_expand_00007-00010-.npy   mix_00003-00011-.npy  mix_00007-00011-.npy\n",
            "max_expand_00007-00015-.npy   mix_00003-00014-.npy  mix_00007-00014-.npy\n",
            "max_expand_00007-00016-.npy   mix_00003-00015-.npy  mix_00007-00015-.npy\n",
            "max_expand_00008-00014-.npy   mix_00003-00016-.npy  mix_00007-00016-.npy\n",
            "max_expand_00008-00016-.npy   mix_00003-00018-.npy  mix_00007-00018-.npy\n",
            "mix_00000-00005-.npy\t      mix_00003-00019-.npy  mix_00007-00019-.npy\n",
            "mix_00000-00006-.npy\t      mix_00004-00005-.npy  mix_00008-00009-.npy\n",
            "mix_00000-00007-.npy\t      mix_00004-00006-.npy  mix_00008-00010-.npy\n",
            "mix_00000-00008-.npy\t      mix_00004-00007-.npy  mix_00008-00011-.npy\n",
            "mix_00000-00009-.npy\t      mix_00004-00009-.npy  mix_00008-00014-.npy\n",
            "mix_00000-00010-.npy\t      mix_00004-00010-.npy  mix_00008-00015-.npy\n",
            "mix_00000-00011-.npy\t      mix_00004-00011-.npy  mix_00008-00016-.npy\n",
            "mix_00000-00014-.npy\t      mix_00004-00014-.npy  mix_00008-00018-.npy\n",
            "mix_00000-00015-.npy\t      mix_00004-00015-.npy  mix_00008-00019-.npy\n",
            "mix_00000-00016-.npy\t      mix_00004-00016-.npy  test_inputs_saved.PNG\n",
            "mix_00000-00018-.npy\t      mix_00004-00018-.npy\n",
            "mix_00000-00019-.npy\t      mix_00004-00019-.npy\n"
          ],
          "name": "stdout"
        }
      ]
    },
    {
      "cell_type": "code",
      "metadata": {
        "id": "iNMs_T4cwABx",
        "colab_type": "code",
        "colab": {}
      },
      "source": [
        "!cp -r '/content/gdrive/My Drive/Part IV Project/Colab Modified/test_inputs/' \"test_inputs/\""
      ],
      "execution_count": 0,
      "outputs": []
    },
    {
      "cell_type": "code",
      "metadata": {
        "id": "9v9pJQF4uNrK",
        "colab_type": "code",
        "outputId": "fd875a78-70f3-4f57-c44f-bcb80a855234",
        "colab": {
          "base_uri": "https://localhost:8080/",
          "height": 34
        }
      },
      "source": [
        "!ls"
      ],
      "execution_count": 0,
      "outputs": [
        {
          "output_type": "stream",
          "text": [
            "gdrive\tsample_data  test_inputs\n"
          ],
          "name": "stdout"
        }
      ]
    },
    {
      "cell_type": "code",
      "metadata": {
        "id": "6ay9WthtGN4Q",
        "colab_type": "code",
        "outputId": "9f78a688-0f61-4fa1-af60-c5818af73ce6",
        "colab": {
          "base_uri": "https://localhost:8080/",
          "height": 605
        }
      },
      "source": [
        "!ls \"test_inputs/\""
      ],
      "execution_count": 0,
      "outputs": [
        {
          "output_type": "stream",
          "text": [
            "cRMs_output_00000-00011-.npy  mix_00001-00005-.npy  mix_00005-00009-.npy\n",
            "face_embs_00000-00011-.npy    mix_00001-00006-.npy  mix_00005-00010-.npy\n",
            "face_embs_00000-00019-.npy    mix_00001-00007-.npy  mix_00005-00011-.npy\n",
            "face_embs_00001-00015-.npy    mix_00001-00008-.npy  mix_00005-00014-.npy\n",
            "face_embs_00001-00019-.npy    mix_00001-00009-.npy  mix_00005-00015-.npy\n",
            "face_embs_00003-00015-.npy    mix_00001-00010-.npy  mix_00005-00016-.npy\n",
            "face_embs_00004-00009-.npy    mix_00001-00011-.npy  mix_00005-00018-.npy\n",
            "face_embs_00007-00010-.npy    mix_00001-00014-.npy  mix_00005-00019-.npy\n",
            "face_embs_00007-00015-.npy    mix_00001-00015-.npy  mix_00006-00009-.npy\n",
            "face_embs_00007-00016-.npy    mix_00001-00016-.npy  mix_00006-00010-.npy\n",
            "face_embs_00008-00014-.npy    mix_00001-00018-.npy  mix_00006-00011-.npy\n",
            "face_embs_00008-00016-.npy    mix_00001-00019-.npy  mix_00006-00014-.npy\n",
            "max_expand_00000-00011-.npy   mix_00003-00005-.npy  mix_00006-00015-.npy\n",
            "max_expand_00000-00019-.npy   mix_00003-00006-.npy  mix_00006-00016-.npy\n",
            "max_expand_00001-00015-.npy   mix_00003-00007-.npy  mix_00006-00018-.npy\n",
            "max_expand_00001-00019-.npy   mix_00003-00008-.npy  mix_00006-00019-.npy\n",
            "max_expand_00003-00015-.npy   mix_00003-00009-.npy  mix_00007-00009-.npy\n",
            "max_expand_00004-00009-.npy   mix_00003-00010-.npy  mix_00007-00010-.npy\n",
            "max_expand_00007-00010-.npy   mix_00003-00011-.npy  mix_00007-00011-.npy\n",
            "max_expand_00007-00015-.npy   mix_00003-00014-.npy  mix_00007-00014-.npy\n",
            "max_expand_00007-00016-.npy   mix_00003-00015-.npy  mix_00007-00015-.npy\n",
            "max_expand_00008-00014-.npy   mix_00003-00016-.npy  mix_00007-00016-.npy\n",
            "max_expand_00008-00016-.npy   mix_00003-00018-.npy  mix_00007-00018-.npy\n",
            "mix_00000-00005-.npy\t      mix_00003-00019-.npy  mix_00007-00019-.npy\n",
            "mix_00000-00006-.npy\t      mix_00004-00005-.npy  mix_00008-00009-.npy\n",
            "mix_00000-00007-.npy\t      mix_00004-00006-.npy  mix_00008-00010-.npy\n",
            "mix_00000-00008-.npy\t      mix_00004-00007-.npy  mix_00008-00011-.npy\n",
            "mix_00000-00009-.npy\t      mix_00004-00009-.npy  mix_00008-00014-.npy\n",
            "mix_00000-00010-.npy\t      mix_00004-00010-.npy  mix_00008-00015-.npy\n",
            "mix_00000-00011-.npy\t      mix_00004-00011-.npy  mix_00008-00016-.npy\n",
            "mix_00000-00014-.npy\t      mix_00004-00014-.npy  mix_00008-00018-.npy\n",
            "mix_00000-00015-.npy\t      mix_00004-00015-.npy  mix_00008-00019-.npy\n",
            "mix_00000-00016-.npy\t      mix_00004-00016-.npy  test_inputs_saved.PNG\n",
            "mix_00000-00018-.npy\t      mix_00004-00018-.npy\n",
            "mix_00000-00019-.npy\t      mix_00004-00019-.npy\n"
          ],
          "name": "stdout"
        }
      ]
    },
    {
      "cell_type": "code",
      "metadata": {
        "id": "hWefC4ngp035",
        "colab_type": "code",
        "outputId": "4b626f10-b954-4256-80b2-2d2be29f8438",
        "colab": {
          "base_uri": "https://localhost:8080/",
          "height": 34
        }
      },
      "source": [
        "# TensorFlow and tf.keras\n",
        "import tensorflow as tf\n",
        "from tensorflow import keras\n",
        "\n",
        "# Helper libraries\n",
        "import numpy as np\n",
        "import matplotlib.pyplot as plt\n",
        "import os\n",
        "import subprocess\n",
        "\n",
        "print(tf.__version__)"
      ],
      "execution_count": 0,
      "outputs": [
        {
          "output_type": "stream",
          "text": [
            "1.14.0\n"
          ],
          "name": "stdout"
        }
      ]
    },
    {
      "cell_type": "code",
      "metadata": {
        "id": "7679ufopFw3S",
        "colab_type": "code",
        "colab": {}
      },
      "source": [
        "'''Load one entry of the dataset'''\n",
        "mix_expand_path = \"test_inputs/\" + \"max_expand_00000-00011-.npy\"\n",
        "face_embs_path = \"test_inputs/\" + \"face_embs_00000-00011-.npy\"\n",
        "mix_path = \"test_inputs/\" + \"mix_00000-00011-.npy\"\n",
        "\n",
        "mix_expand = np.load(mix_expand_path)\n",
        "face_embs = np.load(face_embs_path)\n",
        "mix = np.load(mix_path)"
      ],
      "execution_count": 0,
      "outputs": []
    },
    {
      "cell_type": "code",
      "metadata": {
        "id": "4-hzh6I6usAv",
        "colab_type": "code",
        "outputId": "55e39c66-5b7b-4d6d-ebeb-405a3e5dc9d1",
        "colab": {
          "base_uri": "https://localhost:8080/",
          "height": 67
        }
      },
      "source": [
        "print(mix_expand.shape)\n",
        "print(face_embs.shape)\n",
        "print(mix.shape)"
      ],
      "execution_count": 0,
      "outputs": [
        {
          "output_type": "stream",
          "text": [
            "(1, 298, 257, 2)\n",
            "(1, 75, 1, 1792, 2)\n",
            "(298, 257, 2)\n"
          ],
          "name": "stdout"
        }
      ]
    },
    {
      "cell_type": "code",
      "metadata": {
        "id": "nSNqSpqPGjGE",
        "colab_type": "code",
        "outputId": "2a7b3cb2-5aac-4b99-fab4-06ef5fa6107f",
        "colab": {
          "base_uri": "https://localhost:8080/",
          "height": 67
        }
      },
      "source": [
        "dataset = [mix_expand, face_embs]\n",
        "#dataset = np.array(dataset)\n",
        "#print(dataset.shape)\n",
        "print(len(dataset))\n",
        "print(len(dataset[0][0]))\n",
        "print(len(dataset[1][0]))"
      ],
      "execution_count": 0,
      "outputs": [
        {
          "output_type": "stream",
          "text": [
            "2\n",
            "298\n",
            "75\n"
          ],
          "name": "stdout"
        }
      ]
    },
    {
      "cell_type": "code",
      "metadata": {
        "id": "U15qWKmHuNvK",
        "colab_type": "code",
        "colab": {}
      },
      "source": [
        "!cp '/content/gdrive/My Drive/Part IV Project/Colab TFServing/AVmodel-2p-006-0.75753.h5' \"AVmodel-2p-006-0.75753.h5\""
      ],
      "execution_count": 0,
      "outputs": []
    },
    {
      "cell_type": "code",
      "metadata": {
        "id": "73R1XPTiFjpY",
        "colab_type": "code",
        "colab": {}
      },
      "source": [
        "def audio_discriminate_loss2(gamma=0.1,beta = 2*0.1,num_speaker=2):\n",
        "    def loss_func(S_true,S_pred,gamma=gamma,beta=beta,num_speaker=num_speaker):\n",
        "        import keras.backend as K\n",
        "        sum_mtr = K.zeros_like(S_true[:,:,:,:,0])\n",
        "        for i in range(num_speaker):\n",
        "            sum_mtr += K.square(S_true[:,:,:,:,i]-S_pred[:,:,:,:,i])\n",
        "            for j in range(num_speaker):\n",
        "                if i != j:\n",
        "                    sum_mtr -= gamma*(K.square(S_true[:,:,:,:,i]-S_pred[:,:,:,:,j]))\n",
        "\n",
        "        for i in range(num_speaker):\n",
        "            for j in range(i+1,num_speaker):\n",
        "                #sum_mtr -= beta*K.square(S_pred[:,:,:,i]-S_pred[:,:,:,j])\n",
        "                #sum_mtr += beta*K.square(S_true[:,:,:,:,i]-S_true[:,:,:,:,j])\n",
        "                pass\n",
        "        #sum = K.sum(K.maximum(K.flatten(sum_mtr),0))\n",
        "\n",
        "        loss = K.mean(K.flatten(sum_mtr))\n",
        "\n",
        "        return loss\n",
        "    return loss_func\n",
        "\n",
        "audio_loss = audio_discriminate_loss2"
      ],
      "execution_count": 0,
      "outputs": []
    },
    {
      "cell_type": "code",
      "metadata": {
        "id": "wZ9vfGGBFwXF",
        "colab_type": "code",
        "colab": {}
      },
      "source": [
        "# PATH\n",
        "# model_path = './AVmodel-2p-002-0.87080.h5'\t# 234K\n",
        "model_path = './AVmodel-2p-006-0.75753.h5'\t# 50K"
      ],
      "execution_count": 0,
      "outputs": []
    },
    {
      "cell_type": "code",
      "metadata": {
        "id": "FNgGQ_t9LIiD",
        "colab_type": "code",
        "colab": {}
      },
      "source": [
        "from tensorflow.keras.models import load_model"
      ],
      "execution_count": 0,
      "outputs": []
    },
    {
      "cell_type": "code",
      "metadata": {
        "id": "bqA1MexrKyll",
        "colab_type": "code",
        "outputId": "abf8fa99-54c1-4b82-d8fe-3fb4b6c7f713",
        "colab": {
          "base_uri": "https://localhost:8080/",
          "height": 34
        }
      },
      "source": [
        "'''Load model'''\n",
        "# super parameters\n",
        "people_num = 2\n",
        "epochs = 100\n",
        "initial_epoch = 0\n",
        "batch_size = 2 # 4 to feed one 16G GPU\n",
        "gamma_loss = 0.1\n",
        "beta_loss = gamma_loss*2\n",
        "\n",
        "loss_func = audio_loss(gamma=gamma_loss,beta=beta_loss, num_speaker=people_num)\n",
        "model = load_model(model_path)\n",
        "#model = load_model(model_path,custom_objects={\"tf\": tf, 'loss_func': loss_func})"
      ],
      "execution_count": 0,
      "outputs": [
        {
          "output_type": "stream",
          "text": [
            "WARNING:tensorflow:No training configuration found in save file: the model was *not* compiled. Compile it manually.\n"
          ],
          "name": "stdout"
        }
      ]
    },
    {
      "cell_type": "code",
      "metadata": {
        "id": "auts4kM6X_Cs",
        "colab_type": "code",
        "colab": {}
      },
      "source": [
        "import numpy as np\n",
        "import librosa\n",
        "import os \n",
        "from tensorflow.python.framework import tensor_util\n",
        "import tensorflow as tf\n",
        "from tensorflow.python.platform import gfile\n",
        "from tensorflow.core.framework import graph_pb2\n",
        "import operator\n",
        "import itertools\n",
        "from numpy import inf\n",
        "\n",
        "#### Load Data ####\n",
        "# windowing fft/ifft function\n",
        "def stft(data, fft_size=512, step_size=160,padding=True):\n",
        "    # short time fourier transform\n",
        "    if padding == True:\n",
        "        # for 16K sample rate data, 48192-192 = 48000\n",
        "        pad = np.zeros(192,)\n",
        "        data = np.concatenate((data,pad),axis=0)\n",
        "    # padding hanning window 512-400 = 112\n",
        "    window = np.concatenate((np.zeros((56,)),np.hanning(fft_size-112),np.zeros((56,))),axis=0)\n",
        "    win_num = (len(data) - fft_size) // step_size\n",
        "    out = np.ndarray((win_num, fft_size), dtype=data.dtype)\n",
        "    for i in range(win_num):\n",
        "        left = int(i * step_size)\n",
        "        right = int(left + fft_size)\n",
        "        out[i] = data[left: right] * window\n",
        "    F = np.fft.rfft(out, axis=1)\n",
        "    return F\n",
        "\n",
        "def istft(F, fft_size=512, step_size=160,padding=True):\n",
        "    # inverse short time fourier transform\n",
        "    data = np.fft.irfft(F, axis=-1)\n",
        "    # padding hanning window 512-400 = 112\n",
        "    window = np.concatenate((np.zeros((56,)),np.hanning(fft_size-112),np.zeros((56,))),axis=0)\n",
        "    number_windows = F.shape[0]\n",
        "    T = np.zeros((number_windows * step_size + fft_size))\n",
        "    for i in range(number_windows):\n",
        "        head = int(i * step_size)\n",
        "        tail = int(head + fft_size)\n",
        "        T[head:tail] = T[head:tail] + data[i, :] * window\n",
        "    if padding == True:\n",
        "        T = T[:48000]\n",
        "    return T\n",
        "\n",
        "# combine FFT bins to mel frequency bins\n",
        "def mel2freq(mel_data,sr,fft_size,n_mel,fmax=8000):\n",
        "    matrix= librosa.filters.mel(sr, fft_size, n_mel, fmax=fmax)\n",
        "    return np.dot(mel_data,matrix)\n",
        "\n",
        "def freq2mel(f_data,sr,fft_size,n_mel,fmax=8000):\n",
        "    pre_matrix = librosa.filters.mel(sr, fft_size, n_mel, fmax=fmax)\n",
        "    matrix = pre_matrix.T / np.sum(pre_matrix.T,axis=0)\n",
        "    return np.dot(f_data,matrix)\n",
        "\n",
        "# directly time to mel domain transformation\n",
        "def time_to_mel(data,sr,fft_size,n_mel,step_size,fmax=8000):\n",
        "    F = stft(data,fft_size,step_size)\n",
        "    M = freq2mel(F,sr,fft_size,n_mel,fmax=8000)\n",
        "    return M\n",
        "\n",
        "def mel_to_time(M,sr,fft_size,n_mel,step_size,fmax=8000):\n",
        "    F = mel2freq(M,sr,fft_size,n_mel)\n",
        "    T = istft(F,fft_size,step_size)\n",
        "    return T\n",
        "\n",
        "def real_imag_expand(c_data,dim='new'):\n",
        "    # dim = 'new' or 'same'\n",
        "    # expand the complex data to 2X data with true real and image number\n",
        "    if dim == 'new':\n",
        "        D = np.zeros((c_data.shape[0],c_data.shape[1],2))\n",
        "        D[:,:,0] = np.real(c_data)\n",
        "        D[:,:,1] = np.imag(c_data)\n",
        "        return D\n",
        "    if dim =='same':\n",
        "        D = np.zeros((c_data.shape[0],c_data.shape[1]*2))\n",
        "        D[:,::2] = np.real(c_data)\n",
        "        D[:,1::2] = np.imag(c_data)\n",
        "        return D\n",
        "\n",
        "def real_imag_shrink(F,dim='new'):\n",
        "    # dim = 'new' or 'same'\n",
        "    # shrink the complex data to combine real and imag number\n",
        "    F_shrink = np.zeros((F.shape[0], F.shape[1]))\n",
        "    if dim =='new':\n",
        "        F_shrink = F[:,:,0] + F[:,:,1]*1j\n",
        "    if dim =='same':\n",
        "        F_shrink = F[:,::2] + F[:,1::2]*1j\n",
        "    return F_shrink\n",
        "\n",
        "def power_law(data,power=0.6):\n",
        "    # assume input has negative value\n",
        "    mask = np.zeros(data.shape)\n",
        "    mask[data>=0] = 1\n",
        "    mask[data<0] = -1\n",
        "    data = np.power(np.abs(data),power)\n",
        "    data = data*mask\n",
        "    return data\n",
        "\n",
        "def fast_stft(data,power=False,**kwargs):\n",
        "    # directly transform the wav to the input\n",
        "    # power law = A**0.3 , to prevent loud audio from overwhelming soft audio\n",
        "    if power:\n",
        "        data = power_law(data)\n",
        "    return real_imag_expand(stft(data))\n",
        "\n",
        "def fast_istft(F,power=False,**kwargs):\n",
        "    # directly transform the frequency domain data to time domain data\n",
        "    # apply power law\n",
        "    T = istft(real_imag_shrink(F))\n",
        "    if power:\n",
        "        T = power_law(T,(1.0/0.6))\n",
        "    return T\n",
        "\n",
        "\n",
        "def generate_cRM(Y,S):\n",
        "    '''\n",
        "\n",
        "    :param Y: mixed/noisy stft\n",
        "    :param S: clean stft\n",
        "    :return: structed cRM\n",
        "    '''\n",
        "    M = np.zeros(Y.shape)\n",
        "    epsilon = 1e-8\n",
        "    # real part\n",
        "    M_real = np.multiply(Y[:,:,0],S[:,:,0])+np.multiply(Y[:,:,1],S[:,:,1])\n",
        "    square_real = np.square(Y[:,:,0])+np.square(Y[:,:,1])\n",
        "    M_real = np.divide(M_real,square_real+epsilon)\n",
        "    M[:,:,0] = M_real\n",
        "    # imaginary part\n",
        "    M_img = np.multiply(Y[:,:,0],S[:,:,1])-np.multiply(Y[:,:,1],S[:,:,0])\n",
        "    square_img = np.square(Y[:,:,0])+np.square(Y[:,:,1])\n",
        "    M_img = np.divide(M_img,square_img+epsilon)\n",
        "    M[:,:,1] = M_img\n",
        "    return M\n",
        "\n",
        "def cRM_tanh_compress(M,K=10,C=0.1):\n",
        "    '''\n",
        "    Recall that the irm takes on vlaues in the range[0,1],compress the cRM with hyperbolic tangent\n",
        "    :param M: crm (298,257,2)\n",
        "    :param K: parameter to control the compression\n",
        "    :param C: parameter to control the compression\n",
        "    :return crm: compressed crm\n",
        "    '''\n",
        "\n",
        "    numerator = 1-np.exp(-C*M)\n",
        "    numerator[numerator == inf] = 1\n",
        "    numerator[numerator == -inf] = -1\n",
        "    denominator = 1+np.exp(-C*M)\n",
        "    denominator[denominator == inf] = 1\n",
        "    denominator[denominator == -inf] = -1\n",
        "    crm = K * np.divide(numerator,denominator)\n",
        "\n",
        "    return crm\n",
        "\n",
        "def cRM_tanh_recover(O,K=10,C=0.1):\n",
        "    '''\n",
        "\n",
        "    :param O: predicted compressed crm\n",
        "    :param K: parameter to control the compression\n",
        "    :param C: parameter to control the compression\n",
        "    :return M : uncompressed crm\n",
        "    '''\n",
        "\n",
        "    numerator = K-O\n",
        "    denominator = K+O\n",
        "    M = -np.multiply((1.0/C),np.log(np.divide(numerator,denominator)))\n",
        "\n",
        "    return M\n",
        "\n",
        "\n",
        "def fast_cRM(Fclean,Fmix,K=10,C=0.1):\n",
        "    '''\n",
        "\n",
        "    :param Fmix: mixed/noisy stft\n",
        "    :param Fclean: clean stft\n",
        "    :param K: parameter to control the compression\n",
        "    :param C: parameter to control the compression\n",
        "    :return crm: compressed crm\n",
        "    '''\n",
        "    M = generate_cRM(Fmix,Fclean)\n",
        "    crm = cRM_tanh_compress(M,K,C)\n",
        "    return crm\n",
        "\n",
        "def fast_icRM(Y,crm,K=10,C=0.1):\n",
        "    '''\n",
        "    :param Y: mixed/noised stft\n",
        "    :param crm: DNN output of compressed crm\n",
        "    :param K: parameter to control the compression\n",
        "    :param C: parameter to control the compression\n",
        "    :return S: clean stft\n",
        "    '''\n",
        "    M = cRM_tanh_recover(crm,K,C)\n",
        "    S = np.zeros(np.shape(M))\n",
        "    S[:,:,0] = np.multiply(M[:,:,0],Y[:,:,0])-np.multiply(M[:,:,1],Y[:,:,1])\n",
        "    S[:,:,1] = np.multiply(M[:,:,0],Y[:,:,1])+np.multiply(M[:,:,1],Y[:,:,0])\n",
        "    return S"
      ],
      "execution_count": 0,
      "outputs": []
    },
    {
      "cell_type": "code",
      "metadata": {
        "id": "AIE387FsXC2f",
        "colab_type": "code",
        "colab": {}
      },
      "source": [
        "prefix = \"--\"\n",
        "dir_path = './pred/'\n",
        "if not os.path.isdir(dir_path):\n",
        "\tos.mkdir(dir_path)\n",
        "\n",
        "import time"
      ],
      "execution_count": 0,
      "outputs": []
    },
    {
      "cell_type": "code",
      "metadata": {
        "id": "XKUw-LMxXUdf",
        "colab_type": "code",
        "colab": {}
      },
      "source": [
        "import scipy.io.wavfile as wavfile\n",
        "\n",
        "AV_model = model"
      ],
      "execution_count": 0,
      "outputs": []
    },
    {
      "cell_type": "code",
      "metadata": {
        "id": "mefjCx6qXCyn",
        "colab_type": "code",
        "outputId": "99bdb29d-65e5-4c86-a416-1da5f10d5bd0",
        "colab": {
          "base_uri": "https://localhost:8080/",
          "height": 1000
        }
      },
      "source": [
        "num_tests = 30\n",
        "\n",
        "times = []\n",
        "post_processing_times = []\n",
        "\n",
        "for i in range(num_tests):\n",
        "\t'''Predict data'''\n",
        "\tstart_time = time.time()\n",
        "\tcRMs = AV_model.predict([mix_expand, face_embs])\n",
        "\tend_time = time.time()\n",
        "\truntime = end_time-start_time\n",
        "\ttimes.append(runtime)\n",
        "\tprint(\"Time taken for run predict %d:\"%(i+1), runtime)\n",
        "\n",
        "\t'''Save output as wav'''\n",
        "\tstart_time = time.time()\n",
        "\tcRMs = cRMs[0]\n",
        "\tfor j in range(people_num):\n",
        "\t\tcRM = cRMs[:,:,:,j]\n",
        "\t\tassert cRM.shape == (298,257,2)\n",
        "\t\tF = fast_icRM(mix,cRM)\n",
        "\t\tT = fast_istft(F,power=False)\n",
        "\t\tfilename = dir_path+prefix+'.wav'\n",
        "\t\twavfile.write(filename,16000,T)\n",
        "\n",
        "\tend_time = time.time()\n",
        "\truntime = end_time-start_time\n",
        "\tpost_processing_times.append(runtime)\n",
        "\n",
        "\tprint(\"Time taken to post-process %d:\"%(i+1), runtime)"
      ],
      "execution_count": 0,
      "outputs": [
        {
          "output_type": "stream",
          "text": [
            "Time taken for run predict 1: 1.0592503547668457\n",
            "Time taken to post-process 1: 0.01767444610595703\n",
            "Time taken for run predict 2: 0.9874610900878906\n",
            "Time taken to post-process 2: 0.017023324966430664\n",
            "Time taken for run predict 3: 0.9803175926208496\n",
            "Time taken to post-process 3: 0.017446041107177734\n",
            "Time taken for run predict 4: 0.9614777565002441\n",
            "Time taken to post-process 4: 0.017003297805786133\n",
            "Time taken for run predict 5: 1.019965410232544\n",
            "Time taken to post-process 5: 0.02166891098022461\n",
            "Time taken for run predict 6: 0.9943983554840088\n",
            "Time taken to post-process 6: 0.016982316970825195\n",
            "Time taken for run predict 7: 0.9966099262237549\n",
            "Time taken to post-process 7: 0.017363786697387695\n",
            "Time taken for run predict 8: 0.9616096019744873\n",
            "Time taken to post-process 8: 0.020634174346923828\n",
            "Time taken for run predict 9: 0.986407995223999\n",
            "Time taken to post-process 9: 0.018474340438842773\n",
            "Time taken for run predict 10: 0.968926191329956\n",
            "Time taken to post-process 10: 0.019211292266845703\n",
            "Time taken for run predict 11: 0.9664430618286133\n",
            "Time taken to post-process 11: 0.016826152801513672\n",
            "Time taken for run predict 12: 0.9920997619628906\n",
            "Time taken to post-process 12: 0.017985820770263672\n",
            "Time taken for run predict 13: 0.993546724319458\n",
            "Time taken to post-process 13: 0.01707601547241211\n",
            "Time taken for run predict 14: 0.9602110385894775\n",
            "Time taken to post-process 14: 0.017512798309326172\n",
            "Time taken for run predict 15: 0.9816715717315674\n",
            "Time taken to post-process 15: 0.016788721084594727\n",
            "Time taken for run predict 16: 1.0025687217712402\n",
            "Time taken to post-process 16: 0.018082618713378906\n",
            "Time taken for run predict 17: 1.0298881530761719\n",
            "Time taken to post-process 17: 0.017452239990234375\n",
            "Time taken for run predict 18: 0.9666264057159424\n",
            "Time taken to post-process 18: 0.015936613082885742\n",
            "Time taken for run predict 19: 0.9926612377166748\n",
            "Time taken to post-process 19: 0.0170590877532959\n",
            "Time taken for run predict 20: 0.9743978977203369\n",
            "Time taken to post-process 20: 0.017014741897583008\n",
            "Time taken for run predict 21: 0.9904141426086426\n",
            "Time taken to post-process 21: 0.020904541015625\n",
            "Time taken for run predict 22: 0.986032247543335\n",
            "Time taken to post-process 22: 0.017133712768554688\n",
            "Time taken for run predict 23: 1.0138676166534424\n",
            "Time taken to post-process 23: 0.024595022201538086\n",
            "Time taken for run predict 24: 1.004518985748291\n",
            "Time taken to post-process 24: 0.017792940139770508\n",
            "Time taken for run predict 25: 0.9716019630432129\n",
            "Time taken to post-process 25: 0.017337322235107422\n",
            "Time taken for run predict 26: 0.9622738361358643\n",
            "Time taken to post-process 26: 0.018915414810180664\n",
            "Time taken for run predict 27: 0.9789624214172363\n",
            "Time taken to post-process 27: 0.01716160774230957\n",
            "Time taken for run predict 28: 0.9784495830535889\n",
            "Time taken to post-process 28: 0.016976594924926758\n",
            "Time taken for run predict 29: 0.992877721786499\n",
            "Time taken to post-process 29: 0.017406940460205078\n",
            "Time taken for run predict 30: 0.9790055751800537\n",
            "Time taken to post-process 30: 0.017821073532104492\n"
          ],
          "name": "stdout"
        }
      ]
    },
    {
      "cell_type": "code",
      "metadata": {
        "id": "N4U7DL_BXCxY",
        "colab_type": "code",
        "outputId": "fdc3655f-bc04-4058-9ce0-efefbcae6b82",
        "colab": {
          "base_uri": "https://localhost:8080/",
          "height": 87
        }
      },
      "source": [
        "list_of_time = times\n",
        "\n",
        "avg = sum(list_of_time) / len(list_of_time)\n",
        "print(\"Number of test:\", len(list_of_time))\n",
        "print(\"Test times:\", list_of_time)\n",
        "print(\"Average running time:\", avg)"
      ],
      "execution_count": 0,
      "outputs": [
        {
          "output_type": "stream",
          "text": [
            "Number of test: 30\n",
            "Test times: [1.0592503547668457, 0.9874610900878906, 0.9803175926208496, 0.9614777565002441, 1.019965410232544, 0.9943983554840088, 0.9966099262237549, 0.9616096019744873, 0.986407995223999, 0.968926191329956, 0.9664430618286133, 0.9920997619628906, 0.993546724319458, 0.9602110385894775, 0.9816715717315674, 1.0025687217712402, 1.0298881530761719, 0.9666264057159424, 0.9926612377166748, 0.9743978977203369, 0.9904141426086426, 0.986032247543335, 1.0138676166534424, 1.004518985748291, 0.9716019630432129, 0.9622738361358643, 0.9789624214172363, 0.9784495830535889, 0.992877721786499, 0.9790055751800537]\n",
            "Average running time: 0.9878180980682373\n"
          ],
          "name": "stdout"
        }
      ]
    },
    {
      "cell_type": "code",
      "metadata": {
        "id": "dENQpY0LXCtO",
        "colab_type": "code",
        "outputId": "03acdf85-8601-44fa-dd8d-bf9d48fdf322",
        "colab": {
          "base_uri": "https://localhost:8080/",
          "height": 87
        }
      },
      "source": [
        "list_of_time = post_processing_times\n",
        "\n",
        "avg = sum(list_of_time) / len(list_of_time)\n",
        "print(\"Number of test:\", len(list_of_time))\n",
        "print(\"Test times:\", list_of_time)\n",
        "print(\"Average running time:\", avg)"
      ],
      "execution_count": 0,
      "outputs": [
        {
          "output_type": "stream",
          "text": [
            "Number of test: 30\n",
            "Test times: [0.01767444610595703, 0.017023324966430664, 0.017446041107177734, 0.017003297805786133, 0.02166891098022461, 0.016982316970825195, 0.017363786697387695, 0.020634174346923828, 0.018474340438842773, 0.019211292266845703, 0.016826152801513672, 0.017985820770263672, 0.01707601547241211, 0.017512798309326172, 0.016788721084594727, 0.018082618713378906, 0.017452239990234375, 0.015936613082885742, 0.0170590877532959, 0.017014741897583008, 0.020904541015625, 0.017133712768554688, 0.024595022201538086, 0.017792940139770508, 0.017337322235107422, 0.018915414810180664, 0.01716160774230957, 0.016976594924926758, 0.017406940460205078, 0.017821073532104492]\n",
            "Average running time: 0.01804206371307373\n"
          ],
          "name": "stdout"
        }
      ]
    },
    {
      "cell_type": "code",
      "metadata": {
        "id": "vXDiMcrWXCsL",
        "colab_type": "code",
        "colab": {}
      },
      "source": [
        "np.savetxt(\"Cloud_modifiedv2_times.csv\", times, delimiter=\",\")"
      ],
      "execution_count": 0,
      "outputs": []
    },
    {
      "cell_type": "code",
      "metadata": {
        "id": "La1xDL3OXCn4",
        "colab_type": "code",
        "colab": {}
      },
      "source": [
        "np.savetxt(\"Cloud_modifiedv2_postpro_times.csv\", post_processing_times, delimiter=\",\")"
      ],
      "execution_count": 0,
      "outputs": []
    },
    {
      "cell_type": "code",
      "metadata": {
        "id": "as3lsUapXCmz",
        "colab_type": "code",
        "colab": {}
      },
      "source": [
        "new_dir = \"/content/gdrive/My Drive/Part IV Project/Colab TFServing/AV_speech_output/\"\n",
        "if not os.path.isdir(new_dir):\n",
        "  os.mkdir(new_dir)"
      ],
      "execution_count": 0,
      "outputs": []
    },
    {
      "cell_type": "code",
      "metadata": {
        "id": "6FcEMKnmXCix",
        "colab_type": "code",
        "colab": {}
      },
      "source": [
        "!cp \"Cloud_modifiedv2_times.csv\" \"/content/gdrive/My Drive/Part IV Project/Colab TFServing/AV_speech_output/Cloud_modifiedv2_times.csv\""
      ],
      "execution_count": 0,
      "outputs": []
    },
    {
      "cell_type": "code",
      "metadata": {
        "id": "acD36FMgXChg",
        "colab_type": "code",
        "colab": {}
      },
      "source": [
        "!cp \"Cloud_modifiedv2_postpro_times.csv\" \"/content/gdrive/My Drive/Part IV Project/Colab TFServing/AV_speech_output/Cloud_modifiedv2_postpro_times.csv\""
      ],
      "execution_count": 0,
      "outputs": []
    },
    {
      "cell_type": "code",
      "metadata": {
        "id": "zk9FtwiMXCdx",
        "colab_type": "code",
        "colab": {}
      },
      "source": [
        ""
      ],
      "execution_count": 0,
      "outputs": []
    },
    {
      "cell_type": "code",
      "metadata": {
        "id": "5qnyDtTzXCcV",
        "colab_type": "code",
        "outputId": "eeed906f-e82c-4507-d037-b7bc30d00773",
        "colab": {
          "base_uri": "https://localhost:8080/",
          "height": 1000
        }
      },
      "source": [
        "AV_model.summary()"
      ],
      "execution_count": 0,
      "outputs": [
        {
          "output_type": "stream",
          "text": [
            "Model: \"model_1\"\n",
            "__________________________________________________________________________________________________\n",
            "Layer (type)                    Output Shape         Param #     Connected to                     \n",
            "==================================================================================================\n",
            "input_1 (InputLayer)            [(None, 298, 257, 2) 0                                            \n",
            "__________________________________________________________________________________________________\n",
            "as_conv1 (Conv2D)               (None, 298, 257, 96) 1440        input_1[0][0]                    \n",
            "__________________________________________________________________________________________________\n",
            "batch_normalization_1 (BatchNor (None, 298, 257, 96) 384         as_conv1[0][0]                   \n",
            "__________________________________________________________________________________________________\n",
            "re_lu_1 (ReLU)                  (None, 298, 257, 96) 0           batch_normalization_1[0][0]      \n",
            "__________________________________________________________________________________________________\n",
            "as_conv2 (Conv2D)               (None, 298, 257, 96) 64608       re_lu_1[0][0]                    \n",
            "__________________________________________________________________________________________________\n",
            "batch_normalization_2 (BatchNor (None, 298, 257, 96) 384         as_conv2[0][0]                   \n",
            "__________________________________________________________________________________________________\n",
            "re_lu_2 (ReLU)                  (None, 298, 257, 96) 0           batch_normalization_2[0][0]      \n",
            "__________________________________________________________________________________________________\n",
            "as_conv3 (Conv2D)               (None, 298, 257, 96) 230496      re_lu_2[0][0]                    \n",
            "__________________________________________________________________________________________________\n",
            "batch_normalization_3 (BatchNor (None, 298, 257, 96) 384         as_conv3[0][0]                   \n",
            "__________________________________________________________________________________________________\n",
            "re_lu_3 (ReLU)                  (None, 298, 257, 96) 0           batch_normalization_3[0][0]      \n",
            "__________________________________________________________________________________________________\n",
            "as_conv4 (Conv2D)               (None, 298, 257, 96) 230496      re_lu_3[0][0]                    \n",
            "__________________________________________________________________________________________________\n",
            "batch_normalization_4 (BatchNor (None, 298, 257, 96) 384         as_conv4[0][0]                   \n",
            "__________________________________________________________________________________________________\n",
            "re_lu_4 (ReLU)                  (None, 298, 257, 96) 0           batch_normalization_4[0][0]      \n",
            "__________________________________________________________________________________________________\n",
            "as_conv5 (Conv2D)               (None, 298, 257, 96) 230496      re_lu_4[0][0]                    \n",
            "__________________________________________________________________________________________________\n",
            "batch_normalization_5 (BatchNor (None, 298, 257, 96) 384         as_conv5[0][0]                   \n",
            "__________________________________________________________________________________________________\n",
            "re_lu_5 (ReLU)                  (None, 298, 257, 96) 0           batch_normalization_5[0][0]      \n",
            "__________________________________________________________________________________________________\n",
            "as_conv6 (Conv2D)               (None, 298, 257, 96) 230496      re_lu_5[0][0]                    \n",
            "__________________________________________________________________________________________________\n",
            "batch_normalization_6 (BatchNor (None, 298, 257, 96) 384         as_conv6[0][0]                   \n",
            "__________________________________________________________________________________________________\n",
            "re_lu_6 (ReLU)                  (None, 298, 257, 96) 0           batch_normalization_6[0][0]      \n",
            "__________________________________________________________________________________________________\n",
            "as_conv7 (Conv2D)               (None, 298, 257, 96) 230496      re_lu_6[0][0]                    \n",
            "__________________________________________________________________________________________________\n",
            "batch_normalization_7 (BatchNor (None, 298, 257, 96) 384         as_conv7[0][0]                   \n",
            "__________________________________________________________________________________________________\n",
            "re_lu_7 (ReLU)                  (None, 298, 257, 96) 0           batch_normalization_7[0][0]      \n",
            "__________________________________________________________________________________________________\n",
            "as_conv8 (Conv2D)               (None, 298, 257, 96) 230496      re_lu_7[0][0]                    \n",
            "__________________________________________________________________________________________________\n",
            "batch_normalization_8 (BatchNor (None, 298, 257, 96) 384         as_conv8[0][0]                   \n",
            "__________________________________________________________________________________________________\n",
            "re_lu_8 (ReLU)                  (None, 298, 257, 96) 0           batch_normalization_8[0][0]      \n",
            "__________________________________________________________________________________________________\n",
            "as_conv9 (Conv2D)               (None, 298, 257, 96) 230496      re_lu_8[0][0]                    \n",
            "__________________________________________________________________________________________________\n",
            "batch_normalization_9 (BatchNor (None, 298, 257, 96) 384         as_conv9[0][0]                   \n",
            "__________________________________________________________________________________________________\n",
            "re_lu_9 (ReLU)                  (None, 298, 257, 96) 0           batch_normalization_9[0][0]      \n",
            "__________________________________________________________________________________________________\n",
            "as_conv10 (Conv2D)              (None, 298, 257, 96) 230496      re_lu_9[0][0]                    \n",
            "__________________________________________________________________________________________________\n",
            "batch_normalization_10 (BatchNo (None, 298, 257, 96) 384         as_conv10[0][0]                  \n",
            "__________________________________________________________________________________________________\n",
            "re_lu_10 (ReLU)                 (None, 298, 257, 96) 0           batch_normalization_10[0][0]     \n",
            "__________________________________________________________________________________________________\n",
            "as_conv11 (Conv2D)              (None, 298, 257, 96) 230496      re_lu_10[0][0]                   \n",
            "__________________________________________________________________________________________________\n",
            "batch_normalization_11 (BatchNo (None, 298, 257, 96) 384         as_conv11[0][0]                  \n",
            "__________________________________________________________________________________________________\n",
            "re_lu_11 (ReLU)                 (None, 298, 257, 96) 0           batch_normalization_11[0][0]     \n",
            "__________________________________________________________________________________________________\n",
            "as_conv12 (Conv2D)              (None, 298, 257, 96) 230496      re_lu_11[0][0]                   \n",
            "__________________________________________________________________________________________________\n",
            "batch_normalization_12 (BatchNo (None, 298, 257, 96) 384         as_conv12[0][0]                  \n",
            "__________________________________________________________________________________________________\n",
            "re_lu_12 (ReLU)                 (None, 298, 257, 96) 0           batch_normalization_12[0][0]     \n",
            "__________________________________________________________________________________________________\n",
            "as_conv13 (Conv2D)              (None, 298, 257, 96) 230496      re_lu_12[0][0]                   \n",
            "__________________________________________________________________________________________________\n",
            "batch_normalization_13 (BatchNo (None, 298, 257, 96) 384         as_conv13[0][0]                  \n",
            "__________________________________________________________________________________________________\n",
            "re_lu_13 (ReLU)                 (None, 298, 257, 96) 0           batch_normalization_13[0][0]     \n",
            "__________________________________________________________________________________________________\n",
            "as_conv14 (Conv2D)              (None, 298, 257, 96) 230496      re_lu_13[0][0]                   \n",
            "__________________________________________________________________________________________________\n",
            "batch_normalization_14 (BatchNo (None, 298, 257, 96) 384         as_conv14[0][0]                  \n",
            "__________________________________________________________________________________________________\n",
            "re_lu_14 (ReLU)                 (None, 298, 257, 96) 0           batch_normalization_14[0][0]     \n",
            "__________________________________________________________________________________________________\n",
            "as_conv15 (Conv2D)              (None, 298, 257, 8)  776         re_lu_14[0][0]                   \n",
            "__________________________________________________________________________________________________\n",
            "batch_normalization_15 (BatchNo (None, 298, 257, 8)  32          as_conv15[0][0]                  \n",
            "__________________________________________________________________________________________________\n",
            "input_2 (InputLayer)            [(None, 75, 1, 1792, 0                                            \n",
            "__________________________________________________________________________________________________\n",
            "re_lu_15 (ReLU)                 (None, 298, 257, 8)  0           batch_normalization_15[0][0]     \n",
            "__________________________________________________________________________________________________\n",
            "lambda_2 (Lambda)               (None, 75, 1, 2)     0           input_2[0][0]                    \n",
            "__________________________________________________________________________________________________\n",
            "lambda_3 (Lambda)               (None, 75, 1, 2)     0           input_2[0][0]                    \n",
            "__________________________________________________________________________________________________\n",
            "reshape_1 (Reshape)             (None, 298, 2056)    0           re_lu_15[0][0]                   \n",
            "__________________________________________________________________________________________________\n",
            "sequential_2 (Sequential)       (None, 298, 256)     1649664     lambda_2[0][0]                   \n",
            "                                                                 lambda_3[0][0]                   \n",
            "__________________________________________________________________________________________________\n",
            "concatenate_1 (Concatenate)     (None, 298, 2568)    0           reshape_1[0][0]                  \n",
            "                                                                 sequential_2[1][0]               \n",
            "                                                                 sequential_2[2][0]               \n",
            "__________________________________________________________________________________________________\n",
            "time_distributed_1 (TimeDistrib (None, 298, 2568)    0           concatenate_1[0][0]              \n",
            "__________________________________________________________________________________________________\n",
            "bidirectional_1 (Bidirectional) (None, 298, 400)     9500800     time_distributed_1[0][0]         \n",
            "__________________________________________________________________________________________________\n",
            "fc1 (Dense)                     (None, 298, 600)     240600      bidirectional_1[0][0]            \n",
            "__________________________________________________________________________________________________\n",
            "fc2 (Dense)                     (None, 298, 600)     360600      fc1[0][0]                        \n",
            "__________________________________________________________________________________________________\n",
            "fc3 (Dense)                     (None, 298, 600)     360600      fc2[0][0]                        \n",
            "__________________________________________________________________________________________________\n",
            "complex_mask (Dense)            (None, 298, 1028)    617828      fc3[0][0]                        \n",
            "__________________________________________________________________________________________________\n",
            "reshape_4 (Reshape)             (None, 298, 257, 2,  0           complex_mask[0][0]               \n",
            "==================================================================================================\n",
            "Total params: 15,568,276\n",
            "Trainable params: 15,562,500\n",
            "Non-trainable params: 5,776\n",
            "__________________________________________________________________________________________________\n"
          ],
          "name": "stdout"
        }
      ]
    },
    {
      "cell_type": "markdown",
      "metadata": {
        "id": "YU8oVvAGDwE2",
        "colab_type": "text"
      },
      "source": [
        "Most of the following code in this notebook was adapted from https://www.tensorflow.org/tfx/serving/tutorials/Serving_REST_simple"
      ]
    },
    {
      "cell_type": "code",
      "metadata": {
        "id": "AM0bEP5l2rht",
        "colab_type": "code",
        "colab": {}
      },
      "source": [
        "# Fetch the Keras session and save the model\n",
        "# The signature definition is defined by the input and output tensors,\n",
        "# and stored with the default serving key\n",
        "import tempfile\n",
        "\n",
        "MODEL_DIR = tempfile.gettempdir()\n",
        "version = 1\n",
        "export_path = os.path.join(MODEL_DIR, str(version))\n",
        "print('export_path = {}\\n'.format(export_path))\n",
        "if os.path.isdir(export_path):\n",
        "  print('\\nAlready saved a model, cleaning up\\n')\n",
        "  !rm -r {export_path}\n",
        "\n",
        "tf.saved_model.simple_save(\n",
        "    keras.backend.get_session(),\n",
        "    export_path,\n",
        "    inputs={'input_image': model.input},\n",
        "    outputs={t.name:t for t in model.outputs})\n",
        "\n",
        "print('\\nSaved model:')\n",
        "!ls -l {export_path}"
      ],
      "execution_count": 0,
      "outputs": []
    },
    {
      "cell_type": "code",
      "metadata": {
        "id": "VZoDdKDMxZ8C",
        "colab_type": "code",
        "colab": {}
      },
      "source": [
        "print('\\nSaved model:')\n",
        "!ls -l {export_path}"
      ],
      "execution_count": 0,
      "outputs": []
    },
    {
      "cell_type": "code",
      "metadata": {
        "id": "ZRdDvRqDNDof",
        "colab_type": "code",
        "colab": {}
      },
      "source": [
        "!saved_model_cli show --dir {export_path} --all"
      ],
      "execution_count": 0,
      "outputs": []
    }
  ]
}