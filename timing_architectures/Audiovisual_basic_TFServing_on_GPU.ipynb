{
  "nbformat": 4,
  "nbformat_minor": 0,
  "metadata": {
    "colab": {
      "name": "Audiovisual_basic - TFServing on GPU.ipynb",
      "provenance": [],
      "collapsed_sections": [],
      "include_colab_link": true
    },
    "kernelspec": {
      "name": "python3",
      "display_name": "Python 3"
    },
    "accelerator": "GPU"
  },
  "cells": [
    {
      "cell_type": "markdown",
      "metadata": {
        "id": "view-in-github",
        "colab_type": "text"
      },
      "source": [
        "<a href=\"https://colab.research.google.com/github/ktam069/Google_Colab_Audiovisual/blob/master/Audiovisual_basic_TFServing_on_GPU.ipynb\" target=\"_parent\"><img src=\"https://colab.research.google.com/assets/colab-badge.svg\" alt=\"Open In Colab\"/></a>"
      ]
    },
    {
      "cell_type": "code",
      "metadata": {
        "id": "n60gJIp1t1_8",
        "colab_type": "code",
        "outputId": "75a4c2d5-086e-4a94-9a48-e23af1147079",
        "colab": {
          "base_uri": "https://localhost:8080/",
          "height": 121
        }
      },
      "source": [
        "from google.colab import drive \n",
        "drive.mount('/content/gdrive')"
      ],
      "execution_count": 0,
      "outputs": [
        {
          "output_type": "stream",
          "text": [
            "Go to this URL in a browser: https://accounts.google.com/o/oauth2/auth?client_id=947318989803-6bn6qk8qdgf4n4g3pfee6491hc0brc4i.apps.googleusercontent.com&redirect_uri=urn%3Aietf%3Awg%3Aoauth%3A2.0%3Aoob&scope=email%20https%3A%2F%2Fwww.googleapis.com%2Fauth%2Fdocs.test%20https%3A%2F%2Fwww.googleapis.com%2Fauth%2Fdrive%20https%3A%2F%2Fwww.googleapis.com%2Fauth%2Fdrive.photos.readonly%20https%3A%2F%2Fwww.googleapis.com%2Fauth%2Fpeopleapi.readonly&response_type=code\n",
            "\n",
            "Enter your authorization code:\n",
            "··········\n",
            "Mounted at /content/gdrive\n"
          ],
          "name": "stdout"
        }
      ]
    },
    {
      "cell_type": "code",
      "metadata": {
        "id": "6NEPrT0VuNyd",
        "colab_type": "code",
        "outputId": "db6bbf73-ad16-4c1f-89bf-378e27b72126",
        "colab": {
          "base_uri": "https://localhost:8080/",
          "height": 34
        }
      },
      "source": [
        "!ls '/content/gdrive/My Drive/Part IV Project/Colab Notebooks/dataset_npy/'"
      ],
      "execution_count": 0,
      "outputs": [
        {
          "output_type": "stream",
          "text": [
            "dataset_train_0-20.npy\n"
          ],
          "name": "stdout"
        }
      ]
    },
    {
      "cell_type": "code",
      "metadata": {
        "id": "iNMs_T4cwABx",
        "colab_type": "code",
        "colab": {}
      },
      "source": [
        "!cp '/content/gdrive/My Drive/Part IV Project/Colab Notebooks/dataset_npy/dataset_train_0-20.npy' \"dataset_train_0-20.npy\""
      ],
      "execution_count": 0,
      "outputs": []
    },
    {
      "cell_type": "code",
      "metadata": {
        "id": "9v9pJQF4uNrK",
        "colab_type": "code",
        "outputId": "590939e9-7d75-4d36-de22-bec7e9faa909",
        "colab": {
          "base_uri": "https://localhost:8080/",
          "height": 34
        }
      },
      "source": [
        "!ls"
      ],
      "execution_count": 0,
      "outputs": [
        {
          "output_type": "stream",
          "text": [
            "dataset_train_0-20.npy\tgdrive\tsample_data\n"
          ],
          "name": "stdout"
        }
      ]
    },
    {
      "cell_type": "code",
      "metadata": {
        "id": "hWefC4ngp035",
        "colab_type": "code",
        "outputId": "99421207-c7fa-4539-a1fb-cb043b06bda7",
        "colab": {
          "base_uri": "https://localhost:8080/",
          "height": 34
        }
      },
      "source": [
        "# TensorFlow and tf.keras\n",
        "import tensorflow as tf\n",
        "from tensorflow import keras\n",
        "\n",
        "# Helper libraries\n",
        "import numpy as np\n",
        "import matplotlib.pyplot as plt\n",
        "import os\n",
        "import subprocess\n",
        "\n",
        "print(tf.__version__)"
      ],
      "execution_count": 0,
      "outputs": [
        {
          "output_type": "stream",
          "text": [
            "1.14.0\n"
          ],
          "name": "stdout"
        }
      ]
    },
    {
      "cell_type": "code",
      "metadata": {
        "id": "vlcWpg3EuNnz",
        "colab_type": "code",
        "colab": {}
      },
      "source": [
        "dataset_train = np.load(\"dataset_train_0-20.npy\")"
      ],
      "execution_count": 0,
      "outputs": []
    },
    {
      "cell_type": "code",
      "metadata": {
        "id": "YNt6p18-unXn",
        "colab_type": "code",
        "colab": {}
      },
      "source": [
        "# Split dataset into inputs and ground truths\n",
        "x_train = dataset_train[:,:,:,:,0 ]\n",
        "y_train = dataset_train[:,:,:,:,1:]"
      ],
      "execution_count": 0,
      "outputs": []
    },
    {
      "cell_type": "code",
      "metadata": {
        "id": "4-hzh6I6usAv",
        "colab_type": "code",
        "outputId": "3e10edc3-c8f3-4aa5-c2f8-d896db7bc13b",
        "colab": {
          "base_uri": "https://localhost:8080/",
          "height": 50
        }
      },
      "source": [
        "print(x_train.shape)\n",
        "print(y_train.shape)"
      ],
      "execution_count": 0,
      "outputs": [
        {
          "output_type": "stream",
          "text": [
            "(210, 298, 257, 2)\n",
            "(210, 298, 257, 2, 2)\n"
          ],
          "name": "stdout"
        }
      ]
    },
    {
      "cell_type": "code",
      "metadata": {
        "id": "U15qWKmHuNvK",
        "colab_type": "code",
        "colab": {}
      },
      "source": [
        "!cp '/content/gdrive/My Drive/Part IV Project/Colab TFServing/saved_model_basic_22_09_045241.h5' \"saved_model_basic_22_09_045241.h5\""
      ],
      "execution_count": 0,
      "outputs": []
    },
    {
      "cell_type": "code",
      "metadata": {
        "id": "LQTAccWQ0QgN",
        "colab_type": "code",
        "outputId": "26fcbc7c-0926-4b47-c5f0-85e26a2242b1",
        "colab": {
          "base_uri": "https://localhost:8080/",
          "height": 289
        }
      },
      "source": [
        "from tensorflow.keras.models import load_model\n",
        "model = load_model(\"saved_model_basic_22_09_045241.h5\")"
      ],
      "execution_count": 0,
      "outputs": [
        {
          "output_type": "stream",
          "text": [
            "WARNING:tensorflow:From /usr/local/lib/python3.6/dist-packages/tensorflow/python/ops/init_ops.py:97: calling GlorotUniform.__init__ (from tensorflow.python.ops.init_ops) with dtype is deprecated and will be removed in a future version.\n",
            "Instructions for updating:\n",
            "Call initializer instance with the dtype argument instead of passing it to the constructor\n",
            "WARNING:tensorflow:From /usr/local/lib/python3.6/dist-packages/tensorflow/python/ops/init_ops.py:1251: calling VarianceScaling.__init__ (from tensorflow.python.ops.init_ops) with dtype is deprecated and will be removed in a future version.\n",
            "Instructions for updating:\n",
            "Call initializer instance with the dtype argument instead of passing it to the constructor\n",
            "WARNING:tensorflow:From /usr/local/lib/python3.6/dist-packages/tensorflow/python/ops/init_ops.py:97: calling Zeros.__init__ (from tensorflow.python.ops.init_ops) with dtype is deprecated and will be removed in a future version.\n",
            "Instructions for updating:\n",
            "Call initializer instance with the dtype argument instead of passing it to the constructor\n",
            "WARNING:tensorflow:From /usr/local/lib/python3.6/dist-packages/tensorflow/python/ops/init_ops.py:97: calling Ones.__init__ (from tensorflow.python.ops.init_ops) with dtype is deprecated and will be removed in a future version.\n",
            "Instructions for updating:\n",
            "Call initializer instance with the dtype argument instead of passing it to the constructor\n",
            "WARNING:tensorflow:From /usr/local/lib/python3.6/dist-packages/tensorflow/python/ops/init_ops.py:97: calling Orthogonal.__init__ (from tensorflow.python.ops.init_ops) with dtype is deprecated and will be removed in a future version.\n",
            "Instructions for updating:\n",
            "Call initializer instance with the dtype argument instead of passing it to the constructor\n"
          ],
          "name": "stdout"
        }
      ]
    },
    {
      "cell_type": "markdown",
      "metadata": {
        "id": "YU8oVvAGDwE2",
        "colab_type": "text"
      },
      "source": [
        "Most of the following code in this notebook was adapted from https://www.tensorflow.org/tfx/serving/tutorials/Serving_REST_simple"
      ]
    },
    {
      "cell_type": "code",
      "metadata": {
        "id": "AM0bEP5l2rht",
        "colab_type": "code",
        "outputId": "b230d9bd-340f-4b90-9cdb-5d9fc1f2148a",
        "colab": {
          "base_uri": "https://localhost:8080/",
          "height": 306
        }
      },
      "source": [
        "# Fetch the Keras session and save the model\n",
        "# The signature definition is defined by the input and output tensors,\n",
        "# and stored with the default serving key\n",
        "import tempfile\n",
        "\n",
        "MODEL_DIR = tempfile.gettempdir()\n",
        "version = 1\n",
        "export_path = os.path.join(MODEL_DIR, str(version))\n",
        "print('export_path = {}\\n'.format(export_path))\n",
        "if os.path.isdir(export_path):\n",
        "  print('\\nAlready saved a model, cleaning up\\n')\n",
        "  !rm -r {export_path}\n",
        "\n",
        "tf.saved_model.simple_save(\n",
        "    keras.backend.get_session(),\n",
        "    export_path,\n",
        "    inputs={'input_image': model.input},\n",
        "    outputs={t.name:t for t in model.outputs})\n",
        "\n",
        "print('\\nSaved model:')\n",
        "!ls -l {export_path}"
      ],
      "execution_count": 0,
      "outputs": [
        {
          "output_type": "stream",
          "text": [
            "export_path = /tmp/1\n",
            "\n",
            "WARNING:tensorflow:From <ipython-input-11-a5d505b5478d>:15: simple_save (from tensorflow.python.saved_model.simple_save) is deprecated and will be removed in a future version.\n",
            "Instructions for updating:\n",
            "This function will only be available through the v1 compatibility library as tf.compat.v1.saved_model.simple_save.\n",
            "WARNING:tensorflow:From /usr/local/lib/python3.6/dist-packages/tensorflow/python/saved_model/signature_def_utils_impl.py:201: build_tensor_info (from tensorflow.python.saved_model.utils_impl) is deprecated and will be removed in a future version.\n",
            "Instructions for updating:\n",
            "This function will only be available through the v1 compatibility library as tf.compat.v1.saved_model.utils.build_tensor_info or tf.compat.v1.saved_model.build_tensor_info.\n",
            "INFO:tensorflow:Assets added to graph.\n",
            "INFO:tensorflow:No assets to write.\n",
            "INFO:tensorflow:SavedModel written to: /tmp/1/saved_model.pb\n",
            "\n",
            "Saved model:\n",
            "total 604\n",
            "-rw-r--r-- 1 root root 613190 Sep 25 13:46 saved_model.pb\n",
            "drwxr-xr-x 2 root root   4096 Sep 25 13:46 variables\n"
          ],
          "name": "stdout"
        }
      ]
    },
    {
      "cell_type": "code",
      "metadata": {
        "id": "-pEBJXWjwbhM",
        "colab_type": "code",
        "outputId": "9ccb249a-7897-44b2-9ab4-e2e66d9373e4",
        "colab": {
          "base_uri": "https://localhost:8080/",
          "height": 54
        }
      },
      "source": [
        "'''\n",
        "MODEL_DIR = \"\"\n",
        "version = 1\n",
        "export_path = os.path.join(MODEL_DIR, str(version))\n",
        "\n",
        "print('export_path = {}\\n'.format(export_path))\n",
        "if os.path.isdir(export_path):\n",
        "  print('Already saved a model, cleaning up\\n')\n",
        "  !rm -r {export_path}\n",
        "\n",
        "tf.contrib.saved_model.save_keras_model(model, export_path)\n",
        "\n",
        "#!mkdir {export_path}\n",
        "!ls\n",
        "'''"
      ],
      "execution_count": 0,
      "outputs": [
        {
          "output_type": "execute_result",
          "data": {
            "text/plain": [
              "'\\nMODEL_DIR = \"\"\\nversion = 1\\nexport_path = os.path.join(MODEL_DIR, str(version))\\n\\nprint(\\'export_path = {}\\n\\'.format(export_path))\\nif os.path.isdir(export_path):\\n  print(\\'Already saved a model, cleaning up\\n\\')\\n  !rm -r {export_path}\\n\\ntf.contrib.saved_model.save_keras_model(model, export_path)\\n\\n#!mkdir {export_path}\\n!ls\\n'"
            ]
          },
          "metadata": {
            "tags": []
          },
          "execution_count": 12
        }
      ]
    },
    {
      "cell_type": "code",
      "metadata": {
        "id": "VZoDdKDMxZ8C",
        "colab_type": "code",
        "outputId": "d0755418-56b9-4fe5-d690-26907ae81d57",
        "colab": {
          "base_uri": "https://localhost:8080/",
          "height": 101
        }
      },
      "source": [
        "print('\\nSaved model:')\n",
        "!ls -l {export_path}"
      ],
      "execution_count": 0,
      "outputs": [
        {
          "output_type": "stream",
          "text": [
            "\n",
            "Saved model:\n",
            "total 604\n",
            "-rw-r--r-- 1 root root 613190 Sep 25 13:46 saved_model.pb\n",
            "drwxr-xr-x 2 root root   4096 Sep 25 13:46 variables\n"
          ],
          "name": "stdout"
        }
      ]
    },
    {
      "cell_type": "code",
      "metadata": {
        "id": "ZRdDvRqDNDof",
        "colab_type": "code",
        "outputId": "0e654aec-a86d-4502-9b8b-09de75b816e8",
        "colab": {
          "base_uri": "https://localhost:8080/",
          "height": 269
        }
      },
      "source": [
        "!saved_model_cli show --dir {export_path} --all"
      ],
      "execution_count": 0,
      "outputs": [
        {
          "output_type": "stream",
          "text": [
            "\n",
            "MetaGraphDef with tag-set: 'serve' contains the following SignatureDefs:\n",
            "\n",
            "signature_def['serving_default']:\n",
            "  The given SavedModel SignatureDef contains the following input(s):\n",
            "    inputs['input_image'] tensor_info:\n",
            "        dtype: DT_FLOAT\n",
            "        shape: (-1, 298, 257, 2)\n",
            "        name: input_layer_input:0\n",
            "  The given SavedModel SignatureDef contains the following output(s):\n",
            "    outputs['output_layer/Reshape:0'] tensor_info:\n",
            "        dtype: DT_FLOAT\n",
            "        shape: (-1, 298, 257, 2, 2)\n",
            "        name: output_layer/Reshape:0\n",
            "  Method name is: tensorflow/serving/predict\n"
          ],
          "name": "stdout"
        }
      ]
    },
    {
      "cell_type": "code",
      "metadata": {
        "id": "7BowKXBkp-5P",
        "colab_type": "code",
        "outputId": "5d257cbf-874f-4a7f-a0cc-00cdc25fd7ee",
        "colab": {
          "base_uri": "https://localhost:8080/",
          "height": 706
        }
      },
      "source": [
        "# This is the same as you would do from your command line, but without the [arch=amd64], and no sudo\n",
        "# You would instead do:\n",
        "# echo \"deb [arch=amd64] http://storage.googleapis.com/tensorflow-serving-apt stable tensorflow-model-server tensorflow-model-server-universal\" | sudo tee /etc/apt/sources.list.d/tensorflow-serving.list && \\\n",
        "# curl https://storage.googleapis.com/tensorflow-serving-apt/tensorflow-serving.release.pub.gpg | sudo apt-key add -\n",
        "\n",
        "!echo \"deb http://storage.googleapis.com/tensorflow-serving-apt stable tensorflow-model-server tensorflow-model-server-universal\" | tee /etc/apt/sources.list.d/tensorflow-serving.list && \\\n",
        "curl https://storage.googleapis.com/tensorflow-serving-apt/tensorflow-serving.release.pub.gpg | apt-key add -\n",
        "!apt update"
      ],
      "execution_count": 0,
      "outputs": [
        {
          "output_type": "stream",
          "text": [
            "deb http://storage.googleapis.com/tensorflow-serving-apt stable tensorflow-model-server tensorflow-model-server-universal\n",
            "  % Total    % Received % Xferd  Average Speed   Time    Time     Time  Current\n",
            "                                 Dload  Upload   Total   Spent    Left  Speed\n",
            "\r  0     0    0     0    0     0      0      0 --:--:-- --:--:-- --:--:--     0\r100  2943  100  2943    0     0   110k      0 --:--:-- --:--:-- --:--:--  110k\n",
            "OK\n",
            "Get:1 http://storage.googleapis.com/tensorflow-serving-apt stable InRelease [3,012 B]\n",
            "Get:2 https://cloud.r-project.org/bin/linux/ubuntu bionic-cran35/ InRelease [3,626 B]\n",
            "Get:3 http://storage.googleapis.com/tensorflow-serving-apt stable/tensorflow-model-server-universal amd64 Packages [365 B]\n",
            "Get:4 http://storage.googleapis.com/tensorflow-serving-apt stable/tensorflow-model-server amd64 Packages [357 B]\n",
            "Ign:5 https://developer.download.nvidia.com/compute/cuda/repos/ubuntu1804/x86_64  InRelease\n",
            "Get:6 https://cloud.r-project.org/bin/linux/ubuntu bionic-cran35/ Packages [70.9 kB]\n",
            "Ign:7 https://developer.download.nvidia.com/compute/machine-learning/repos/ubuntu1804/x86_64  InRelease\n",
            "Get:8 https://developer.download.nvidia.com/compute/cuda/repos/ubuntu1804/x86_64  Release [564 B]\n",
            "Get:9 https://developer.download.nvidia.com/compute/machine-learning/repos/ubuntu1804/x86_64  Release [564 B]\n",
            "Get:10 https://developer.download.nvidia.com/compute/cuda/repos/ubuntu1804/x86_64  Release.gpg [819 B]\n",
            "Get:11 https://developer.download.nvidia.com/compute/machine-learning/repos/ubuntu1804/x86_64  Release.gpg [833 B]\n",
            "Get:12 http://ppa.launchpad.net/graphics-drivers/ppa/ubuntu bionic InRelease [21.3 kB]\n",
            "Get:13 https://developer.download.nvidia.com/compute/cuda/repos/ubuntu1804/x86_64  Packages [113 kB]\n",
            "Get:14 http://security.ubuntu.com/ubuntu bionic-security InRelease [88.7 kB]\n",
            "Hit:15 http://archive.ubuntu.com/ubuntu bionic InRelease\n",
            "Get:16 https://developer.download.nvidia.com/compute/machine-learning/repos/ubuntu1804/x86_64  Packages [19.8 kB]\n",
            "Get:17 http://archive.ubuntu.com/ubuntu bionic-updates InRelease [88.7 kB]\n",
            "Get:18 http://ppa.launchpad.net/marutter/c2d4u3.5/ubuntu bionic InRelease [15.4 kB]\n",
            "Get:19 http://ppa.launchpad.net/graphics-drivers/ppa/ubuntu bionic/main amd64 Packages [31.7 kB]\n",
            "Get:20 http://archive.ubuntu.com/ubuntu bionic-backports InRelease [74.6 kB]\n",
            "Get:21 http://security.ubuntu.com/ubuntu bionic-security/universe amd64 Packages [769 kB]\n",
            "Get:22 http://ppa.launchpad.net/marutter/c2d4u3.5/ubuntu bionic/main Sources [1,706 kB]\n",
            "Get:23 http://archive.ubuntu.com/ubuntu bionic-updates/restricted amd64 Packages [20.3 kB]\n",
            "Get:24 http://archive.ubuntu.com/ubuntu bionic-updates/main amd64 Packages [960 kB]\n",
            "Get:25 http://security.ubuntu.com/ubuntu bionic-security/multiverse amd64 Packages [5,230 B]\n",
            "Get:26 http://ppa.launchpad.net/marutter/c2d4u3.5/ubuntu bionic/main amd64 Packages [821 kB]\n",
            "Get:27 http://security.ubuntu.com/ubuntu bionic-security/main amd64 Packages [663 kB]\n",
            "Get:28 http://archive.ubuntu.com/ubuntu bionic-updates/multiverse amd64 Packages [8,284 B]\n",
            "Get:29 http://archive.ubuntu.com/ubuntu bionic-updates/universe amd64 Packages [1,288 kB]\n",
            "Get:30 http://archive.ubuntu.com/ubuntu bionic-backports/universe amd64 Packages [4,227 B]\n",
            "Get:31 http://security.ubuntu.com/ubuntu bionic-security/restricted amd64 Packages [9,585 B]\n",
            "Fetched 6,790 kB in 18s (380 kB/s)\n",
            "Reading package lists... Done\n",
            "Building dependency tree       \n",
            "Reading state information... Done\n",
            "124 packages can be upgraded. Run 'apt list --upgradable' to see them.\n"
          ],
          "name": "stdout"
        }
      ]
    },
    {
      "cell_type": "code",
      "metadata": {
        "id": "hgQpHyfqqAoT",
        "colab_type": "code",
        "outputId": "ed661e95-8239-4b9d-ccd5-5d94818bdb24",
        "colab": {
          "base_uri": "https://localhost:8080/",
          "height": 269
        }
      },
      "source": [
        "!apt-get install tensorflow-model-server"
      ],
      "execution_count": 0,
      "outputs": [
        {
          "output_type": "stream",
          "text": [
            "Reading package lists... Done\n",
            "Building dependency tree       \n",
            "Reading state information... Done\n",
            "The following NEW packages will be installed:\n",
            "  tensorflow-model-server\n",
            "0 upgraded, 1 newly installed, 0 to remove and 124 not upgraded.\n",
            "Need to get 151 MB of archives.\n",
            "After this operation, 0 B of additional disk space will be used.\n",
            "Get:1 http://storage.googleapis.com/tensorflow-serving-apt stable/tensorflow-model-server amd64 tensorflow-model-server all 1.14.0 [151 MB]\n",
            "Fetched 151 MB in 2s (61.2 MB/s)\n",
            "Selecting previously unselected package tensorflow-model-server.\n",
            "(Reading database ... 131183 files and directories currently installed.)\n",
            "Preparing to unpack .../tensorflow-model-server_1.14.0_all.deb ...\n",
            "Unpacking tensorflow-model-server (1.14.0) ...\n",
            "Setting up tensorflow-model-server (1.14.0) ...\n"
          ],
          "name": "stdout"
        }
      ]
    },
    {
      "cell_type": "code",
      "metadata": {
        "id": "Pjmz7b1XqB_4",
        "colab_type": "code",
        "colab": {}
      },
      "source": [
        "os.environ[\"MODEL_DIR\"] = MODEL_DIR"
      ],
      "execution_count": 0,
      "outputs": []
    },
    {
      "cell_type": "code",
      "metadata": {
        "id": "1KQgufOUqDTQ",
        "colab_type": "code",
        "outputId": "0da49324-65e1-4da3-a260-b5bfd788440b",
        "colab": {
          "base_uri": "https://localhost:8080/",
          "height": 34
        }
      },
      "source": [
        "%%bash --bg \n",
        "nohup tensorflow_model_server \\\n",
        "  --rest_api_port=8501 \\\n",
        "  --model_name=avspeech_model \\\n",
        "  --model_base_path=\"${MODEL_DIR}\" >server.log 2>&1"
      ],
      "execution_count": 0,
      "outputs": [
        {
          "output_type": "stream",
          "text": [
            "Starting job # 0 in a separate thread.\n"
          ],
          "name": "stdout"
        }
      ]
    },
    {
      "cell_type": "code",
      "metadata": {
        "id": "w-4ILAU3qFZq",
        "colab_type": "code",
        "outputId": "77bcf705-5a83-4a80-da71-1107c5d798f3",
        "colab": {
          "base_uri": "https://localhost:8080/",
          "height": 205
        }
      },
      "source": [
        "!tail server.log"
      ],
      "execution_count": 0,
      "outputs": [
        {
          "output_type": "stream",
          "text": [
            "2019-09-25 13:47:09.123330: I external/org_tensorflow/tensorflow/cc/saved_model/reader.cc:54] Reading meta graph with tags { serve }\n",
            "2019-09-25 13:47:09.130721: I external/org_tensorflow/tensorflow/core/platform/cpu_feature_guard.cc:142] Your CPU supports instructions that this TensorFlow binary was not compiled to use: AVX2 FMA\n",
            "2019-09-25 13:47:09.175564: I external/org_tensorflow/tensorflow/cc/saved_model/loader.cc:202] Restoring SavedModel bundle.\n",
            "2019-09-25 13:47:09.262786: I external/org_tensorflow/tensorflow/cc/saved_model/loader.cc:311] SavedModel load for tags { serve }; Status: success. Took 147107 microseconds.\n",
            "2019-09-25 13:47:09.262890: I tensorflow_serving/servables/tensorflow/saved_model_warmup.cc:103] No warmup data file found at /tmp/1/assets.extra/tf_serving_warmup_requests\n",
            "2019-09-25 13:47:09.262989: I tensorflow_serving/core/loader_harness.cc:86] Successfully loaded servable version {name: avspeech_model version: 1}\n",
            "2019-09-25 13:47:09.264948: I tensorflow_serving/model_servers/server.cc:324] Running gRPC ModelServer at 0.0.0.0:8500 ...\n",
            "[warn] getaddrinfo: address family for nodename not supported\n",
            "2019-09-25 13:47:09.265672: I tensorflow_serving/model_servers/server.cc:344] Exporting HTTP/REST API at:localhost:8501 ...\n",
            "[evhttp_server.cc : 239] RAW: Entering the event loop ...\n"
          ],
          "name": "stdout"
        }
      ]
    },
    {
      "cell_type": "code",
      "metadata": {
        "id": "DIMImp9IqHlV",
        "colab_type": "code",
        "outputId": "9eed0f2e-c0e9-43da-9892-fe26d38ce650",
        "colab": {
          "base_uri": "https://localhost:8080/",
          "height": 54
        }
      },
      "source": [
        "'''\n",
        "def show(idx, title):\n",
        "  plt.figure()\n",
        "  plt.imshow(test_images[idx].reshape(28,28))\n",
        "  plt.axis('off')\n",
        "  plt.title('\\n\\n{}'.format(title), fontdict={'size': 16})\n",
        "\n",
        "import random\n",
        "rando = random.randint(0,len(test_images)-1)\n",
        "show(rando, 'An Example Image: {}'.format(class_names[test_labels[rando]]))\n",
        "'''"
      ],
      "execution_count": 0,
      "outputs": [
        {
          "output_type": "execute_result",
          "data": {
            "text/plain": [
              "\"\\ndef show(idx, title):\\n  plt.figure()\\n  plt.imshow(test_images[idx].reshape(28,28))\\n  plt.axis('off')\\n  plt.title('\\n\\n{}'.format(title), fontdict={'size': 16})\\n\\nimport random\\nrando = random.randint(0,len(test_images)-1)\\nshow(rando, 'An Example Image: {}'.format(class_names[test_labels[rando]]))\\n\""
            ]
          },
          "metadata": {
            "tags": []
          },
          "execution_count": 20
        }
      ]
    },
    {
      "cell_type": "code",
      "metadata": {
        "id": "Vb9hEf423yzW",
        "colab_type": "code",
        "colab": {}
      },
      "source": [
        "!pip install -q requests"
      ],
      "execution_count": 0,
      "outputs": []
    },
    {
      "cell_type": "code",
      "metadata": {
        "id": "_cUf3N4a3f2U",
        "colab_type": "code",
        "colab": {}
      },
      "source": [
        "test_images = x_train"
      ],
      "execution_count": 0,
      "outputs": []
    },
    {
      "cell_type": "code",
      "metadata": {
        "id": "kIXR1U7M6Ts5",
        "colab_type": "code",
        "outputId": "011031df-fa12-477d-f3d3-4615e0637f48",
        "colab": {
          "base_uri": "https://localhost:8080/",
          "height": 34
        }
      },
      "source": [
        "test_images[0:1].shape"
      ],
      "execution_count": 0,
      "outputs": [
        {
          "output_type": "execute_result",
          "data": {
            "text/plain": [
              "(1, 298, 257, 2)"
            ]
          },
          "metadata": {
            "tags": []
          },
          "execution_count": 23
        }
      ]
    },
    {
      "cell_type": "code",
      "metadata": {
        "id": "37ICvkbcqJEx",
        "colab_type": "code",
        "outputId": "7b8be856-d1e1-4690-ee2a-df4655e99538",
        "colab": {
          "base_uri": "https://localhost:8080/",
          "height": 34
        }
      },
      "source": [
        "import json\n",
        "data = json.dumps({\"signature_name\": \"serving_default\", \"instances\": test_images[0:1].tolist()})\n",
        "print('Data: {} ... {}'.format(data[:50], data[len(data)-52:]))"
      ],
      "execution_count": 0,
      "outputs": [
        {
          "output_type": "stream",
          "text": [
            "Data: {\"signature_name\": \"serving_default\", \"instances\": ...  0.28270596265792847], [0.2902107834815979, 0.0]]]]}\n"
          ],
          "name": "stdout"
        }
      ]
    },
    {
      "cell_type": "code",
      "metadata": {
        "id": "5Y50Dh8tqK2s",
        "colab_type": "code",
        "colab": {}
      },
      "source": [
        "import requests\n",
        "headers = {\"content-type\": \"application/json\"}\n",
        "json_response = requests.post('http://localhost:8501/v1/models/avspeech_model:predict', data=data, headers=headers)"
      ],
      "execution_count": 0,
      "outputs": []
    },
    {
      "cell_type": "code",
      "metadata": {
        "id": "BwJ3_Bfw_Gd1",
        "colab_type": "code",
        "colab": {}
      },
      "source": [
        "predictions = json.loads(json_response.text)['predictions']"
      ],
      "execution_count": 0,
      "outputs": []
    },
    {
      "cell_type": "code",
      "metadata": {
        "id": "YJGWP8mO9x7E",
        "colab_type": "code",
        "outputId": "3f1b5611-333f-46ef-97d8-0fd997b74738",
        "colab": {
          "base_uri": "https://localhost:8080/",
          "height": 67
        }
      },
      "source": [
        "print(\"result string length:\", len(json_response.text))\n",
        "print(json_response.text[:128])"
      ],
      "execution_count": 0,
      "outputs": [
        {
          "output_type": "stream",
          "text": [
            "result string length: 4371305\n",
            "{\n",
            "    \"predictions\": [[[[[0.50045526, 0.499316454], [0.49955678, 0.499397397]], [[0.500694752, 0.499889225], [0.499602556, 0.499\n"
          ],
          "name": "stdout"
        }
      ]
    },
    {
      "cell_type": "code",
      "metadata": {
        "id": "_KaWpS6w99-Z",
        "colab_type": "code",
        "outputId": "73b27d54-9a90-4915-eaa2-512c475a0bf1",
        "colab": {
          "base_uri": "https://localhost:8080/",
          "height": 50
        }
      },
      "source": [
        "print(len(predictions))\n",
        "print(str(predictions)[:100])\n",
        "#print(predictions)"
      ],
      "execution_count": 0,
      "outputs": [
        {
          "output_type": "stream",
          "text": [
            "1\n",
            "[[[[[0.50045526, 0.499316454], [0.49955678, 0.499397397]], [[0.500694752, 0.499889225], [0.499602556\n"
          ],
          "name": "stdout"
        }
      ]
    },
    {
      "cell_type": "code",
      "metadata": {
        "id": "BVXwiPCZ_sP6",
        "colab_type": "code",
        "outputId": "690041ea-ddc6-4df1-9d75-26fa4a6433a6",
        "colab": {
          "base_uri": "https://localhost:8080/",
          "height": 168
        }
      },
      "source": [
        "import ast\n",
        "results = ast.literal_eval(str(predictions))\n",
        "results = np.array(results)\n",
        "print(results.shape)\n",
        "print(results[0,:1,:3])"
      ],
      "execution_count": 0,
      "outputs": [
        {
          "output_type": "stream",
          "text": [
            "(1, 298, 257, 2, 2)\n",
            "[[[[0.50045526 0.49931645]\n",
            "   [0.49955678 0.4993974 ]]\n",
            "\n",
            "  [[0.50069475 0.49988922]\n",
            "   [0.49960256 0.49962071]]\n",
            "\n",
            "  [[0.50083208 0.49971414]\n",
            "   [0.49978095 0.49952585]]]]\n"
          ],
          "name": "stdout"
        }
      ]
    },
    {
      "cell_type": "code",
      "metadata": {
        "id": "kMvOSSJr8MUK",
        "colab_type": "code",
        "colab": {}
      },
      "source": [
        "np.save(\"avspeech_output\", results)"
      ],
      "execution_count": 0,
      "outputs": []
    },
    {
      "cell_type": "code",
      "metadata": {
        "colab_type": "code",
        "id": "DEot7SnMH0-J",
        "colab": {}
      },
      "source": [
        "new_dir = \"/content/gdrive/My Drive/Part IV Project/Colab TFServing/AV_basic_output/\"\n",
        "if not os.path.isdir(new_dir):\n",
        "  os.mkdir(new_dir)"
      ],
      "execution_count": 0,
      "outputs": []
    },
    {
      "cell_type": "code",
      "metadata": {
        "id": "AjeTD4T7HayH",
        "colab_type": "code",
        "colab": {}
      },
      "source": [
        "!cp \"avspeech_output.npy\" \"/content/gdrive/My Drive/Part IV Project/Colab TFServing/AV_basic_output/avspeech_output.npy\""
      ],
      "execution_count": 0,
      "outputs": []
    },
    {
      "cell_type": "code",
      "metadata": {
        "id": "T6yA9SgaqM14",
        "colab_type": "code",
        "colab": {}
      },
      "source": [
        "# Call a particular version\n",
        "headers = {\"content-type\": \"application/json\"}\n",
        "json_response = requests.post('http://localhost:8501/v1/models/avspeech_model/versions/1:predict', data=data, headers=headers)\n",
        "predictions = json.loads(json_response.text)['predictions']"
      ],
      "execution_count": 0,
      "outputs": []
    },
    {
      "cell_type": "code",
      "metadata": {
        "id": "0NKQEpwOBoAU",
        "colab_type": "code",
        "colab": {}
      },
      "source": [
        "import time"
      ],
      "execution_count": 0,
      "outputs": []
    },
    {
      "cell_type": "code",
      "metadata": {
        "id": "vvFG7X-xqOqD",
        "colab_type": "code",
        "outputId": "6671bc28-8dfd-4b11-af82-c1ef98ca78ad",
        "colab": {
          "base_uri": "https://localhost:8080/",
          "height": 34
        }
      },
      "source": [
        "headers = {\"content-type\": \"application/json\"}\n",
        "start_time = time.time()\n",
        "json_response = requests.post('http://localhost:8501/v1/models/avspeech_model:predict', data=data, headers=headers)\n",
        "end_time = time.time()\n",
        "print(end_time-start_time)"
      ],
      "execution_count": 0,
      "outputs": [
        {
          "output_type": "stream",
          "text": [
            "9.772232294082642\n"
          ],
          "name": "stdout"
        }
      ]
    },
    {
      "cell_type": "code",
      "metadata": {
        "id": "fgo8V7bvB1Y6",
        "colab_type": "code",
        "outputId": "011e66f3-30fd-4eb0-d591-dc8d8b75dfa6",
        "colab": {
          "base_uri": "https://localhost:8080/",
          "height": 87
        }
      },
      "source": [
        "headers = {\"content-type\": \"application/json\"}\n",
        "\n",
        "times = []\n",
        "num_tests = 30\n",
        "\n",
        "for i in range(num_tests):\n",
        "  d = json.dumps({\"signature_name\": \"serving_default\", \"instances\": test_images[i:i+1].tolist()})\n",
        "  start_time = time.time()\n",
        "  json_response = requests.post('http://localhost:8501/v1/models/avspeech_model:predict', data=d, headers=headers)\n",
        "  end_time = time.time()\n",
        "  runtime = end_time-start_time\n",
        "  times.append(runtime)\n",
        "\n",
        "avg = sum(times) / len(times)\n",
        "print(\"Number of test:\", len(times))\n",
        "print(\"Test times:\", times)\n",
        "print(\"Average running time:\", avg)"
      ],
      "execution_count": 0,
      "outputs": [
        {
          "output_type": "stream",
          "text": [
            "Number of test: 30\n",
            "Test times: [9.687697887420654, 9.431162118911743, 9.37843108177185, 9.368245363235474, 9.30911922454834, 9.307308912277222, 9.366823196411133, 9.367759227752686, 9.529803037643433, 9.526405096054077, 9.49414873123169, 9.576581239700317, 9.372554063796997, 9.297653436660767, 9.367451667785645, 9.394316673278809, 9.325661897659302, 9.46376085281372, 9.43920350074768, 9.438074111938477, 9.63651704788208, 9.44785475730896, 9.390293598175049, 9.258939504623413, 9.33358383178711, 9.422390460968018, 9.68515157699585, 9.66890811920166, 9.642473459243774, 9.656212568283081]\n",
            "Average running time: 9.452816208203634\n"
          ],
          "name": "stdout"
        }
      ]
    },
    {
      "cell_type": "code",
      "metadata": {
        "id": "dnQah46UGvpw",
        "colab_type": "code",
        "outputId": "c6ad5abb-5e74-440e-aa20-9064d2136a69",
        "colab": {
          "base_uri": "https://localhost:8080/",
          "height": 87
        }
      },
      "source": [
        "headers = {\"content-type\": \"application/json\"}\n",
        "\n",
        "times = []\n",
        "num_tests = 30\n",
        "\n",
        "for i in range(num_tests):\n",
        "  d = json.dumps({\"signature_name\": \"serving_default\", \"instances\": test_images[i:i+1].tolist()})\n",
        "  start_time = time.time()\n",
        "  json_response = requests.post('http://localhost:8501/v1/models/avspeech_model:predict', data=d, headers=headers)\n",
        "  end_time = time.time()\n",
        "  runtime = end_time-start_time\n",
        "  times.append(runtime)\n",
        "\n",
        "avg = sum(times) / len(times)\n",
        "print(\"Number of test:\", len(times))\n",
        "print(\"Test times:\", times)\n",
        "print(\"Average running time:\", avg)"
      ],
      "execution_count": 0,
      "outputs": [
        {
          "output_type": "stream",
          "text": [
            "Number of test: 30\n",
            "Test times: [9.488592624664307, 9.57523226737976, 9.638319730758667, 9.626328945159912, 9.680450201034546, 9.574971675872803, 9.52237868309021, 9.452747344970703, 9.417555570602417, 9.454872608184814, 9.54455041885376, 9.556065797805786, 9.486701011657715, 9.44108533859253, 9.43125319480896, 9.62403917312622, 9.797571897506714, 9.750877380371094, 9.692318439483643, 9.65929365158081, 9.738107204437256, 9.853883266448975, 9.773972034454346, 9.716116428375244, 9.809432983398438, 9.835650205612183, 9.845261096954346, 10.029192924499512, 9.808818578720093, 9.81845235824585]\n",
            "Average running time: 9.65480310122172\n"
          ],
          "name": "stdout"
        }
      ]
    },
    {
      "cell_type": "code",
      "metadata": {
        "id": "uolSIpW_H213",
        "colab_type": "code",
        "outputId": "b4eb458f-4e0d-47bd-81d4-5777571f51e5",
        "colab": {
          "base_uri": "https://localhost:8080/",
          "height": 87
        }
      },
      "source": [
        "headers = {\"content-type\": \"application/json\"}\n",
        "\n",
        "times = []\n",
        "num_tests = 30\n",
        "\n",
        "for i in range(num_tests):\n",
        "  d = json.dumps({\"signature_name\": \"serving_default\", \"instances\": test_images[i:i+1].tolist()})\n",
        "  start_time = time.time()\n",
        "  json_response = requests.post('http://localhost:8501/v1/models/avspeech_model:predict', data=d, headers=headers)\n",
        "  end_time = time.time()\n",
        "  runtime = end_time-start_time\n",
        "  times.append(runtime)\n",
        "\n",
        "avg = sum(times) / len(times)\n",
        "print(\"Number of test:\", len(times))\n",
        "print(\"Test times:\", times)\n",
        "print(\"Average running time:\", avg)"
      ],
      "execution_count": 0,
      "outputs": [
        {
          "output_type": "stream",
          "text": [
            "Number of test: 30\n",
            "Test times: [5.875006914138794, 5.7138895988464355, 5.669135570526123, 5.598212957382202, 5.440412521362305, 5.518384218215942, 5.378460168838501, 5.528931617736816, 5.41772985458374, 5.416262865066528, 5.43831467628479, 5.454464912414551, 5.457348346710205, 5.533688545227051, 5.487878084182739, 5.217731714248657, 5.232433557510376, 5.152238130569458, 5.19244909286499, 5.18646502494812, 5.1934897899627686, 5.181354761123657, 5.2429211139678955, 5.198957443237305, 5.199333190917969, 5.063434600830078, 5.0766355991363525, 5.056780576705933, 5.206295490264893, 5.236968994140625]\n",
            "Average running time: 5.352186997731526\n"
          ],
          "name": "stdout"
        }
      ]
    },
    {
      "cell_type": "code",
      "metadata": {
        "id": "mlwPFJClLT4G",
        "colab_type": "code",
        "outputId": "11b54583-0826-40fd-a1f1-3a6fdbdf35fc",
        "colab": {
          "base_uri": "https://localhost:8080/",
          "height": 87
        }
      },
      "source": [
        "headers = {\"content-type\": \"application/json\"}\n",
        "\n",
        "times = []\n",
        "num_tests = 100\n",
        "\n",
        "for i in range(num_tests):\n",
        "  d = json.dumps({\"signature_name\": \"serving_default\", \"instances\": test_images[i:i+1].tolist()})\n",
        "  start_time = time.time()\n",
        "  json_response = requests.post('http://localhost:8501/v1/models/avspeech_model:predict', data=d, headers=headers)\n",
        "  end_time = time.time()\n",
        "  runtime = end_time-start_time\n",
        "  times.append(runtime)\n",
        "\n",
        "avg = sum(times) / len(times)\n",
        "print(\"Number of test:\", len(times))\n",
        "print(\"Test times:\", times)\n",
        "print(\"Average running time:\", avg)"
      ],
      "execution_count": 0,
      "outputs": [
        {
          "output_type": "stream",
          "text": [
            "Number of test: 100\n",
            "Test times: [5.278883218765259, 5.383906602859497, 5.351484537124634, 5.3050994873046875, 5.249265432357788, 5.348854303359985, 5.262177228927612, 5.2690465450286865, 5.374250650405884, 5.533603191375732, 5.498345613479614, 5.26525354385376, 5.230463027954102, 5.29756236076355, 5.231868028640747, 5.1011247634887695, 5.0682783126831055, 5.08689546585083, 5.097135305404663, 5.170293807983398, 5.11630916595459, 5.089215040206909, 5.1259987354278564, 5.090400695800781, 5.1059958934783936, 5.156183242797852, 5.120934963226318, 5.049148321151733, 5.055005311965942, 4.997024297714233, 5.011581659317017, 5.058854103088379, 4.964389085769653, 4.978443622589111, 4.9912941455841064, 5.018040895462036, 4.9677653312683105, 5.01768946647644, 4.96070408821106, 5.026818752288818, 5.088963508605957, 5.101289510726929, 5.048648118972778, 4.950058221817017, 4.824756860733032, 4.940420866012573, 4.8930535316467285, 4.929257154464722, 5.005452632904053, 4.942628383636475, 4.965582847595215, 5.031228542327881, 4.966300010681152, 4.945181846618652, 5.03860068321228, 5.136263370513916, 5.125635385513306, 4.950998783111572, 4.967969179153442, 4.865993976593018, 4.901804447174072, 4.914631605148315, 4.891034364700317, 4.983809232711792, 4.940665245056152, 4.8917787075042725, 4.917654514312744, 4.946101188659668, 4.888732671737671, 5.14318323135376, 5.1650590896606445, 5.159733295440674, 5.073158502578735, 4.888979434967041, 4.9074437618255615, 4.931625604629517, 4.864506721496582, 4.941838264465332, 4.897473573684692, 4.91604208946228, 4.925299167633057, 4.874712228775024, 4.8543055057525635, 4.889836072921753, 4.872890472412109, 4.8619279861450195, 4.87641167640686, 4.933123826980591, 4.973848104476929, 4.883587837219238, 4.836111068725586, 4.927164077758789, 4.88721489906311, 4.865723609924316, 4.89957070350647, 4.847850561141968, 4.853200197219849, 4.908276319503784, 4.856725692749023, 4.860933542251587]\n",
            "Average running time: 5.0287784075737\n"
          ],
          "name": "stdout"
        }
      ]
    },
    {
      "cell_type": "code",
      "metadata": {
        "id": "PaJsf4AxIqCR",
        "colab_type": "code",
        "outputId": "12573bef-c394-4a86-9478-25225cb8ab86",
        "colab": {
          "base_uri": "https://localhost:8080/",
          "height": 87
        }
      },
      "source": [
        "headers = {\"content-type\": \"application/json\"}\n",
        "\n",
        "times = []\n",
        "num_tests = 100\n",
        "\n",
        "for i in range(num_tests):\n",
        "  d = json.dumps({\"signature_name\": \"serving_default\", \"instances\": test_images[i:i+1].tolist()})\n",
        "  start_time = time.time()\n",
        "  json_response = requests.post('http://localhost:8501/v1/models/avspeech_model:predict', data=d, headers=headers)\n",
        "  end_time = time.time()\n",
        "  runtime = end_time-start_time\n",
        "  times.append(runtime)\n",
        "\n",
        "avg = sum(times) / len(times)\n",
        "print(\"Number of test:\", len(times))\n",
        "print(\"Test times:\", times)\n",
        "print(\"Average running time:\", avg)"
      ],
      "execution_count": 0,
      "outputs": [
        {
          "output_type": "stream",
          "text": [
            "Number of test: 100\n",
            "Test times: [5.81235671043396, 5.713325500488281, 6.416647434234619, 5.840157508850098, 6.1336586475372314, 6.357832193374634, 6.408709764480591, 6.46977424621582, 6.409029006958008, 6.185210227966309, 6.001291275024414, 6.027223348617554, 5.966468095779419, 5.9876837730407715, 5.878033638000488, 5.82472562789917, 5.913345813751221, 5.924131870269775, 6.035085678100586, 6.02473783493042, 6.026598691940308, 5.927107095718384, 5.916055679321289, 5.862263917922974, 5.9963085651397705, 6.1368184089660645, 5.916751861572266, 6.134869813919067, 6.529178857803345, 6.084124565124512, 5.874738693237305, 6.044142961502075, 6.009650707244873, 5.992861032485962, 5.915069818496704, 5.862044811248779, 5.88100790977478, 5.858445882797241, 6.0270020961761475, 5.814558267593384, 5.865767002105713, 5.756867170333862, 5.776489019393921, 5.754576206207275, 5.633662700653076, 5.5552146434783936, 5.771476745605469, 5.631785154342651, 5.783599853515625, 5.586092948913574, 5.743222236633301, 5.735281705856323, 5.74427604675293, 5.591374635696411, 5.49769401550293, 5.460981845855713, 5.530402660369873, 5.493083477020264, 5.503273010253906, 5.487805366516113, 5.440861940383911, 5.409539461135864, 5.435884475708008, 5.390332937240601, 5.356411695480347, 5.523401498794556, 5.490309953689575, 5.289503335952759, 5.218942642211914, 5.358417987823486, 5.305379390716553, 5.2895827293396, 5.175535202026367, 5.295382499694824, 5.338353395462036, 5.417353391647339, 5.351802110671997, 5.396631240844727, 5.4158313274383545, 5.340167284011841, 5.548264741897583, 5.487535715103149, 5.283998489379883, 5.404422044754028, 5.377874135971069, 5.283187389373779, 5.3677918910980225, 5.232235431671143, 5.162717819213867, 5.162858009338379, 5.112850904464722, 5.003371953964233, 5.106616497039795, 5.015471935272217, 5.142183065414429, 5.223768472671509, 5.137275457382202, 5.169626235961914, 5.149394273757935, 5.128698110580444]\n",
            "Average running time: 5.657817213535309\n"
          ],
          "name": "stdout"
        }
      ]
    },
    {
      "cell_type": "code",
      "metadata": {
        "id": "foNZru36ET14",
        "colab_type": "code",
        "colab": {}
      },
      "source": [
        "np.savetxt(\"TFServing_GPU_times.csv\", times, delimiter=\",\")"
      ],
      "execution_count": 0,
      "outputs": []
    },
    {
      "cell_type": "code",
      "metadata": {
        "id": "39R-8jzaEhb_",
        "colab_type": "code",
        "colab": {}
      },
      "source": [
        "!cp \"TFServing_GPU_times.csv\" \"/content/gdrive/My Drive/Part IV Project/Colab TFServing/AV_basic_output/TFServing_GPU_times.csv\""
      ],
      "execution_count": 0,
      "outputs": []
    }
  ]
}