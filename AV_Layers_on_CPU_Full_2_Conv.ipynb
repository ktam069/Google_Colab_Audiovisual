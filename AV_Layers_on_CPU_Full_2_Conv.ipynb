{
  "nbformat": 4,
  "nbformat_minor": 0,
  "metadata": {
    "colab": {
      "name": "AV Layers on CPU - Full 2-Conv.ipynb",
      "provenance": [],
      "collapsed_sections": [],
      "include_colab_link": true
    },
    "kernelspec": {
      "name": "python3",
      "display_name": "Python 3"
    }
  },
  "cells": [
    {
      "cell_type": "markdown",
      "metadata": {
        "id": "view-in-github",
        "colab_type": "text"
      },
      "source": [
        "<a href=\"https://colab.research.google.com/github/ktam069/Google_Colab_Audiovisual/blob/master/AV_Layers_on_CPU_Full_2_Conv.ipynb\" target=\"_parent\"><img src=\"https://colab.research.google.com/assets/colab-badge.svg\" alt=\"Open In Colab\"/></a>"
      ]
    },
    {
      "cell_type": "markdown",
      "metadata": {
        "id": "h_cynixGXYa-",
        "colab_type": "text"
      },
      "source": [
        "Connect to Google Drive to access npy dataset of audio input for training/testing"
      ]
    },
    {
      "cell_type": "code",
      "metadata": {
        "id": "RwOkfpDuXN_I",
        "colab_type": "code",
        "outputId": "aec7204c-3231-42a3-b9f9-95f4b1fbadd3",
        "colab": {
          "base_uri": "https://localhost:8080/",
          "height": 121
        }
      },
      "source": [
        "from google.colab import drive \n",
        "drive.mount('/content/gdrive') "
      ],
      "execution_count": 1,
      "outputs": [
        {
          "output_type": "stream",
          "text": [
            "Go to this URL in a browser: https://accounts.google.com/o/oauth2/auth?client_id=947318989803-6bn6qk8qdgf4n4g3pfee6491hc0brc4i.apps.googleusercontent.com&redirect_uri=urn%3Aietf%3Awg%3Aoauth%3A2.0%3Aoob&scope=email%20https%3A%2F%2Fwww.googleapis.com%2Fauth%2Fdocs.test%20https%3A%2F%2Fwww.googleapis.com%2Fauth%2Fdrive%20https%3A%2F%2Fwww.googleapis.com%2Fauth%2Fdrive.photos.readonly%20https%3A%2F%2Fwww.googleapis.com%2Fauth%2Fpeopleapi.readonly&response_type=code\n",
            "\n",
            "Enter your authorization code:\n",
            "··········\n",
            "Mounted at /content/gdrive\n"
          ],
          "name": "stdout"
        }
      ]
    },
    {
      "cell_type": "code",
      "metadata": {
        "id": "t-VSebCUfYZ7",
        "colab_type": "code",
        "colab": {}
      },
      "source": [
        "# Main program - Part IV Project 80 Basic Version\n",
        "\n",
        "# import pandas as pd\n",
        "import numpy as np\n",
        "import matplotlib.pyplot as plt\n",
        "import librosa\n",
        "from scipy.io import wavfile"
      ],
      "execution_count": 0,
      "outputs": []
    },
    {
      "cell_type": "code",
      "metadata": {
        "id": "alYFRe80gYU0",
        "colab_type": "code",
        "colab": {}
      },
      "source": [
        "import tensorflow as tf\n",
        "from tensorflow.keras.models import Sequential, load_model\n",
        "from tensorflow.keras.layers import Input, Dense, Conv2D, LSTM, Bidirectional\n",
        "from tensorflow.keras.layers import BatchNormalization, Activation, Flatten, TimeDistributed, Reshape\n",
        "from tensorflow.keras.callbacks import ModelCheckpoint"
      ],
      "execution_count": 0,
      "outputs": []
    },
    {
      "cell_type": "code",
      "metadata": {
        "id": "Dp7FLs_3gZ7b",
        "colab_type": "code",
        "colab": {}
      },
      "source": [
        "import os\n",
        "# import sys\n",
        "import glob\n",
        "from datetime import datetime"
      ],
      "execution_count": 0,
      "outputs": []
    },
    {
      "cell_type": "code",
      "metadata": {
        "id": "JvHnxt-Wf7H8",
        "colab_type": "code",
        "outputId": "f4dc506e-327d-4d01-c2e3-5d544adc5745",
        "colab": {
          "base_uri": "https://localhost:8080/",
          "height": 1000
        }
      },
      "source": [
        "# Main program - Part IV Project 80 Basic Version\n",
        "\n",
        "# import pandas as pd\n",
        "import numpy as np\n",
        "import matplotlib.pyplot as plt\n",
        "import librosa\n",
        "from scipy.io import wavfile\n",
        "\n",
        "import tensorflow as tf\n",
        "from keras.models import Sequential, load_model, Model\n",
        "from keras.layers import Input, Dense, Conv2D, LSTM, Bidirectional\n",
        "from keras.layers import BatchNormalization, Activation, Flatten, TimeDistributed, Reshape\n",
        "from keras.callbacks import ModelCheckpoint\n",
        "from keras.layers import concatenate\n",
        "from keras.layers import Lambda\n",
        "\n",
        "import os\n",
        "# import sys\n",
        "import glob\n",
        "from datetime import datetime\n",
        "\n",
        "# ===== Settings =====\n",
        "\n",
        "# Display options\n",
        "PRINT_DATA = False\n",
        "DISPLAY_GRAPHS = False\n",
        "\n",
        "# Data transformation/processing\n",
        "NORMALISE_DATA = False\n",
        "POWER_ENCODE = True\n",
        "\n",
        "# Use float32 format for dataset ndarrays\n",
        "USE_FLOAT32 = True\n",
        "\n",
        "# Range of data to use for training (excludes END_ID)\n",
        "START_ID = 0\n",
        "END_ID = 21\n",
        "\n",
        "# Sampling rate\n",
        "SAMPLING_RATE = 16000\n",
        "\n",
        "# Filepaths to the locations for input audio-visual files\n",
        "# path_to_data = \"./data/\"\n",
        "path_to_data_audio = \"./data/audio/audio_train/\"\n",
        "path_to_data_video = \"./data/video/face_input/\"\n",
        "# audio_data_name = \"trim_audio_train%d.wav\"\n",
        "\n",
        "# Filepaths to the locations for saved data and models\n",
        "path_to_models = \"./saved_models/\"\n",
        "path_to_saved_datasets = \"./dataset_npy/\"\n",
        "path_to_outputs = \"./output_wavs/\"\n",
        "\n",
        "# ====================\n",
        "\n",
        "'''def convolution_model(num_speakers=2):'''\n",
        "\n",
        "num_speakers=2\n",
        "\n",
        "# == Audio convolution layers ==\n",
        "\n",
        "# Input layer for functional model\n",
        "audio_inputs = Input(shape=(298, 257, 2))\n",
        "\n",
        "# Convolution layers\n",
        "model = Conv2D(96, kernel_size=(1,7), padding='same', dilation_rate=(1,1))(audio_inputs)\n",
        "model = BatchNormalization()(model)\n",
        "model = Activation(\"relu\")(model)\n",
        "\n",
        "model = Conv2D(8, kernel_size=(1,1), padding='same', dilation_rate=(1,1))(model)\n",
        "model = BatchNormalization()(model)\n",
        "model = Activation(\"relu\")(model)\n",
        "\n",
        "audio_outputs = Reshape((298, 8*257))(model)\n",
        "\n",
        "audio_model = Model(audio_inputs, audio_outputs)\n",
        "\n",
        "# == Visual convolution layers ==\n",
        "\n",
        "visual_inputs_list = []\n",
        "visual_outputs_list = []\n",
        "\n",
        "for i in range(num_speakers):\n",
        "  # Input layer for functional model\n",
        "  # TODO: check the correctness of the input layer\n",
        "  visual_inputs = Input(shape=(75, 1, 1024))\n",
        "\n",
        "  # Convolution layers\n",
        "  model = Conv2D(256, kernel_size=(7,1), padding='same', dilation_rate=(1,1))(visual_inputs)\n",
        "  model = BatchNormalization()(model)\n",
        "  model = Activation(\"relu\")(model)\n",
        "  \n",
        "  model = Conv2D(256, kernel_size=(5,1), padding='same', dilation_rate=(16,1))(model)\n",
        "  model = BatchNormalization()(model)\n",
        "  model = Activation(\"relu\")(model)\n",
        "\n",
        "  model = Reshape((75, 256, 1))(model)\n",
        "\n",
        "  # TODO - upsampling code taken from other repo\n",
        "  def UpSampling2DBilinear(size):\n",
        "    return Lambda(lambda x: tf.image.resize_bilinear(x, size, align_corners=True))\n",
        "\n",
        "  model = UpSampling2DBilinear((298, 256))(model)\n",
        "\n",
        "  visual_outputs = Reshape((298, 256))(model)\n",
        "\n",
        "  visual_model = Model(visual_inputs, visual_outputs)\n",
        "\n",
        "  # visual_model.summary()\n",
        "\n",
        "  visual_inputs_list.append(visual_inputs)\n",
        "  visual_outputs_list.append(visual_outputs)\n",
        "\n",
        "# == AV fused neural network ==\n",
        "\n",
        "fused_model = concatenate([audio_outputs]+visual_outputs_list, axis=2)\n",
        "\n",
        "# AV fusion step(s)\n",
        "fused_model = TimeDistributed(Flatten())(fused_model)\n",
        "\n",
        "# BLSTM\n",
        "new_matrix_length = 400\n",
        "# fused_model = Bidirectional(LSTM(new_matrix_length//2, return_sequences=True, input_shape=(298, 257*8)))(fused_model)\n",
        "fused_model = Bidirectional(LSTM(new_matrix_length//2, return_sequences=True, input_shape=(298, 257*8 + 256*num_speakers)))(fused_model)\n",
        "\n",
        "# Fully connected layers\n",
        "fused_model = Dense(600, activation=\"relu\")(fused_model)\n",
        "fused_model = Dense(600, activation=\"relu\")(fused_model)\n",
        "fused_model = Dense(600, activation=\"relu\")(fused_model)\n",
        "\n",
        "# Output layer (i.e. complex masks)\n",
        "fused_model = Dense(257*2*num_speakers, activation=\"sigmoid\")(fused_model)\t\t\t\t# TODO: check if this is more correct (based on the paper)\n",
        "outputs_complex_masks = Reshape((298, 257, 2, num_speakers), name=\"output_layer\")(fused_model)\n",
        "\n",
        "av_model = Model(inputs=[audio_inputs]+visual_inputs_list, outputs=outputs_complex_masks)\n",
        "\n",
        "model = av_model\n",
        "\n",
        "# Print the output shapes of each model layer\n",
        "for layer in model.layers:\n",
        "  name = layer.get_config()[\"name\"]\n",
        "  if \"batch_normal\" in name or \"activation\" in name:\n",
        "    continue\n",
        "  print(layer.output_shape, \"\\t\", name)\n",
        "\n",
        "# Alternatively, print the default keras model summary\n",
        "model.summary()\n",
        "\n",
        "# Compile the model before training\n",
        "model.compile(optimizer='adam', loss='mse', metrics=['accuracy'])\n"
      ],
      "execution_count": 5,
      "outputs": [
        {
          "output_type": "stream",
          "text": [
            "WARNING:tensorflow:From /usr/local/lib/python3.6/dist-packages/keras/backend/tensorflow_backend.py:66: The name tf.get_default_graph is deprecated. Please use tf.compat.v1.get_default_graph instead.\n",
            "\n",
            "WARNING:tensorflow:From /usr/local/lib/python3.6/dist-packages/keras/backend/tensorflow_backend.py:541: The name tf.placeholder is deprecated. Please use tf.compat.v1.placeholder instead.\n",
            "\n",
            "WARNING:tensorflow:From /usr/local/lib/python3.6/dist-packages/keras/backend/tensorflow_backend.py:4432: The name tf.random_uniform is deprecated. Please use tf.random.uniform instead.\n",
            "\n"
          ],
          "name": "stdout"
        },
        {
          "output_type": "stream",
          "text": [
            "Using TensorFlow backend.\n"
          ],
          "name": "stderr"
        },
        {
          "output_type": "stream",
          "text": [
            "WARNING:tensorflow:From /usr/local/lib/python3.6/dist-packages/keras/backend/tensorflow_backend.py:190: The name tf.get_default_session is deprecated. Please use tf.compat.v1.get_default_session instead.\n",
            "\n",
            "WARNING:tensorflow:From /usr/local/lib/python3.6/dist-packages/keras/backend/tensorflow_backend.py:197: The name tf.ConfigProto is deprecated. Please use tf.compat.v1.ConfigProto instead.\n",
            "\n",
            "WARNING:tensorflow:From /usr/local/lib/python3.6/dist-packages/keras/backend/tensorflow_backend.py:2041: The name tf.nn.fused_batch_norm is deprecated. Please use tf.compat.v1.nn.fused_batch_norm instead.\n",
            "\n",
            "(None, 75, 1, 1024) \t input_2\n",
            "(None, 75, 1, 1024) \t input_3\n",
            "(None, 75, 1, 256) \t conv2d_3\n",
            "(None, 75, 1, 256) \t conv2d_5\n",
            "(None, 298, 257, 2) \t input_1\n",
            "(None, 298, 257, 96) \t conv2d_1\n",
            "(None, 75, 1, 256) \t conv2d_4\n",
            "(None, 75, 1, 256) \t conv2d_6\n",
            "(None, 298, 257, 8) \t conv2d_2\n",
            "(None, 75, 256, 1) \t reshape_2\n",
            "(None, 75, 256, 1) \t reshape_4\n",
            "(None, 298, 256, 1) \t lambda_1\n",
            "(None, 298, 256, 1) \t lambda_2\n",
            "(None, 298, 2056) \t reshape_1\n",
            "(None, 298, 256) \t reshape_3\n",
            "(None, 298, 256) \t reshape_5\n",
            "(None, 298, 2568) \t concatenate_1\n",
            "(None, 298, 2568) \t time_distributed_1\n",
            "(None, 298, 400) \t bidirectional_1\n",
            "(None, 298, 600) \t dense_1\n",
            "(None, 298, 600) \t dense_2\n",
            "(None, 298, 600) \t dense_3\n",
            "(None, 298, 1028) \t dense_4\n",
            "(None, 298, 257, 2, 2) \t output_layer\n",
            "Model: \"model_4\"\n",
            "__________________________________________________________________________________________________\n",
            "Layer (type)                    Output Shape         Param #     Connected to                     \n",
            "==================================================================================================\n",
            "input_2 (InputLayer)            (None, 75, 1, 1024)  0                                            \n",
            "__________________________________________________________________________________________________\n",
            "input_3 (InputLayer)            (None, 75, 1, 1024)  0                                            \n",
            "__________________________________________________________________________________________________\n",
            "conv2d_3 (Conv2D)               (None, 75, 1, 256)   1835264     input_2[0][0]                    \n",
            "__________________________________________________________________________________________________\n",
            "conv2d_5 (Conv2D)               (None, 75, 1, 256)   1835264     input_3[0][0]                    \n",
            "__________________________________________________________________________________________________\n",
            "input_1 (InputLayer)            (None, 298, 257, 2)  0                                            \n",
            "__________________________________________________________________________________________________\n",
            "batch_normalization_3 (BatchNor (None, 75, 1, 256)   1024        conv2d_3[0][0]                   \n",
            "__________________________________________________________________________________________________\n",
            "batch_normalization_5 (BatchNor (None, 75, 1, 256)   1024        conv2d_5[0][0]                   \n",
            "__________________________________________________________________________________________________\n",
            "conv2d_1 (Conv2D)               (None, 298, 257, 96) 1440        input_1[0][0]                    \n",
            "__________________________________________________________________________________________________\n",
            "activation_3 (Activation)       (None, 75, 1, 256)   0           batch_normalization_3[0][0]      \n",
            "__________________________________________________________________________________________________\n",
            "activation_5 (Activation)       (None, 75, 1, 256)   0           batch_normalization_5[0][0]      \n",
            "__________________________________________________________________________________________________\n",
            "batch_normalization_1 (BatchNor (None, 298, 257, 96) 384         conv2d_1[0][0]                   \n",
            "__________________________________________________________________________________________________\n",
            "conv2d_4 (Conv2D)               (None, 75, 1, 256)   327936      activation_3[0][0]               \n",
            "__________________________________________________________________________________________________\n",
            "conv2d_6 (Conv2D)               (None, 75, 1, 256)   327936      activation_5[0][0]               \n",
            "__________________________________________________________________________________________________\n",
            "activation_1 (Activation)       (None, 298, 257, 96) 0           batch_normalization_1[0][0]      \n",
            "__________________________________________________________________________________________________\n",
            "batch_normalization_4 (BatchNor (None, 75, 1, 256)   1024        conv2d_4[0][0]                   \n",
            "__________________________________________________________________________________________________\n",
            "batch_normalization_6 (BatchNor (None, 75, 1, 256)   1024        conv2d_6[0][0]                   \n",
            "__________________________________________________________________________________________________\n",
            "conv2d_2 (Conv2D)               (None, 298, 257, 8)  776         activation_1[0][0]               \n",
            "__________________________________________________________________________________________________\n",
            "activation_4 (Activation)       (None, 75, 1, 256)   0           batch_normalization_4[0][0]      \n",
            "__________________________________________________________________________________________________\n",
            "activation_6 (Activation)       (None, 75, 1, 256)   0           batch_normalization_6[0][0]      \n",
            "__________________________________________________________________________________________________\n",
            "batch_normalization_2 (BatchNor (None, 298, 257, 8)  32          conv2d_2[0][0]                   \n",
            "__________________________________________________________________________________________________\n",
            "reshape_2 (Reshape)             (None, 75, 256, 1)   0           activation_4[0][0]               \n",
            "__________________________________________________________________________________________________\n",
            "reshape_4 (Reshape)             (None, 75, 256, 1)   0           activation_6[0][0]               \n",
            "__________________________________________________________________________________________________\n",
            "activation_2 (Activation)       (None, 298, 257, 8)  0           batch_normalization_2[0][0]      \n",
            "__________________________________________________________________________________________________\n",
            "lambda_1 (Lambda)               (None, 298, 256, 1)  0           reshape_2[0][0]                  \n",
            "__________________________________________________________________________________________________\n",
            "lambda_2 (Lambda)               (None, 298, 256, 1)  0           reshape_4[0][0]                  \n",
            "__________________________________________________________________________________________________\n",
            "reshape_1 (Reshape)             (None, 298, 2056)    0           activation_2[0][0]               \n",
            "__________________________________________________________________________________________________\n",
            "reshape_3 (Reshape)             (None, 298, 256)     0           lambda_1[0][0]                   \n",
            "__________________________________________________________________________________________________\n",
            "reshape_5 (Reshape)             (None, 298, 256)     0           lambda_2[0][0]                   \n",
            "__________________________________________________________________________________________________\n",
            "concatenate_1 (Concatenate)     (None, 298, 2568)    0           reshape_1[0][0]                  \n",
            "                                                                 reshape_3[0][0]                  \n",
            "                                                                 reshape_5[0][0]                  \n",
            "__________________________________________________________________________________________________\n",
            "time_distributed_1 (TimeDistrib (None, 298, 2568)    0           concatenate_1[0][0]              \n",
            "__________________________________________________________________________________________________\n",
            "bidirectional_1 (Bidirectional) (None, 298, 400)     4430400     time_distributed_1[0][0]         \n",
            "__________________________________________________________________________________________________\n",
            "dense_1 (Dense)                 (None, 298, 600)     240600      bidirectional_1[0][0]            \n",
            "__________________________________________________________________________________________________\n",
            "dense_2 (Dense)                 (None, 298, 600)     360600      dense_1[0][0]                    \n",
            "__________________________________________________________________________________________________\n",
            "dense_3 (Dense)                 (None, 298, 600)     360600      dense_2[0][0]                    \n",
            "__________________________________________________________________________________________________\n",
            "dense_4 (Dense)                 (None, 298, 1028)    617828      dense_3[0][0]                    \n",
            "__________________________________________________________________________________________________\n",
            "output_layer (Reshape)          (None, 298, 257, 2,  0           dense_4[0][0]                    \n",
            "==================================================================================================\n",
            "Total params: 10,343,156\n",
            "Trainable params: 10,340,900\n",
            "Non-trainable params: 2,256\n",
            "__________________________________________________________________________________________________\n",
            "WARNING:tensorflow:From /usr/local/lib/python3.6/dist-packages/keras/optimizers.py:793: The name tf.train.Optimizer is deprecated. Please use tf.compat.v1.train.Optimizer instead.\n",
            "\n"
          ],
          "name": "stdout"
        }
      ]
    },
    {
      "cell_type": "code",
      "metadata": {
        "id": "dxPWMQU598ZB",
        "colab_type": "code",
        "colab": {}
      },
      "source": [
        "!cp '/content/gdrive/My Drive/Part IV Project/Colab Notebooks/dataset_npy/dataset_train_0-20.npy' \"dataset_train_0-20.npy\""
      ],
      "execution_count": 0,
      "outputs": []
    },
    {
      "cell_type": "code",
      "metadata": {
        "id": "R85Ber8d9Q8F",
        "colab_type": "code",
        "outputId": "4f982aca-e74b-4028-aef3-43dd40f87d12",
        "colab": {
          "base_uri": "https://localhost:8080/",
          "height": 34
        }
      },
      "source": [
        "!ls"
      ],
      "execution_count": 7,
      "outputs": [
        {
          "output_type": "stream",
          "text": [
            "dataset_train_0-20.npy\tgdrive\tsample_data\n"
          ],
          "name": "stdout"
        }
      ]
    },
    {
      "cell_type": "code",
      "metadata": {
        "id": "d4MDX9rvQrQN",
        "colab_type": "code",
        "colab": {}
      },
      "source": [
        "dataset_train = np.load(\"dataset_train_0-20.npy\")"
      ],
      "execution_count": 0,
      "outputs": []
    },
    {
      "cell_type": "code",
      "metadata": {
        "id": "hLSIZa8xQ8pl",
        "colab_type": "code",
        "colab": {}
      },
      "source": [
        "# Split dataset into inputs and ground truths\n",
        "x_train = dataset_train[:,:,:,:,0 ]\n",
        "y_train = dataset_train[:,:,:,:,1:]\n",
        "\n",
        "\n",
        "x_visual = np.random.rand(len(x_train), 75, 1, 1024)"
      ],
      "execution_count": 0,
      "outputs": []
    },
    {
      "cell_type": "code",
      "metadata": {
        "id": "fZZ005CSRcbv",
        "colab_type": "code",
        "colab": {}
      },
      "source": [
        "import time"
      ],
      "execution_count": 0,
      "outputs": []
    },
    {
      "cell_type": "code",
      "metadata": {
        "id": "RzJ9pwEkQ8lD",
        "colab_type": "code",
        "outputId": "95583e17-2c2a-4f88-e59f-ec19ae0dbcda",
        "colab": {
          "base_uri": "https://localhost:8080/",
          "height": 255
        }
      },
      "source": [
        "times = []\n",
        "num_tests = 10\n",
        "\n",
        "for i in range(num_tests):\n",
        "\t'''Predict data'''\n",
        "\tstart_time = time.time()\n",
        "\t#model.predict(x_train[i:i+1])\n",
        "\tmodel.predict([x_train[i:i+1], x_visual[i:i+1], x_visual[i:i+1]])\n",
        "\tend_time = time.time()\n",
        "\truntime = end_time-start_time\n",
        "\ttimes.append(runtime)\n",
        "\tprint(\"Time taken for run %d:\"%(i+1), runtime)\n",
        "\n",
        "avg = sum(times) / len(times)\n",
        "print(\"Number of test:\", len(times))\n",
        "print(\"Test times:\", times)\n",
        "print(\"Average running time:\", avg)"
      ],
      "execution_count": 26,
      "outputs": [
        {
          "output_type": "stream",
          "text": [
            "Time taken for run 1: 0.4458496570587158\n",
            "Time taken for run 2: 0.42777562141418457\n",
            "Time taken for run 3: 0.4513421058654785\n",
            "Time taken for run 4: 0.4318833351135254\n",
            "Time taken for run 5: 0.42511820793151855\n",
            "Time taken for run 6: 0.42163538932800293\n",
            "Time taken for run 7: 0.4284343719482422\n",
            "Time taken for run 8: 0.4374423027038574\n",
            "Time taken for run 9: 0.44098377227783203\n",
            "Time taken for run 10: 0.4236869812011719\n",
            "Number of test: 10\n",
            "Test times: [0.4458496570587158, 0.42777562141418457, 0.4513421058654785, 0.4318833351135254, 0.42511820793151855, 0.42163538932800293, 0.4284343719482422, 0.4374423027038574, 0.44098377227783203, 0.4236869812011719]\n",
            "Average running time: 0.43341517448425293\n"
          ],
          "name": "stdout"
        }
      ]
    },
    {
      "cell_type": "code",
      "metadata": {
        "id": "K-HWsM0rRCzA",
        "colab_type": "code",
        "colab": {}
      },
      "source": [
        "fname = \"ablation_basic_times_full_2conv.csv\"\n",
        "np.savetxt(fname, times, delimiter=\",\")"
      ],
      "execution_count": 0,
      "outputs": []
    },
    {
      "cell_type": "code",
      "metadata": {
        "id": "jQNPnhVIR9oZ",
        "colab_type": "code",
        "colab": {}
      },
      "source": [
        "new_dir = \"/content/gdrive/My Drive/Part IV Project/Colab Testing Structure/AV_basic_ablation_output/\"\n",
        "if not os.path.isdir(new_dir):\n",
        "  os.mkdir(new_dir)"
      ],
      "execution_count": 0,
      "outputs": []
    },
    {
      "cell_type": "code",
      "metadata": {
        "id": "GCKHbIkTRwVD",
        "colab_type": "code",
        "colab": {}
      },
      "source": [
        "!cp $fname \"{new_dir}{fname}\""
      ],
      "execution_count": 0,
      "outputs": []
    },
    {
      "cell_type": "code",
      "metadata": {
        "id": "WHfdNsBjbDIu",
        "colab_type": "code",
        "outputId": "e579c72e-9062-48a0-d487-3ec5d3898434",
        "colab": {
          "base_uri": "https://localhost:8080/",
          "height": 1000
        }
      },
      "source": [
        "model.summary()"
      ],
      "execution_count": 15,
      "outputs": [
        {
          "output_type": "stream",
          "text": [
            "Model: \"model_4\"\n",
            "__________________________________________________________________________________________________\n",
            "Layer (type)                    Output Shape         Param #     Connected to                     \n",
            "==================================================================================================\n",
            "input_2 (InputLayer)            (None, 75, 1, 1024)  0                                            \n",
            "__________________________________________________________________________________________________\n",
            "input_3 (InputLayer)            (None, 75, 1, 1024)  0                                            \n",
            "__________________________________________________________________________________________________\n",
            "conv2d_3 (Conv2D)               (None, 75, 1, 256)   1835264     input_2[0][0]                    \n",
            "__________________________________________________________________________________________________\n",
            "conv2d_5 (Conv2D)               (None, 75, 1, 256)   1835264     input_3[0][0]                    \n",
            "__________________________________________________________________________________________________\n",
            "input_1 (InputLayer)            (None, 298, 257, 2)  0                                            \n",
            "__________________________________________________________________________________________________\n",
            "batch_normalization_3 (BatchNor (None, 75, 1, 256)   1024        conv2d_3[0][0]                   \n",
            "__________________________________________________________________________________________________\n",
            "batch_normalization_5 (BatchNor (None, 75, 1, 256)   1024        conv2d_5[0][0]                   \n",
            "__________________________________________________________________________________________________\n",
            "conv2d_1 (Conv2D)               (None, 298, 257, 96) 1440        input_1[0][0]                    \n",
            "__________________________________________________________________________________________________\n",
            "activation_3 (Activation)       (None, 75, 1, 256)   0           batch_normalization_3[0][0]      \n",
            "__________________________________________________________________________________________________\n",
            "activation_5 (Activation)       (None, 75, 1, 256)   0           batch_normalization_5[0][0]      \n",
            "__________________________________________________________________________________________________\n",
            "batch_normalization_1 (BatchNor (None, 298, 257, 96) 384         conv2d_1[0][0]                   \n",
            "__________________________________________________________________________________________________\n",
            "conv2d_4 (Conv2D)               (None, 75, 1, 256)   327936      activation_3[0][0]               \n",
            "__________________________________________________________________________________________________\n",
            "conv2d_6 (Conv2D)               (None, 75, 1, 256)   327936      activation_5[0][0]               \n",
            "__________________________________________________________________________________________________\n",
            "activation_1 (Activation)       (None, 298, 257, 96) 0           batch_normalization_1[0][0]      \n",
            "__________________________________________________________________________________________________\n",
            "batch_normalization_4 (BatchNor (None, 75, 1, 256)   1024        conv2d_4[0][0]                   \n",
            "__________________________________________________________________________________________________\n",
            "batch_normalization_6 (BatchNor (None, 75, 1, 256)   1024        conv2d_6[0][0]                   \n",
            "__________________________________________________________________________________________________\n",
            "conv2d_2 (Conv2D)               (None, 298, 257, 8)  776         activation_1[0][0]               \n",
            "__________________________________________________________________________________________________\n",
            "activation_4 (Activation)       (None, 75, 1, 256)   0           batch_normalization_4[0][0]      \n",
            "__________________________________________________________________________________________________\n",
            "activation_6 (Activation)       (None, 75, 1, 256)   0           batch_normalization_6[0][0]      \n",
            "__________________________________________________________________________________________________\n",
            "batch_normalization_2 (BatchNor (None, 298, 257, 8)  32          conv2d_2[0][0]                   \n",
            "__________________________________________________________________________________________________\n",
            "reshape_2 (Reshape)             (None, 75, 256, 1)   0           activation_4[0][0]               \n",
            "__________________________________________________________________________________________________\n",
            "reshape_4 (Reshape)             (None, 75, 256, 1)   0           activation_6[0][0]               \n",
            "__________________________________________________________________________________________________\n",
            "activation_2 (Activation)       (None, 298, 257, 8)  0           batch_normalization_2[0][0]      \n",
            "__________________________________________________________________________________________________\n",
            "lambda_1 (Lambda)               (None, 298, 256, 1)  0           reshape_2[0][0]                  \n",
            "__________________________________________________________________________________________________\n",
            "lambda_2 (Lambda)               (None, 298, 256, 1)  0           reshape_4[0][0]                  \n",
            "__________________________________________________________________________________________________\n",
            "reshape_1 (Reshape)             (None, 298, 2056)    0           activation_2[0][0]               \n",
            "__________________________________________________________________________________________________\n",
            "reshape_3 (Reshape)             (None, 298, 256)     0           lambda_1[0][0]                   \n",
            "__________________________________________________________________________________________________\n",
            "reshape_5 (Reshape)             (None, 298, 256)     0           lambda_2[0][0]                   \n",
            "__________________________________________________________________________________________________\n",
            "concatenate_1 (Concatenate)     (None, 298, 2568)    0           reshape_1[0][0]                  \n",
            "                                                                 reshape_3[0][0]                  \n",
            "                                                                 reshape_5[0][0]                  \n",
            "__________________________________________________________________________________________________\n",
            "time_distributed_1 (TimeDistrib (None, 298, 2568)    0           concatenate_1[0][0]              \n",
            "__________________________________________________________________________________________________\n",
            "bidirectional_1 (Bidirectional) (None, 298, 400)     4430400     time_distributed_1[0][0]         \n",
            "__________________________________________________________________________________________________\n",
            "dense_1 (Dense)                 (None, 298, 600)     240600      bidirectional_1[0][0]            \n",
            "__________________________________________________________________________________________________\n",
            "dense_2 (Dense)                 (None, 298, 600)     360600      dense_1[0][0]                    \n",
            "__________________________________________________________________________________________________\n",
            "dense_3 (Dense)                 (None, 298, 600)     360600      dense_2[0][0]                    \n",
            "__________________________________________________________________________________________________\n",
            "dense_4 (Dense)                 (None, 298, 1028)    617828      dense_3[0][0]                    \n",
            "__________________________________________________________________________________________________\n",
            "output_layer (Reshape)          (None, 298, 257, 2,  0           dense_4[0][0]                    \n",
            "==================================================================================================\n",
            "Total params: 10,343,156\n",
            "Trainable params: 10,340,900\n",
            "Non-trainable params: 2,256\n",
            "__________________________________________________________________________________________________\n"
          ],
          "name": "stdout"
        }
      ]
    },
    {
      "cell_type": "code",
      "metadata": {
        "id": "l5uXO9_smk31",
        "colab_type": "code",
        "outputId": "8aa77b1d-c444-46c1-c3f3-e73b73f41fd4",
        "colab": {
          "base_uri": "https://localhost:8080/",
          "height": 420
        }
      },
      "source": [
        "audio_model.summary()"
      ],
      "execution_count": 16,
      "outputs": [
        {
          "output_type": "stream",
          "text": [
            "Model: \"model_1\"\n",
            "_________________________________________________________________\n",
            "Layer (type)                 Output Shape              Param #   \n",
            "=================================================================\n",
            "input_1 (InputLayer)         (None, 298, 257, 2)       0         \n",
            "_________________________________________________________________\n",
            "conv2d_1 (Conv2D)            (None, 298, 257, 96)      1440      \n",
            "_________________________________________________________________\n",
            "batch_normalization_1 (Batch (None, 298, 257, 96)      384       \n",
            "_________________________________________________________________\n",
            "activation_1 (Activation)    (None, 298, 257, 96)      0         \n",
            "_________________________________________________________________\n",
            "conv2d_2 (Conv2D)            (None, 298, 257, 8)       776       \n",
            "_________________________________________________________________\n",
            "batch_normalization_2 (Batch (None, 298, 257, 8)       32        \n",
            "_________________________________________________________________\n",
            "activation_2 (Activation)    (None, 298, 257, 8)       0         \n",
            "_________________________________________________________________\n",
            "reshape_1 (Reshape)          (None, 298, 2056)         0         \n",
            "=================================================================\n",
            "Total params: 2,632\n",
            "Trainable params: 2,424\n",
            "Non-trainable params: 208\n",
            "_________________________________________________________________\n"
          ],
          "name": "stdout"
        }
      ]
    },
    {
      "cell_type": "code",
      "metadata": {
        "id": "P6YbYOGomk1_",
        "colab_type": "code",
        "outputId": "beb1fdba-9918-4743-8b92-5eca01c25456",
        "colab": {
          "base_uri": "https://localhost:8080/",
          "height": 487
        }
      },
      "source": [
        "visual_model.summary()"
      ],
      "execution_count": 17,
      "outputs": [
        {
          "output_type": "stream",
          "text": [
            "Model: \"model_3\"\n",
            "_________________________________________________________________\n",
            "Layer (type)                 Output Shape              Param #   \n",
            "=================================================================\n",
            "input_3 (InputLayer)         (None, 75, 1, 1024)       0         \n",
            "_________________________________________________________________\n",
            "conv2d_5 (Conv2D)            (None, 75, 1, 256)        1835264   \n",
            "_________________________________________________________________\n",
            "batch_normalization_5 (Batch (None, 75, 1, 256)        1024      \n",
            "_________________________________________________________________\n",
            "activation_5 (Activation)    (None, 75, 1, 256)        0         \n",
            "_________________________________________________________________\n",
            "conv2d_6 (Conv2D)            (None, 75, 1, 256)        327936    \n",
            "_________________________________________________________________\n",
            "batch_normalization_6 (Batch (None, 75, 1, 256)        1024      \n",
            "_________________________________________________________________\n",
            "activation_6 (Activation)    (None, 75, 1, 256)        0         \n",
            "_________________________________________________________________\n",
            "reshape_4 (Reshape)          (None, 75, 256, 1)        0         \n",
            "_________________________________________________________________\n",
            "lambda_2 (Lambda)            (None, 298, 256, 1)       0         \n",
            "_________________________________________________________________\n",
            "reshape_5 (Reshape)          (None, 298, 256)          0         \n",
            "=================================================================\n",
            "Total params: 2,165,248\n",
            "Trainable params: 2,164,224\n",
            "Non-trainable params: 1,024\n",
            "_________________________________________________________________\n"
          ],
          "name": "stdout"
        }
      ]
    }
  ]
}