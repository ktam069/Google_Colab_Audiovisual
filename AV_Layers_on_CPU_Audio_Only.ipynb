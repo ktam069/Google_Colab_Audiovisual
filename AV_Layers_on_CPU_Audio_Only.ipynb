{
  "nbformat": 4,
  "nbformat_minor": 0,
  "metadata": {
    "colab": {
      "name": "AV Layers on CPU - Audio Only.ipynb",
      "provenance": [],
      "collapsed_sections": [],
      "include_colab_link": true
    },
    "kernelspec": {
      "name": "python3",
      "display_name": "Python 3"
    }
  },
  "cells": [
    {
      "cell_type": "markdown",
      "metadata": {
        "id": "view-in-github",
        "colab_type": "text"
      },
      "source": [
        "<a href=\"https://colab.research.google.com/github/ktam069/Google_Colab_Audiovisual/blob/master/AV_Layers_on_CPU_Audio_Only.ipynb\" target=\"_parent\"><img src=\"https://colab.research.google.com/assets/colab-badge.svg\" alt=\"Open In Colab\"/></a>"
      ]
    },
    {
      "cell_type": "markdown",
      "metadata": {
        "id": "h_cynixGXYa-",
        "colab_type": "text"
      },
      "source": [
        "Connect to Google Drive to access npy dataset of audio input for training/testing"
      ]
    },
    {
      "cell_type": "code",
      "metadata": {
        "id": "RwOkfpDuXN_I",
        "colab_type": "code",
        "outputId": "38c05556-347e-4c67-bbd9-5a32b9950795",
        "colab": {
          "base_uri": "https://localhost:8080/",
          "height": 34
        }
      },
      "source": [
        "from google.colab import drive \n",
        "drive.mount('/content/gdrive') "
      ],
      "execution_count": 22,
      "outputs": [
        {
          "output_type": "stream",
          "text": [
            "Drive already mounted at /content/gdrive; to attempt to forcibly remount, call drive.mount(\"/content/gdrive\", force_remount=True).\n"
          ],
          "name": "stdout"
        }
      ]
    },
    {
      "cell_type": "code",
      "metadata": {
        "id": "t-VSebCUfYZ7",
        "colab_type": "code",
        "colab": {}
      },
      "source": [
        "# Main program - Part IV Project 80 Basic Version\n",
        "\n",
        "# import pandas as pd\n",
        "import numpy as np\n",
        "import matplotlib.pyplot as plt\n",
        "import librosa\n",
        "from scipy.io import wavfile"
      ],
      "execution_count": 0,
      "outputs": []
    },
    {
      "cell_type": "code",
      "metadata": {
        "id": "alYFRe80gYU0",
        "colab_type": "code",
        "colab": {}
      },
      "source": [
        "import tensorflow as tf\n",
        "from tensorflow.keras.models import Sequential, load_model\n",
        "from tensorflow.keras.layers import Input, Dense, Conv2D, LSTM, Bidirectional\n",
        "from tensorflow.keras.layers import BatchNormalization, Activation, Flatten, TimeDistributed, Reshape\n",
        "from tensorflow.keras.callbacks import ModelCheckpoint"
      ],
      "execution_count": 0,
      "outputs": []
    },
    {
      "cell_type": "code",
      "metadata": {
        "id": "Dp7FLs_3gZ7b",
        "colab_type": "code",
        "colab": {}
      },
      "source": [
        "import os\n",
        "# import sys\n",
        "import glob\n",
        "from datetime import datetime"
      ],
      "execution_count": 0,
      "outputs": []
    },
    {
      "cell_type": "code",
      "metadata": {
        "id": "JvHnxt-Wf7H8",
        "colab_type": "code",
        "outputId": "ba47f017-52f9-474b-dc22-ebc9f2084af5",
        "colab": {
          "base_uri": "https://localhost:8080/",
          "height": 1000
        }
      },
      "source": [
        "# Main program - Part IV Project 80 Basic Version\n",
        "\n",
        "# import pandas as pd\n",
        "import numpy as np\n",
        "import matplotlib.pyplot as plt\n",
        "import librosa\n",
        "from scipy.io import wavfile\n",
        "\n",
        "import tensorflow as tf\n",
        "from keras.models import Sequential, load_model, Model\n",
        "from keras.layers import Input, Dense, Conv2D, LSTM, Bidirectional\n",
        "from keras.layers import BatchNormalization, Activation, Flatten, TimeDistributed, Reshape\n",
        "from keras.callbacks import ModelCheckpoint\n",
        "from keras.layers import concatenate\n",
        "from keras.layers import Lambda\n",
        "\n",
        "import os\n",
        "# import sys\n",
        "import glob\n",
        "from datetime import datetime\n",
        "\n",
        "# ===== Settings =====\n",
        "\n",
        "# Display options\n",
        "PRINT_DATA = False\n",
        "DISPLAY_GRAPHS = False\n",
        "\n",
        "# Data transformation/processing\n",
        "NORMALISE_DATA = False\n",
        "POWER_ENCODE = True\n",
        "\n",
        "# Use float32 format for dataset ndarrays\n",
        "USE_FLOAT32 = True\n",
        "\n",
        "# Range of data to use for training (excludes END_ID)\n",
        "START_ID = 0\n",
        "END_ID = 21\n",
        "\n",
        "# Sampling rate\n",
        "SAMPLING_RATE = 16000\n",
        "\n",
        "# Filepaths to the locations for input audio-visual files\n",
        "# path_to_data = \"./data/\"\n",
        "path_to_data_audio = \"./data/audio/audio_train/\"\n",
        "path_to_data_video = \"./data/video/face_input/\"\n",
        "# audio_data_name = \"trim_audio_train%d.wav\"\n",
        "\n",
        "# Filepaths to the locations for saved data and models\n",
        "path_to_models = \"./saved_models/\"\n",
        "path_to_saved_datasets = \"./dataset_npy/\"\n",
        "path_to_outputs = \"./output_wavs/\"\n",
        "\n",
        "# ====================\n",
        "\n",
        "'''def convolution_model(num_speakers=2):'''\n",
        "\n",
        "num_speakers=2\n",
        "\n",
        "# == Audio convolution layers ==\n",
        "\n",
        "model = Sequential()\n",
        "\n",
        "# # Implicit input layer\n",
        "# inputs = Input(shape=(298, 257, 2))\n",
        "# model.add(inputs)\n",
        "\n",
        "# Convolution layers\n",
        "conv1 = Conv2D(96, kernel_size=(1,7), padding='same', dilation_rate=(1,1), input_shape=(298, 257, 2), name=\"input_layer\")\n",
        "model.add(conv1)\n",
        "model.add(BatchNormalization())\n",
        "model.add(Activation(\"relu\"))\n",
        "\n",
        "conv2 = Conv2D(96, kernel_size=(7,1), padding='same', dilation_rate=(1,1))\n",
        "model.add(conv2)\n",
        "model.add(BatchNormalization())\n",
        "model.add(Activation(\"relu\"))\n",
        "\n",
        "conv3 = Conv2D(96, kernel_size=(5,5), padding='same', dilation_rate=(1,1))\n",
        "model.add(conv3)\n",
        "model.add(BatchNormalization())\n",
        "model.add(Activation(\"relu\"))\n",
        "\n",
        "conv4 = Conv2D(96, kernel_size=(5,5), padding='same', dilation_rate=(2,1))\n",
        "model.add(conv4)\n",
        "model.add(BatchNormalization())\n",
        "model.add(Activation(\"relu\"))\n",
        "\n",
        "conv5 = Conv2D(96, kernel_size=(5,5), padding='same', dilation_rate=(4,1))\n",
        "model.add(conv5)\n",
        "model.add(BatchNormalization())\n",
        "model.add(Activation(\"relu\"))\n",
        "\n",
        "conv6 = Conv2D(96, kernel_size=(5,5), padding='same', dilation_rate=(8,1))\n",
        "model.add(conv6)\n",
        "model.add(BatchNormalization())\n",
        "model.add(Activation(\"relu\"))\n",
        "\n",
        "conv7 = Conv2D(96, kernel_size=(5,5), padding='same', dilation_rate=(16,1))\n",
        "model.add(conv7)\n",
        "model.add(BatchNormalization())\n",
        "model.add(Activation(\"relu\"))\n",
        "\n",
        "conv8 = Conv2D(96, kernel_size=(5,5), padding='same', dilation_rate=(32,1))\n",
        "model.add(conv8)\n",
        "model.add(BatchNormalization())\n",
        "model.add(Activation(\"relu\"))\n",
        "\n",
        "conv9 = Conv2D(96, kernel_size=(5,5), padding='same', dilation_rate=(1,1))\n",
        "model.add(conv9)\n",
        "model.add(BatchNormalization())\n",
        "model.add(Activation(\"relu\"))\n",
        "\n",
        "conv10 = Conv2D(96, kernel_size=(5,5), padding='same', dilation_rate=(2,2))\n",
        "model.add(conv10)\n",
        "model.add(BatchNormalization())\n",
        "model.add(Activation(\"relu\"))\n",
        "\n",
        "conv11 = Conv2D(96, kernel_size=(5,5), padding='same', dilation_rate=(4,4))\n",
        "model.add(conv11)\n",
        "model.add(BatchNormalization())\n",
        "model.add(Activation(\"relu\"))\n",
        "\n",
        "conv12 = Conv2D(96, kernel_size=(5,5), padding='same', dilation_rate=(8,8))\n",
        "model.add(conv12)\n",
        "model.add(BatchNormalization())\n",
        "model.add(Activation(\"relu\"))\n",
        "\n",
        "conv13 = Conv2D(96, kernel_size=(5,5), padding='same', dilation_rate=(16,16))\n",
        "model.add(conv13)\n",
        "model.add(BatchNormalization())\n",
        "model.add(Activation(\"relu\"))\n",
        "\n",
        "conv14 = Conv2D(96, kernel_size=(5,5), padding='same', dilation_rate=(32,32))\n",
        "model.add(conv14)\n",
        "model.add(BatchNormalization())\n",
        "model.add(Activation(\"relu\"))\n",
        "\n",
        "conv15 = Conv2D(8, kernel_size=(1,1), padding='same', dilation_rate=(1,1))\n",
        "model.add(conv15)\n",
        "model.add(BatchNormalization())\n",
        "model.add(Activation(\"relu\"))\n",
        "\n",
        "# == AV fused neural network ==\n",
        "\n",
        "# AV fusion step(s)\n",
        "model.add(TimeDistributed(Flatten()))\n",
        "\n",
        "# BLSTM\n",
        "new_matrix_length = 400\n",
        "model.add(Bidirectional(LSTM(new_matrix_length//2, return_sequences=True, input_shape=(298, 257*8))))\n",
        "\n",
        "# Fully connected layers\n",
        "model.add(Dense(600, activation=\"relu\"))\n",
        "model.add(Dense(600, activation=\"relu\"))\n",
        "model.add(Dense(600, activation=\"relu\"))\n",
        "\n",
        "# Output layer (i.e. complex masks)\n",
        "# outputs = Dense(257*2*num_speakers, activation=\"relu\")\n",
        "outputs = Dense(257*2*num_speakers, activation=\"sigmoid\")\t\t\t\t# TODO: check if this is more correct (based on the paper)\n",
        "model.add(outputs)\n",
        "outputs_complex_masks = Reshape((298, 257, 2, num_speakers), name=\"output_layer\")\n",
        "model.add(outputs_complex_masks)\n",
        "\n",
        "# Print the output shapes of each model layer\n",
        "for layer in model.layers:\n",
        "  name = layer.get_config()[\"name\"]\n",
        "  if \"batch_normal\" in name or \"activation\" in name:\n",
        "    continue\n",
        "  print(layer.output_shape, \"\\t\", name)\n",
        "\n",
        "# Alternatively, print the default keras model summary\n",
        "model.summary()\n",
        "\n",
        "# Compile the model before training\n",
        "# model.compile(optimizer='adam', loss='mse')\n",
        "model.compile(optimizer='adam', loss='mse', metrics=['accuracy'])\n"
      ],
      "execution_count": 26,
      "outputs": [
        {
          "output_type": "stream",
          "text": [
            "(None, 298, 257, 96) \t input_layer\n",
            "(None, 298, 257, 96) \t conv2d_29\n",
            "(None, 298, 257, 96) \t conv2d_30\n",
            "(None, 298, 257, 96) \t conv2d_31\n",
            "(None, 298, 257, 96) \t conv2d_32\n",
            "(None, 298, 257, 96) \t conv2d_33\n",
            "(None, 298, 257, 96) \t conv2d_34\n",
            "(None, 298, 257, 96) \t conv2d_35\n",
            "(None, 298, 257, 96) \t conv2d_36\n",
            "(None, 298, 257, 96) \t conv2d_37\n",
            "(None, 298, 257, 96) \t conv2d_38\n",
            "(None, 298, 257, 96) \t conv2d_39\n",
            "(None, 298, 257, 96) \t conv2d_40\n",
            "(None, 298, 257, 96) \t conv2d_41\n",
            "(None, 298, 257, 8) \t conv2d_42\n",
            "(None, 298, 2056) \t time_distributed_3\n",
            "(None, 298, 400) \t bidirectional_3\n",
            "(None, 298, 600) \t dense_9\n",
            "(None, 298, 600) \t dense_10\n",
            "(None, 298, 600) \t dense_11\n",
            "(None, 298, 1028) \t dense_12\n",
            "(None, 298, 257, 2, 2) \t output_layer\n",
            "Model: \"sequential_3\"\n",
            "_________________________________________________________________\n",
            "Layer (type)                 Output Shape              Param #   \n",
            "=================================================================\n",
            "input_layer (Conv2D)         (None, 298, 257, 96)      1440      \n",
            "_________________________________________________________________\n",
            "batch_normalization_31 (Batc (None, 298, 257, 96)      384       \n",
            "_________________________________________________________________\n",
            "activation_31 (Activation)   (None, 298, 257, 96)      0         \n",
            "_________________________________________________________________\n",
            "conv2d_29 (Conv2D)           (None, 298, 257, 96)      64608     \n",
            "_________________________________________________________________\n",
            "batch_normalization_32 (Batc (None, 298, 257, 96)      384       \n",
            "_________________________________________________________________\n",
            "activation_32 (Activation)   (None, 298, 257, 96)      0         \n",
            "_________________________________________________________________\n",
            "conv2d_30 (Conv2D)           (None, 298, 257, 96)      230496    \n",
            "_________________________________________________________________\n",
            "batch_normalization_33 (Batc (None, 298, 257, 96)      384       \n",
            "_________________________________________________________________\n",
            "activation_33 (Activation)   (None, 298, 257, 96)      0         \n",
            "_________________________________________________________________\n",
            "conv2d_31 (Conv2D)           (None, 298, 257, 96)      230496    \n",
            "_________________________________________________________________\n",
            "batch_normalization_34 (Batc (None, 298, 257, 96)      384       \n",
            "_________________________________________________________________\n",
            "activation_34 (Activation)   (None, 298, 257, 96)      0         \n",
            "_________________________________________________________________\n",
            "conv2d_32 (Conv2D)           (None, 298, 257, 96)      230496    \n",
            "_________________________________________________________________\n",
            "batch_normalization_35 (Batc (None, 298, 257, 96)      384       \n",
            "_________________________________________________________________\n",
            "activation_35 (Activation)   (None, 298, 257, 96)      0         \n",
            "_________________________________________________________________\n",
            "conv2d_33 (Conv2D)           (None, 298, 257, 96)      230496    \n",
            "_________________________________________________________________\n",
            "batch_normalization_36 (Batc (None, 298, 257, 96)      384       \n",
            "_________________________________________________________________\n",
            "activation_36 (Activation)   (None, 298, 257, 96)      0         \n",
            "_________________________________________________________________\n",
            "conv2d_34 (Conv2D)           (None, 298, 257, 96)      230496    \n",
            "_________________________________________________________________\n",
            "batch_normalization_37 (Batc (None, 298, 257, 96)      384       \n",
            "_________________________________________________________________\n",
            "activation_37 (Activation)   (None, 298, 257, 96)      0         \n",
            "_________________________________________________________________\n",
            "conv2d_35 (Conv2D)           (None, 298, 257, 96)      230496    \n",
            "_________________________________________________________________\n",
            "batch_normalization_38 (Batc (None, 298, 257, 96)      384       \n",
            "_________________________________________________________________\n",
            "activation_38 (Activation)   (None, 298, 257, 96)      0         \n",
            "_________________________________________________________________\n",
            "conv2d_36 (Conv2D)           (None, 298, 257, 96)      230496    \n",
            "_________________________________________________________________\n",
            "batch_normalization_39 (Batc (None, 298, 257, 96)      384       \n",
            "_________________________________________________________________\n",
            "activation_39 (Activation)   (None, 298, 257, 96)      0         \n",
            "_________________________________________________________________\n",
            "conv2d_37 (Conv2D)           (None, 298, 257, 96)      230496    \n",
            "_________________________________________________________________\n",
            "batch_normalization_40 (Batc (None, 298, 257, 96)      384       \n",
            "_________________________________________________________________\n",
            "activation_40 (Activation)   (None, 298, 257, 96)      0         \n",
            "_________________________________________________________________\n",
            "conv2d_38 (Conv2D)           (None, 298, 257, 96)      230496    \n",
            "_________________________________________________________________\n",
            "batch_normalization_41 (Batc (None, 298, 257, 96)      384       \n",
            "_________________________________________________________________\n",
            "activation_41 (Activation)   (None, 298, 257, 96)      0         \n",
            "_________________________________________________________________\n",
            "conv2d_39 (Conv2D)           (None, 298, 257, 96)      230496    \n",
            "_________________________________________________________________\n",
            "batch_normalization_42 (Batc (None, 298, 257, 96)      384       \n",
            "_________________________________________________________________\n",
            "activation_42 (Activation)   (None, 298, 257, 96)      0         \n",
            "_________________________________________________________________\n",
            "conv2d_40 (Conv2D)           (None, 298, 257, 96)      230496    \n",
            "_________________________________________________________________\n",
            "batch_normalization_43 (Batc (None, 298, 257, 96)      384       \n",
            "_________________________________________________________________\n",
            "activation_43 (Activation)   (None, 298, 257, 96)      0         \n",
            "_________________________________________________________________\n",
            "conv2d_41 (Conv2D)           (None, 298, 257, 96)      230496    \n",
            "_________________________________________________________________\n",
            "batch_normalization_44 (Batc (None, 298, 257, 96)      384       \n",
            "_________________________________________________________________\n",
            "activation_44 (Activation)   (None, 298, 257, 96)      0         \n",
            "_________________________________________________________________\n",
            "conv2d_42 (Conv2D)           (None, 298, 257, 8)       776       \n",
            "_________________________________________________________________\n",
            "batch_normalization_45 (Batc (None, 298, 257, 8)       32        \n",
            "_________________________________________________________________\n",
            "activation_45 (Activation)   (None, 298, 257, 8)       0         \n",
            "_________________________________________________________________\n",
            "time_distributed_3 (TimeDist (None, 298, 2056)         0         \n",
            "_________________________________________________________________\n",
            "bidirectional_3 (Bidirection (None, 298, 400)          3611200   \n",
            "_________________________________________________________________\n",
            "dense_9 (Dense)              (None, 298, 600)          240600    \n",
            "_________________________________________________________________\n",
            "dense_10 (Dense)             (None, 298, 600)          360600    \n",
            "_________________________________________________________________\n",
            "dense_11 (Dense)             (None, 298, 600)          360600    \n",
            "_________________________________________________________________\n",
            "dense_12 (Dense)             (None, 298, 1028)         617828    \n",
            "_________________________________________________________________\n",
            "output_layer (Reshape)       (None, 298, 257, 2, 2)    0         \n",
            "=================================================================\n",
            "Total params: 8,029,012\n",
            "Trainable params: 8,026,308\n",
            "Non-trainable params: 2,704\n",
            "_________________________________________________________________\n"
          ],
          "name": "stdout"
        }
      ]
    },
    {
      "cell_type": "code",
      "metadata": {
        "id": "dxPWMQU598ZB",
        "colab_type": "code",
        "colab": {}
      },
      "source": [
        "!cp '/content/gdrive/My Drive/Part IV Project/Colab Notebooks/dataset_npy/dataset_train_0-20.npy' \"dataset_train_0-20.npy\""
      ],
      "execution_count": 0,
      "outputs": []
    },
    {
      "cell_type": "code",
      "metadata": {
        "id": "R85Ber8d9Q8F",
        "colab_type": "code",
        "outputId": "179492fb-287a-4ede-d358-297e8aa64521",
        "colab": {
          "base_uri": "https://localhost:8080/",
          "height": 34
        }
      },
      "source": [
        "!ls"
      ],
      "execution_count": 28,
      "outputs": [
        {
          "output_type": "stream",
          "text": [
            "ablation_basic_times_ao.csv  dataset_train_0-20.npy  gdrive  sample_data\n"
          ],
          "name": "stdout"
        }
      ]
    },
    {
      "cell_type": "code",
      "metadata": {
        "id": "d4MDX9rvQrQN",
        "colab_type": "code",
        "colab": {}
      },
      "source": [
        "dataset_train = np.load(\"dataset_train_0-20.npy\")"
      ],
      "execution_count": 0,
      "outputs": []
    },
    {
      "cell_type": "code",
      "metadata": {
        "id": "hLSIZa8xQ8pl",
        "colab_type": "code",
        "colab": {}
      },
      "source": [
        "# Split dataset into inputs and ground truths\n",
        "x_train = dataset_train[:,:,:,:,0 ]\n",
        "y_train = dataset_train[:,:,:,:,1:]\n",
        "\n",
        "\n",
        "x_visual = np.random.rand(len(x_train), 75, 1, 1024)"
      ],
      "execution_count": 0,
      "outputs": []
    },
    {
      "cell_type": "code",
      "metadata": {
        "id": "fZZ005CSRcbv",
        "colab_type": "code",
        "colab": {}
      },
      "source": [
        "import time"
      ],
      "execution_count": 0,
      "outputs": []
    },
    {
      "cell_type": "code",
      "metadata": {
        "id": "RzJ9pwEkQ8lD",
        "colab_type": "code",
        "outputId": "fc8692f5-4dc0-4dc7-a153-4c2f863a4d5e",
        "colab": {
          "base_uri": "https://localhost:8080/",
          "height": 255
        }
      },
      "source": [
        "times = []\n",
        "num_tests = 10\n",
        "\n",
        "for i in range(num_tests):\n",
        "\t'''Predict data'''\n",
        "\tstart_time = time.time()\n",
        "\tmodel.predict(x_train[i:i+1])\n",
        "\t#model.predict([x_train[i:i+1], x_visual[i:i+1], x_visual[i:i+1]])\n",
        "\tend_time = time.time()\n",
        "\truntime = end_time-start_time\n",
        "\ttimes.append(runtime)\n",
        "\tprint(\"Time taken for run %d:\"%(i+1), runtime)\n",
        "\n",
        "avg = sum(times) / len(times)\n",
        "print(\"Number of test:\", len(times))\n",
        "print(\"Test times:\", times)\n",
        "print(\"Average running time:\", avg)"
      ],
      "execution_count": 32,
      "outputs": [
        {
          "output_type": "stream",
          "text": [
            "Time taken for run 1: 10.601673364639282\n",
            "Time taken for run 2: 9.145011901855469\n",
            "Time taken for run 3: 9.067847490310669\n",
            "Time taken for run 4: 9.053540706634521\n",
            "Time taken for run 5: 9.028331756591797\n",
            "Time taken for run 6: 9.036173105239868\n",
            "Time taken for run 7: 9.069024324417114\n",
            "Time taken for run 8: 9.054639101028442\n",
            "Time taken for run 9: 9.067076206207275\n",
            "Time taken for run 10: 9.04939889907837\n",
            "Number of test: 10\n",
            "Test times: [10.601673364639282, 9.145011901855469, 9.067847490310669, 9.053540706634521, 9.028331756591797, 9.036173105239868, 9.069024324417114, 9.054639101028442, 9.067076206207275, 9.04939889907837]\n",
            "Average running time: 9.21727168560028\n"
          ],
          "name": "stdout"
        }
      ]
    },
    {
      "cell_type": "code",
      "metadata": {
        "id": "K-HWsM0rRCzA",
        "colab_type": "code",
        "colab": {}
      },
      "source": [
        "fname = \"ablation_basic_times_ao.csv\"\n",
        "np.savetxt(fname, times, delimiter=\",\")"
      ],
      "execution_count": 0,
      "outputs": []
    },
    {
      "cell_type": "code",
      "metadata": {
        "id": "jQNPnhVIR9oZ",
        "colab_type": "code",
        "colab": {}
      },
      "source": [
        "new_dir = \"/content/gdrive/My Drive/Part IV Project/Colab Testing Structure/AV_basic_ablation_output/\"\n",
        "if not os.path.isdir(new_dir):\n",
        "  os.mkdir(new_dir)"
      ],
      "execution_count": 0,
      "outputs": []
    },
    {
      "cell_type": "code",
      "metadata": {
        "id": "GCKHbIkTRwVD",
        "colab_type": "code",
        "colab": {}
      },
      "source": [
        "!cp $fname \"{new_dir}{fname}\""
      ],
      "execution_count": 0,
      "outputs": []
    },
    {
      "cell_type": "code",
      "metadata": {
        "id": "WHfdNsBjbDIu",
        "colab_type": "code",
        "outputId": "bb79f921-5c9a-4bfc-f5cb-cf1118cd2daf",
        "colab": {
          "base_uri": "https://localhost:8080/",
          "height": 1000
        }
      },
      "source": [
        "model.summary()"
      ],
      "execution_count": 36,
      "outputs": [
        {
          "output_type": "stream",
          "text": [
            "Model: \"sequential_3\"\n",
            "_________________________________________________________________\n",
            "Layer (type)                 Output Shape              Param #   \n",
            "=================================================================\n",
            "input_layer (Conv2D)         (None, 298, 257, 96)      1440      \n",
            "_________________________________________________________________\n",
            "batch_normalization_31 (Batc (None, 298, 257, 96)      384       \n",
            "_________________________________________________________________\n",
            "activation_31 (Activation)   (None, 298, 257, 96)      0         \n",
            "_________________________________________________________________\n",
            "conv2d_29 (Conv2D)           (None, 298, 257, 96)      64608     \n",
            "_________________________________________________________________\n",
            "batch_normalization_32 (Batc (None, 298, 257, 96)      384       \n",
            "_________________________________________________________________\n",
            "activation_32 (Activation)   (None, 298, 257, 96)      0         \n",
            "_________________________________________________________________\n",
            "conv2d_30 (Conv2D)           (None, 298, 257, 96)      230496    \n",
            "_________________________________________________________________\n",
            "batch_normalization_33 (Batc (None, 298, 257, 96)      384       \n",
            "_________________________________________________________________\n",
            "activation_33 (Activation)   (None, 298, 257, 96)      0         \n",
            "_________________________________________________________________\n",
            "conv2d_31 (Conv2D)           (None, 298, 257, 96)      230496    \n",
            "_________________________________________________________________\n",
            "batch_normalization_34 (Batc (None, 298, 257, 96)      384       \n",
            "_________________________________________________________________\n",
            "activation_34 (Activation)   (None, 298, 257, 96)      0         \n",
            "_________________________________________________________________\n",
            "conv2d_32 (Conv2D)           (None, 298, 257, 96)      230496    \n",
            "_________________________________________________________________\n",
            "batch_normalization_35 (Batc (None, 298, 257, 96)      384       \n",
            "_________________________________________________________________\n",
            "activation_35 (Activation)   (None, 298, 257, 96)      0         \n",
            "_________________________________________________________________\n",
            "conv2d_33 (Conv2D)           (None, 298, 257, 96)      230496    \n",
            "_________________________________________________________________\n",
            "batch_normalization_36 (Batc (None, 298, 257, 96)      384       \n",
            "_________________________________________________________________\n",
            "activation_36 (Activation)   (None, 298, 257, 96)      0         \n",
            "_________________________________________________________________\n",
            "conv2d_34 (Conv2D)           (None, 298, 257, 96)      230496    \n",
            "_________________________________________________________________\n",
            "batch_normalization_37 (Batc (None, 298, 257, 96)      384       \n",
            "_________________________________________________________________\n",
            "activation_37 (Activation)   (None, 298, 257, 96)      0         \n",
            "_________________________________________________________________\n",
            "conv2d_35 (Conv2D)           (None, 298, 257, 96)      230496    \n",
            "_________________________________________________________________\n",
            "batch_normalization_38 (Batc (None, 298, 257, 96)      384       \n",
            "_________________________________________________________________\n",
            "activation_38 (Activation)   (None, 298, 257, 96)      0         \n",
            "_________________________________________________________________\n",
            "conv2d_36 (Conv2D)           (None, 298, 257, 96)      230496    \n",
            "_________________________________________________________________\n",
            "batch_normalization_39 (Batc (None, 298, 257, 96)      384       \n",
            "_________________________________________________________________\n",
            "activation_39 (Activation)   (None, 298, 257, 96)      0         \n",
            "_________________________________________________________________\n",
            "conv2d_37 (Conv2D)           (None, 298, 257, 96)      230496    \n",
            "_________________________________________________________________\n",
            "batch_normalization_40 (Batc (None, 298, 257, 96)      384       \n",
            "_________________________________________________________________\n",
            "activation_40 (Activation)   (None, 298, 257, 96)      0         \n",
            "_________________________________________________________________\n",
            "conv2d_38 (Conv2D)           (None, 298, 257, 96)      230496    \n",
            "_________________________________________________________________\n",
            "batch_normalization_41 (Batc (None, 298, 257, 96)      384       \n",
            "_________________________________________________________________\n",
            "activation_41 (Activation)   (None, 298, 257, 96)      0         \n",
            "_________________________________________________________________\n",
            "conv2d_39 (Conv2D)           (None, 298, 257, 96)      230496    \n",
            "_________________________________________________________________\n",
            "batch_normalization_42 (Batc (None, 298, 257, 96)      384       \n",
            "_________________________________________________________________\n",
            "activation_42 (Activation)   (None, 298, 257, 96)      0         \n",
            "_________________________________________________________________\n",
            "conv2d_40 (Conv2D)           (None, 298, 257, 96)      230496    \n",
            "_________________________________________________________________\n",
            "batch_normalization_43 (Batc (None, 298, 257, 96)      384       \n",
            "_________________________________________________________________\n",
            "activation_43 (Activation)   (None, 298, 257, 96)      0         \n",
            "_________________________________________________________________\n",
            "conv2d_41 (Conv2D)           (None, 298, 257, 96)      230496    \n",
            "_________________________________________________________________\n",
            "batch_normalization_44 (Batc (None, 298, 257, 96)      384       \n",
            "_________________________________________________________________\n",
            "activation_44 (Activation)   (None, 298, 257, 96)      0         \n",
            "_________________________________________________________________\n",
            "conv2d_42 (Conv2D)           (None, 298, 257, 8)       776       \n",
            "_________________________________________________________________\n",
            "batch_normalization_45 (Batc (None, 298, 257, 8)       32        \n",
            "_________________________________________________________________\n",
            "activation_45 (Activation)   (None, 298, 257, 8)       0         \n",
            "_________________________________________________________________\n",
            "time_distributed_3 (TimeDist (None, 298, 2056)         0         \n",
            "_________________________________________________________________\n",
            "bidirectional_3 (Bidirection (None, 298, 400)          3611200   \n",
            "_________________________________________________________________\n",
            "dense_9 (Dense)              (None, 298, 600)          240600    \n",
            "_________________________________________________________________\n",
            "dense_10 (Dense)             (None, 298, 600)          360600    \n",
            "_________________________________________________________________\n",
            "dense_11 (Dense)             (None, 298, 600)          360600    \n",
            "_________________________________________________________________\n",
            "dense_12 (Dense)             (None, 298, 1028)         617828    \n",
            "_________________________________________________________________\n",
            "output_layer (Reshape)       (None, 298, 257, 2, 2)    0         \n",
            "=================================================================\n",
            "Total params: 8,029,012\n",
            "Trainable params: 8,026,308\n",
            "Non-trainable params: 2,704\n",
            "_________________________________________________________________\n"
          ],
          "name": "stdout"
        }
      ]
    }
  ]
}