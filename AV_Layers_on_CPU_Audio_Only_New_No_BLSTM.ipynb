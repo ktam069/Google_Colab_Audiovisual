{
  "nbformat": 4,
  "nbformat_minor": 0,
  "metadata": {
    "colab": {
      "name": "AV Layers on CPU - Audio Only New No-BLSTM.ipynb",
      "provenance": [],
      "collapsed_sections": [],
      "include_colab_link": true
    },
    "kernelspec": {
      "name": "python3",
      "display_name": "Python 3"
    }
  },
  "cells": [
    {
      "cell_type": "markdown",
      "metadata": {
        "id": "view-in-github",
        "colab_type": "text"
      },
      "source": [
        "<a href=\"https://colab.research.google.com/github/ktam069/Google_Colab_Audiovisual/blob/master/AV_Layers_on_CPU_Audio_Only_New_No_BLSTM.ipynb\" target=\"_parent\"><img src=\"https://colab.research.google.com/assets/colab-badge.svg\" alt=\"Open In Colab\"/></a>"
      ]
    },
    {
      "cell_type": "markdown",
      "metadata": {
        "id": "h_cynixGXYa-",
        "colab_type": "text"
      },
      "source": [
        "Connect to Google Drive to access npy dataset of audio input for training/testing"
      ]
    },
    {
      "cell_type": "code",
      "metadata": {
        "id": "RwOkfpDuXN_I",
        "colab_type": "code",
        "outputId": "c6c39e84-f42c-4063-85da-0371772d6640",
        "colab": {
          "base_uri": "https://localhost:8080/",
          "height": 121
        }
      },
      "source": [
        "from google.colab import drive \n",
        "drive.mount('/content/gdrive') "
      ],
      "execution_count": 1,
      "outputs": [
        {
          "output_type": "stream",
          "text": [
            "Go to this URL in a browser: https://accounts.google.com/o/oauth2/auth?client_id=947318989803-6bn6qk8qdgf4n4g3pfee6491hc0brc4i.apps.googleusercontent.com&redirect_uri=urn%3Aietf%3Awg%3Aoauth%3A2.0%3Aoob&scope=email%20https%3A%2F%2Fwww.googleapis.com%2Fauth%2Fdocs.test%20https%3A%2F%2Fwww.googleapis.com%2Fauth%2Fdrive%20https%3A%2F%2Fwww.googleapis.com%2Fauth%2Fdrive.photos.readonly%20https%3A%2F%2Fwww.googleapis.com%2Fauth%2Fpeopleapi.readonly&response_type=code\n",
            "\n",
            "Enter your authorization code:\n",
            "··········\n",
            "Mounted at /content/gdrive\n"
          ],
          "name": "stdout"
        }
      ]
    },
    {
      "cell_type": "code",
      "metadata": {
        "id": "t-VSebCUfYZ7",
        "colab_type": "code",
        "colab": {}
      },
      "source": [
        "# Main program - Part IV Project 80 Basic Version\n",
        "\n",
        "# import pandas as pd\n",
        "import numpy as np\n",
        "import matplotlib.pyplot as plt\n",
        "import librosa\n",
        "from scipy.io import wavfile"
      ],
      "execution_count": 0,
      "outputs": []
    },
    {
      "cell_type": "code",
      "metadata": {
        "id": "alYFRe80gYU0",
        "colab_type": "code",
        "colab": {}
      },
      "source": [
        "import tensorflow as tf\n",
        "from tensorflow.keras.models import Sequential, load_model\n",
        "from tensorflow.keras.layers import Input, Dense, Conv2D, LSTM, Bidirectional\n",
        "from tensorflow.keras.layers import BatchNormalization, Activation, Flatten, TimeDistributed, Reshape\n",
        "from tensorflow.keras.callbacks import ModelCheckpoint"
      ],
      "execution_count": 0,
      "outputs": []
    },
    {
      "cell_type": "code",
      "metadata": {
        "id": "Dp7FLs_3gZ7b",
        "colab_type": "code",
        "colab": {}
      },
      "source": [
        "import os\n",
        "# import sys\n",
        "import glob\n",
        "from datetime import datetime"
      ],
      "execution_count": 0,
      "outputs": []
    },
    {
      "cell_type": "code",
      "metadata": {
        "id": "JvHnxt-Wf7H8",
        "colab_type": "code",
        "outputId": "d42711ba-f726-40ff-8af1-9b8b9dd7407b",
        "colab": {
          "base_uri": "https://localhost:8080/",
          "height": 1000
        }
      },
      "source": [
        "# Main program - Part IV Project 80 Basic Version\n",
        "\n",
        "# import pandas as pd\n",
        "import numpy as np\n",
        "import matplotlib.pyplot as plt\n",
        "import librosa\n",
        "from scipy.io import wavfile\n",
        "\n",
        "import tensorflow as tf\n",
        "from keras.models import Sequential, load_model, Model\n",
        "from keras.layers import Input, Dense, Conv2D, LSTM, Bidirectional\n",
        "from keras.layers import BatchNormalization, Activation, Flatten, TimeDistributed, Reshape\n",
        "from keras.callbacks import ModelCheckpoint\n",
        "from keras.layers import concatenate\n",
        "from keras.layers import Lambda\n",
        "\n",
        "import os\n",
        "# import sys\n",
        "import glob\n",
        "from datetime import datetime\n",
        "\n",
        "# ===== Settings =====\n",
        "\n",
        "# Display options\n",
        "PRINT_DATA = False\n",
        "DISPLAY_GRAPHS = False\n",
        "\n",
        "# Data transformation/processing\n",
        "NORMALISE_DATA = False\n",
        "POWER_ENCODE = True\n",
        "\n",
        "# Use float32 format for dataset ndarrays\n",
        "USE_FLOAT32 = True\n",
        "\n",
        "# Range of data to use for training (excludes END_ID)\n",
        "START_ID = 0\n",
        "END_ID = 21\n",
        "\n",
        "# Sampling rate\n",
        "SAMPLING_RATE = 16000\n",
        "\n",
        "# Filepaths to the locations for input audio-visual files\n",
        "# path_to_data = \"./data/\"\n",
        "path_to_data_audio = \"./data/audio/audio_train/\"\n",
        "path_to_data_video = \"./data/video/face_input/\"\n",
        "# audio_data_name = \"trim_audio_train%d.wav\"\n",
        "\n",
        "# Filepaths to the locations for saved data and models\n",
        "path_to_models = \"./saved_models/\"\n",
        "path_to_saved_datasets = \"./dataset_npy/\"\n",
        "path_to_outputs = \"./output_wavs/\"\n",
        "\n",
        "# ====================\n",
        "\n",
        "'''def convolution_model(num_speakers=2):'''\n",
        "\n",
        "num_speakers=2\n",
        "\n",
        "# == Audio convolution layers ==\n",
        "\n",
        "# Input layer for functional model\n",
        "audio_inputs = Input(shape=(298, 257, 2))\n",
        "\n",
        "# Convolution layers\n",
        "model = Conv2D(96, kernel_size=(1,7), padding='same', dilation_rate=(1,1))(audio_inputs)\n",
        "model = BatchNormalization()(model)\n",
        "model = Activation(\"relu\")(model)\n",
        "\n",
        "model = Conv2D(96, kernel_size=(7,1), padding='same', dilation_rate=(1,1))(model)\n",
        "model = BatchNormalization()(model)\n",
        "model = Activation(\"relu\")(model)\n",
        "\n",
        "model = Conv2D(96, kernel_size=(5,5), padding='same', dilation_rate=(1,1))(model)\n",
        "model = BatchNormalization()(model)\n",
        "model = Activation(\"relu\")(model)\n",
        "\n",
        "model = Conv2D(96, kernel_size=(5,5), padding='same', dilation_rate=(2,1))(model)\n",
        "model = BatchNormalization()(model)\n",
        "model = Activation(\"relu\")(model)\n",
        "\n",
        "model = Conv2D(96, kernel_size=(5,5), padding='same', dilation_rate=(4,1))(model)\n",
        "model = BatchNormalization()(model)\n",
        "model = Activation(\"relu\")(model)\n",
        "\n",
        "model = Conv2D(96, kernel_size=(5,5), padding='same', dilation_rate=(8,1))(model)\n",
        "model = BatchNormalization()(model)\n",
        "model = Activation(\"relu\")(model)\n",
        "\n",
        "model = Conv2D(96, kernel_size=(5,5), padding='same', dilation_rate=(16,1))(model)\n",
        "model = BatchNormalization()(model)\n",
        "model = Activation(\"relu\")(model)\n",
        "\n",
        "model = Conv2D(96, kernel_size=(5,5), padding='same', dilation_rate=(32,1))(model)\n",
        "model = BatchNormalization()(model)\n",
        "model = Activation(\"relu\")(model)\n",
        "\n",
        "model = Conv2D(96, kernel_size=(5,5), padding='same', dilation_rate=(1,1))(model)\n",
        "model = BatchNormalization()(model)\n",
        "model = Activation(\"relu\")(model)\n",
        "\n",
        "model = Conv2D(96, kernel_size=(5,5), padding='same', dilation_rate=(2,2))(model)\n",
        "model = BatchNormalization()(model)\n",
        "model = Activation(\"relu\")(model)\n",
        "\n",
        "model = Conv2D(96, kernel_size=(5,5), padding='same', dilation_rate=(4,4))(model)\n",
        "model = BatchNormalization()(model)\n",
        "model = Activation(\"relu\")(model)\n",
        "\n",
        "model = Conv2D(96, kernel_size=(5,5), padding='same', dilation_rate=(8,8))(model)\n",
        "model = BatchNormalization()(model)\n",
        "model = Activation(\"relu\")(model)\n",
        "\n",
        "model = Conv2D(96, kernel_size=(5,5), padding='same', dilation_rate=(16,16))(model)\n",
        "model = BatchNormalization()(model)\n",
        "model = Activation(\"relu\")(model)\n",
        "\n",
        "model = Conv2D(96, kernel_size=(5,5), padding='same', dilation_rate=(32,32))(model)\n",
        "model = BatchNormalization()(model)\n",
        "model = Activation(\"relu\")(model)\n",
        "\n",
        "model = Conv2D(8, kernel_size=(1,1), padding='same', dilation_rate=(1,1))(model)\n",
        "model = BatchNormalization()(model)\n",
        "model = Activation(\"relu\")(model)\n",
        "\n",
        "audio_outputs = Reshape((298, 8*257))(model)\n",
        "\n",
        "audio_model = Model(audio_inputs, audio_outputs)\n",
        "'''\n",
        "# == AV fused neural network ==\n",
        "\n",
        "fused_model = concatenate([audio_outputs]+visual_outputs_list, axis=2)\n",
        "\n",
        "# AV fusion step(s)\n",
        "fused_model = TimeDistributed(Flatten())(fused_model)\n",
        "'''\n",
        "\n",
        "# BLSTM\n",
        "new_matrix_length = 400\n",
        "#fused_model = Bidirectional(LSTM(new_matrix_length//2, return_sequences=True, input_shape=(298, 257*8)))(audio_outputs)\n",
        "#fused_model = Bidirectional(LSTM(new_matrix_length//2, return_sequences=True, input_shape=(298, 257*8 + 256*num_speakers)))(fused_model)\n",
        "\n",
        "# Fully connected layers\n",
        "fused_model = Dense(600, activation=\"relu\")(audio_outputs)\n",
        "fused_model = Dense(600, activation=\"relu\")(fused_model)\n",
        "fused_model = Dense(600, activation=\"relu\")(fused_model)\n",
        "\n",
        "# Output layer (i.e. complex masks)\n",
        "fused_model = Dense(257*2*num_speakers, activation=\"sigmoid\")(fused_model)\t\t\t\t# TODO: check if this is more correct (based on the paper)\n",
        "outputs_complex_masks = Reshape((298, 257, 2, num_speakers), name=\"output_layer\")(fused_model)\n",
        "\n",
        "#av_model = Model(inputs=[audio_inputs]+visual_inputs_list, outputs=outputs_complex_masks)\n",
        "av_model = Model(inputs=audio_inputs, outputs=outputs_complex_masks)\n",
        "\n",
        "model = av_model\n",
        "\n",
        "# Print the output shapes of each model layer\n",
        "for layer in model.layers:\n",
        "  name = layer.get_config()[\"name\"]\n",
        "  if \"batch_normal\" in name or \"activation\" in name:\n",
        "    continue\n",
        "  print(layer.output_shape, \"\\t\", name)\n",
        "\n",
        "# Alternatively, print the default keras model summary\n",
        "model.summary()\n",
        "\n",
        "# Compile the model before training\n",
        "model.compile(optimizer='adam', loss='mse', metrics=['accuracy'])\n"
      ],
      "execution_count": 5,
      "outputs": [
        {
          "output_type": "stream",
          "text": [
            "WARNING:tensorflow:From /usr/local/lib/python3.6/dist-packages/keras/backend/tensorflow_backend.py:66: The name tf.get_default_graph is deprecated. Please use tf.compat.v1.get_default_graph instead.\n",
            "\n",
            "WARNING:tensorflow:From /usr/local/lib/python3.6/dist-packages/keras/backend/tensorflow_backend.py:541: The name tf.placeholder is deprecated. Please use tf.compat.v1.placeholder instead.\n",
            "\n",
            "WARNING:tensorflow:From /usr/local/lib/python3.6/dist-packages/keras/backend/tensorflow_backend.py:4432: The name tf.random_uniform is deprecated. Please use tf.random.uniform instead.\n",
            "\n"
          ],
          "name": "stdout"
        },
        {
          "output_type": "stream",
          "text": [
            "Using TensorFlow backend.\n"
          ],
          "name": "stderr"
        },
        {
          "output_type": "stream",
          "text": [
            "WARNING:tensorflow:From /usr/local/lib/python3.6/dist-packages/keras/backend/tensorflow_backend.py:190: The name tf.get_default_session is deprecated. Please use tf.compat.v1.get_default_session instead.\n",
            "\n",
            "WARNING:tensorflow:From /usr/local/lib/python3.6/dist-packages/keras/backend/tensorflow_backend.py:197: The name tf.ConfigProto is deprecated. Please use tf.compat.v1.ConfigProto instead.\n",
            "\n",
            "WARNING:tensorflow:From /usr/local/lib/python3.6/dist-packages/keras/backend/tensorflow_backend.py:2041: The name tf.nn.fused_batch_norm is deprecated. Please use tf.compat.v1.nn.fused_batch_norm instead.\n",
            "\n",
            "(None, 298, 257, 2) \t input_1\n",
            "(None, 298, 257, 96) \t conv2d_1\n",
            "(None, 298, 257, 96) \t conv2d_2\n",
            "(None, 298, 257, 96) \t conv2d_3\n",
            "(None, 298, 257, 96) \t conv2d_4\n",
            "(None, 298, 257, 96) \t conv2d_5\n",
            "(None, 298, 257, 96) \t conv2d_6\n",
            "(None, 298, 257, 96) \t conv2d_7\n",
            "(None, 298, 257, 96) \t conv2d_8\n",
            "(None, 298, 257, 96) \t conv2d_9\n",
            "(None, 298, 257, 96) \t conv2d_10\n",
            "(None, 298, 257, 96) \t conv2d_11\n",
            "(None, 298, 257, 96) \t conv2d_12\n",
            "(None, 298, 257, 96) \t conv2d_13\n",
            "(None, 298, 257, 96) \t conv2d_14\n",
            "(None, 298, 257, 8) \t conv2d_15\n",
            "(None, 298, 2056) \t reshape_1\n",
            "(None, 298, 600) \t dense_1\n",
            "(None, 298, 600) \t dense_2\n",
            "(None, 298, 600) \t dense_3\n",
            "(None, 298, 1028) \t dense_4\n",
            "(None, 298, 257, 2, 2) \t output_layer\n",
            "Model: \"model_2\"\n",
            "_________________________________________________________________\n",
            "Layer (type)                 Output Shape              Param #   \n",
            "=================================================================\n",
            "input_1 (InputLayer)         (None, 298, 257, 2)       0         \n",
            "_________________________________________________________________\n",
            "conv2d_1 (Conv2D)            (None, 298, 257, 96)      1440      \n",
            "_________________________________________________________________\n",
            "batch_normalization_1 (Batch (None, 298, 257, 96)      384       \n",
            "_________________________________________________________________\n",
            "activation_1 (Activation)    (None, 298, 257, 96)      0         \n",
            "_________________________________________________________________\n",
            "conv2d_2 (Conv2D)            (None, 298, 257, 96)      64608     \n",
            "_________________________________________________________________\n",
            "batch_normalization_2 (Batch (None, 298, 257, 96)      384       \n",
            "_________________________________________________________________\n",
            "activation_2 (Activation)    (None, 298, 257, 96)      0         \n",
            "_________________________________________________________________\n",
            "conv2d_3 (Conv2D)            (None, 298, 257, 96)      230496    \n",
            "_________________________________________________________________\n",
            "batch_normalization_3 (Batch (None, 298, 257, 96)      384       \n",
            "_________________________________________________________________\n",
            "activation_3 (Activation)    (None, 298, 257, 96)      0         \n",
            "_________________________________________________________________\n",
            "conv2d_4 (Conv2D)            (None, 298, 257, 96)      230496    \n",
            "_________________________________________________________________\n",
            "batch_normalization_4 (Batch (None, 298, 257, 96)      384       \n",
            "_________________________________________________________________\n",
            "activation_4 (Activation)    (None, 298, 257, 96)      0         \n",
            "_________________________________________________________________\n",
            "conv2d_5 (Conv2D)            (None, 298, 257, 96)      230496    \n",
            "_________________________________________________________________\n",
            "batch_normalization_5 (Batch (None, 298, 257, 96)      384       \n",
            "_________________________________________________________________\n",
            "activation_5 (Activation)    (None, 298, 257, 96)      0         \n",
            "_________________________________________________________________\n",
            "conv2d_6 (Conv2D)            (None, 298, 257, 96)      230496    \n",
            "_________________________________________________________________\n",
            "batch_normalization_6 (Batch (None, 298, 257, 96)      384       \n",
            "_________________________________________________________________\n",
            "activation_6 (Activation)    (None, 298, 257, 96)      0         \n",
            "_________________________________________________________________\n",
            "conv2d_7 (Conv2D)            (None, 298, 257, 96)      230496    \n",
            "_________________________________________________________________\n",
            "batch_normalization_7 (Batch (None, 298, 257, 96)      384       \n",
            "_________________________________________________________________\n",
            "activation_7 (Activation)    (None, 298, 257, 96)      0         \n",
            "_________________________________________________________________\n",
            "conv2d_8 (Conv2D)            (None, 298, 257, 96)      230496    \n",
            "_________________________________________________________________\n",
            "batch_normalization_8 (Batch (None, 298, 257, 96)      384       \n",
            "_________________________________________________________________\n",
            "activation_8 (Activation)    (None, 298, 257, 96)      0         \n",
            "_________________________________________________________________\n",
            "conv2d_9 (Conv2D)            (None, 298, 257, 96)      230496    \n",
            "_________________________________________________________________\n",
            "batch_normalization_9 (Batch (None, 298, 257, 96)      384       \n",
            "_________________________________________________________________\n",
            "activation_9 (Activation)    (None, 298, 257, 96)      0         \n",
            "_________________________________________________________________\n",
            "conv2d_10 (Conv2D)           (None, 298, 257, 96)      230496    \n",
            "_________________________________________________________________\n",
            "batch_normalization_10 (Batc (None, 298, 257, 96)      384       \n",
            "_________________________________________________________________\n",
            "activation_10 (Activation)   (None, 298, 257, 96)      0         \n",
            "_________________________________________________________________\n",
            "conv2d_11 (Conv2D)           (None, 298, 257, 96)      230496    \n",
            "_________________________________________________________________\n",
            "batch_normalization_11 (Batc (None, 298, 257, 96)      384       \n",
            "_________________________________________________________________\n",
            "activation_11 (Activation)   (None, 298, 257, 96)      0         \n",
            "_________________________________________________________________\n",
            "conv2d_12 (Conv2D)           (None, 298, 257, 96)      230496    \n",
            "_________________________________________________________________\n",
            "batch_normalization_12 (Batc (None, 298, 257, 96)      384       \n",
            "_________________________________________________________________\n",
            "activation_12 (Activation)   (None, 298, 257, 96)      0         \n",
            "_________________________________________________________________\n",
            "conv2d_13 (Conv2D)           (None, 298, 257, 96)      230496    \n",
            "_________________________________________________________________\n",
            "batch_normalization_13 (Batc (None, 298, 257, 96)      384       \n",
            "_________________________________________________________________\n",
            "activation_13 (Activation)   (None, 298, 257, 96)      0         \n",
            "_________________________________________________________________\n",
            "conv2d_14 (Conv2D)           (None, 298, 257, 96)      230496    \n",
            "_________________________________________________________________\n",
            "batch_normalization_14 (Batc (None, 298, 257, 96)      384       \n",
            "_________________________________________________________________\n",
            "activation_14 (Activation)   (None, 298, 257, 96)      0         \n",
            "_________________________________________________________________\n",
            "conv2d_15 (Conv2D)           (None, 298, 257, 8)       776       \n",
            "_________________________________________________________________\n",
            "batch_normalization_15 (Batc (None, 298, 257, 8)       32        \n",
            "_________________________________________________________________\n",
            "activation_15 (Activation)   (None, 298, 257, 8)       0         \n",
            "_________________________________________________________________\n",
            "reshape_1 (Reshape)          (None, 298, 2056)         0         \n",
            "_________________________________________________________________\n",
            "dense_1 (Dense)              (None, 298, 600)          1234200   \n",
            "_________________________________________________________________\n",
            "dense_2 (Dense)              (None, 298, 600)          360600    \n",
            "_________________________________________________________________\n",
            "dense_3 (Dense)              (None, 298, 600)          360600    \n",
            "_________________________________________________________________\n",
            "dense_4 (Dense)              (None, 298, 1028)         617828    \n",
            "_________________________________________________________________\n",
            "output_layer (Reshape)       (None, 298, 257, 2, 2)    0         \n",
            "=================================================================\n",
            "Total params: 5,411,412\n",
            "Trainable params: 5,408,708\n",
            "Non-trainable params: 2,704\n",
            "_________________________________________________________________\n",
            "WARNING:tensorflow:From /usr/local/lib/python3.6/dist-packages/keras/optimizers.py:793: The name tf.train.Optimizer is deprecated. Please use tf.compat.v1.train.Optimizer instead.\n",
            "\n"
          ],
          "name": "stdout"
        }
      ]
    },
    {
      "cell_type": "code",
      "metadata": {
        "id": "dxPWMQU598ZB",
        "colab_type": "code",
        "colab": {}
      },
      "source": [
        "!cp '/content/gdrive/My Drive/Part IV Project/Colab Notebooks/dataset_npy/dataset_train_0-20.npy' \"dataset_train_0-20.npy\""
      ],
      "execution_count": 0,
      "outputs": []
    },
    {
      "cell_type": "code",
      "metadata": {
        "id": "R85Ber8d9Q8F",
        "colab_type": "code",
        "outputId": "74a74a8b-6ece-48cf-88b8-2f8eb0382bd6",
        "colab": {
          "base_uri": "https://localhost:8080/",
          "height": 34
        }
      },
      "source": [
        "!ls"
      ],
      "execution_count": 7,
      "outputs": [
        {
          "output_type": "stream",
          "text": [
            "dataset_train_0-20.npy\tgdrive\tsample_data\n"
          ],
          "name": "stdout"
        }
      ]
    },
    {
      "cell_type": "code",
      "metadata": {
        "id": "d4MDX9rvQrQN",
        "colab_type": "code",
        "colab": {}
      },
      "source": [
        "dataset_train = np.load(\"dataset_train_0-20.npy\")"
      ],
      "execution_count": 0,
      "outputs": []
    },
    {
      "cell_type": "code",
      "metadata": {
        "id": "hLSIZa8xQ8pl",
        "colab_type": "code",
        "colab": {}
      },
      "source": [
        "# Split dataset into inputs and ground truths\n",
        "x_train = dataset_train[:,:,:,:,0 ]\n",
        "y_train = dataset_train[:,:,:,:,1:]\n",
        "\n",
        "\n",
        "x_visual = np.random.rand(len(x_train), 75, 1, 1024)"
      ],
      "execution_count": 0,
      "outputs": []
    },
    {
      "cell_type": "code",
      "metadata": {
        "id": "fZZ005CSRcbv",
        "colab_type": "code",
        "colab": {}
      },
      "source": [
        "import time"
      ],
      "execution_count": 0,
      "outputs": []
    },
    {
      "cell_type": "code",
      "metadata": {
        "id": "RzJ9pwEkQ8lD",
        "colab_type": "code",
        "outputId": "5b49fff5-268d-4852-a489-0aa19e2138df",
        "colab": {
          "base_uri": "https://localhost:8080/",
          "height": 255
        }
      },
      "source": [
        "times = []\n",
        "num_tests = 10\n",
        "\n",
        "for i in range(num_tests):\n",
        "\t'''Predict data'''\n",
        "\tstart_time = time.time()\n",
        "\tmodel.predict(x_train[i:i+1])\n",
        "\t#model.predict([x_train[i:i+1], x_visual[i:i+1], x_visual[i:i+1]])\n",
        "\tend_time = time.time()\n",
        "\truntime = end_time-start_time\n",
        "\ttimes.append(runtime)\n",
        "\tprint(\"Time taken for run %d:\"%(i+1), runtime)\n",
        "\n",
        "avg = sum(times) / len(times)\n",
        "print(\"Number of test:\", len(times))\n",
        "print(\"Test times:\", times)\n",
        "print(\"Average running time:\", avg)"
      ],
      "execution_count": 11,
      "outputs": [
        {
          "output_type": "stream",
          "text": [
            "Time taken for run 1: 9.989573955535889\n",
            "Time taken for run 2: 8.983484268188477\n",
            "Time taken for run 3: 8.929942607879639\n",
            "Time taken for run 4: 8.875057458877563\n",
            "Time taken for run 5: 8.849822282791138\n",
            "Time taken for run 6: 8.854581594467163\n",
            "Time taken for run 7: 8.853958129882812\n",
            "Time taken for run 8: 8.849849939346313\n",
            "Time taken for run 9: 8.861534833908081\n",
            "Time taken for run 10: 8.845499992370605\n",
            "Number of test: 10\n",
            "Test times: [9.989573955535889, 8.983484268188477, 8.929942607879639, 8.875057458877563, 8.849822282791138, 8.854581594467163, 8.853958129882812, 8.849849939346313, 8.861534833908081, 8.845499992370605]\n",
            "Average running time: 8.989330506324768\n"
          ],
          "name": "stdout"
        }
      ]
    },
    {
      "cell_type": "code",
      "metadata": {
        "id": "K-HWsM0rRCzA",
        "colab_type": "code",
        "colab": {}
      },
      "source": [
        "fname = \"ablation_basic_times_ao_noBLSTM_updated.csv\"\n",
        "np.savetxt(fname, times, delimiter=\",\")"
      ],
      "execution_count": 0,
      "outputs": []
    },
    {
      "cell_type": "code",
      "metadata": {
        "id": "jQNPnhVIR9oZ",
        "colab_type": "code",
        "colab": {}
      },
      "source": [
        "new_dir = \"/content/gdrive/My Drive/Part IV Project/Colab Testing Structure/AV_basic_ablation_output/\"\n",
        "if not os.path.isdir(new_dir):\n",
        "  os.mkdir(new_dir)"
      ],
      "execution_count": 0,
      "outputs": []
    },
    {
      "cell_type": "code",
      "metadata": {
        "id": "GCKHbIkTRwVD",
        "colab_type": "code",
        "colab": {}
      },
      "source": [
        "!cp $fname \"{new_dir}{fname}\""
      ],
      "execution_count": 0,
      "outputs": []
    },
    {
      "cell_type": "code",
      "metadata": {
        "id": "WHfdNsBjbDIu",
        "colab_type": "code",
        "outputId": "2f31b7a9-4ba1-4a8a-f1d5-25bd54818a05",
        "colab": {
          "base_uri": "https://localhost:8080/",
          "height": 1000
        }
      },
      "source": [
        "model.summary()"
      ],
      "execution_count": 15,
      "outputs": [
        {
          "output_type": "stream",
          "text": [
            "Model: \"model_2\"\n",
            "_________________________________________________________________\n",
            "Layer (type)                 Output Shape              Param #   \n",
            "=================================================================\n",
            "input_1 (InputLayer)         (None, 298, 257, 2)       0         \n",
            "_________________________________________________________________\n",
            "conv2d_1 (Conv2D)            (None, 298, 257, 96)      1440      \n",
            "_________________________________________________________________\n",
            "batch_normalization_1 (Batch (None, 298, 257, 96)      384       \n",
            "_________________________________________________________________\n",
            "activation_1 (Activation)    (None, 298, 257, 96)      0         \n",
            "_________________________________________________________________\n",
            "conv2d_2 (Conv2D)            (None, 298, 257, 96)      64608     \n",
            "_________________________________________________________________\n",
            "batch_normalization_2 (Batch (None, 298, 257, 96)      384       \n",
            "_________________________________________________________________\n",
            "activation_2 (Activation)    (None, 298, 257, 96)      0         \n",
            "_________________________________________________________________\n",
            "conv2d_3 (Conv2D)            (None, 298, 257, 96)      230496    \n",
            "_________________________________________________________________\n",
            "batch_normalization_3 (Batch (None, 298, 257, 96)      384       \n",
            "_________________________________________________________________\n",
            "activation_3 (Activation)    (None, 298, 257, 96)      0         \n",
            "_________________________________________________________________\n",
            "conv2d_4 (Conv2D)            (None, 298, 257, 96)      230496    \n",
            "_________________________________________________________________\n",
            "batch_normalization_4 (Batch (None, 298, 257, 96)      384       \n",
            "_________________________________________________________________\n",
            "activation_4 (Activation)    (None, 298, 257, 96)      0         \n",
            "_________________________________________________________________\n",
            "conv2d_5 (Conv2D)            (None, 298, 257, 96)      230496    \n",
            "_________________________________________________________________\n",
            "batch_normalization_5 (Batch (None, 298, 257, 96)      384       \n",
            "_________________________________________________________________\n",
            "activation_5 (Activation)    (None, 298, 257, 96)      0         \n",
            "_________________________________________________________________\n",
            "conv2d_6 (Conv2D)            (None, 298, 257, 96)      230496    \n",
            "_________________________________________________________________\n",
            "batch_normalization_6 (Batch (None, 298, 257, 96)      384       \n",
            "_________________________________________________________________\n",
            "activation_6 (Activation)    (None, 298, 257, 96)      0         \n",
            "_________________________________________________________________\n",
            "conv2d_7 (Conv2D)            (None, 298, 257, 96)      230496    \n",
            "_________________________________________________________________\n",
            "batch_normalization_7 (Batch (None, 298, 257, 96)      384       \n",
            "_________________________________________________________________\n",
            "activation_7 (Activation)    (None, 298, 257, 96)      0         \n",
            "_________________________________________________________________\n",
            "conv2d_8 (Conv2D)            (None, 298, 257, 96)      230496    \n",
            "_________________________________________________________________\n",
            "batch_normalization_8 (Batch (None, 298, 257, 96)      384       \n",
            "_________________________________________________________________\n",
            "activation_8 (Activation)    (None, 298, 257, 96)      0         \n",
            "_________________________________________________________________\n",
            "conv2d_9 (Conv2D)            (None, 298, 257, 96)      230496    \n",
            "_________________________________________________________________\n",
            "batch_normalization_9 (Batch (None, 298, 257, 96)      384       \n",
            "_________________________________________________________________\n",
            "activation_9 (Activation)    (None, 298, 257, 96)      0         \n",
            "_________________________________________________________________\n",
            "conv2d_10 (Conv2D)           (None, 298, 257, 96)      230496    \n",
            "_________________________________________________________________\n",
            "batch_normalization_10 (Batc (None, 298, 257, 96)      384       \n",
            "_________________________________________________________________\n",
            "activation_10 (Activation)   (None, 298, 257, 96)      0         \n",
            "_________________________________________________________________\n",
            "conv2d_11 (Conv2D)           (None, 298, 257, 96)      230496    \n",
            "_________________________________________________________________\n",
            "batch_normalization_11 (Batc (None, 298, 257, 96)      384       \n",
            "_________________________________________________________________\n",
            "activation_11 (Activation)   (None, 298, 257, 96)      0         \n",
            "_________________________________________________________________\n",
            "conv2d_12 (Conv2D)           (None, 298, 257, 96)      230496    \n",
            "_________________________________________________________________\n",
            "batch_normalization_12 (Batc (None, 298, 257, 96)      384       \n",
            "_________________________________________________________________\n",
            "activation_12 (Activation)   (None, 298, 257, 96)      0         \n",
            "_________________________________________________________________\n",
            "conv2d_13 (Conv2D)           (None, 298, 257, 96)      230496    \n",
            "_________________________________________________________________\n",
            "batch_normalization_13 (Batc (None, 298, 257, 96)      384       \n",
            "_________________________________________________________________\n",
            "activation_13 (Activation)   (None, 298, 257, 96)      0         \n",
            "_________________________________________________________________\n",
            "conv2d_14 (Conv2D)           (None, 298, 257, 96)      230496    \n",
            "_________________________________________________________________\n",
            "batch_normalization_14 (Batc (None, 298, 257, 96)      384       \n",
            "_________________________________________________________________\n",
            "activation_14 (Activation)   (None, 298, 257, 96)      0         \n",
            "_________________________________________________________________\n",
            "conv2d_15 (Conv2D)           (None, 298, 257, 8)       776       \n",
            "_________________________________________________________________\n",
            "batch_normalization_15 (Batc (None, 298, 257, 8)       32        \n",
            "_________________________________________________________________\n",
            "activation_15 (Activation)   (None, 298, 257, 8)       0         \n",
            "_________________________________________________________________\n",
            "reshape_1 (Reshape)          (None, 298, 2056)         0         \n",
            "_________________________________________________________________\n",
            "dense_1 (Dense)              (None, 298, 600)          1234200   \n",
            "_________________________________________________________________\n",
            "dense_2 (Dense)              (None, 298, 600)          360600    \n",
            "_________________________________________________________________\n",
            "dense_3 (Dense)              (None, 298, 600)          360600    \n",
            "_________________________________________________________________\n",
            "dense_4 (Dense)              (None, 298, 1028)         617828    \n",
            "_________________________________________________________________\n",
            "output_layer (Reshape)       (None, 298, 257, 2, 2)    0         \n",
            "=================================================================\n",
            "Total params: 5,411,412\n",
            "Trainable params: 5,408,708\n",
            "Non-trainable params: 2,704\n",
            "_________________________________________________________________\n"
          ],
          "name": "stdout"
        }
      ]
    }
  ]
}